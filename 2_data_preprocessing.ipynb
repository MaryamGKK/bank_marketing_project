{
 "cells": [
  {
   "cell_type": "markdown",
   "id": "7fb4fbef",
   "metadata": {},
   "source": [
    "# 2) Data Preprocessing - Robust Pipeline"
   ]
  },
  {
   "cell_type": "code",
   "execution_count": 5,
   "id": "ff0246a6",
   "metadata": {},
   "outputs": [],
   "source": [
    "import pandas as pd\n",
    "from sklearn.model_selection import train_test_split\n",
    "from sklearn.preprocessing import StandardScaler, OneHotEncoder\n",
    "from sklearn.compose import ColumnTransformer\n",
    "from sklearn.pipeline import Pipeline\n",
    "from sklearn.impute import SimpleImputer\n",
    "import numpy as np"
   ]
  },
  {
   "cell_type": "markdown",
   "id": "6a0490f3",
   "metadata": {},
   "source": [
    "# 1. Initial Cleaning and Feature Engineering"
   ]
  },
  {
   "cell_type": "code",
   "execution_count": 6,
   "id": "e3aea5f2",
   "metadata": {},
   "outputs": [],
   "source": [
    "# Load the dataset\n",
    "df = pd.read_csv('./data/bank-additional-full.csv', sep=';')\n",
    "\n",
    "# Standardize column names\n",
    "df.columns = df.columns.str.replace('.', '_').str.replace('-', '_')\n",
    "\n",
    "# Drop the 'duration' column\n",
    "df = df.drop('duration', axis=1)\n",
    "\n",
    "# Impute 'unknown' values for specific columns with the mode\n",
    "for col in ['default', 'housing', 'loan']:\n",
    "    mode_val = df[col].mode()[0]\n",
    "    df[col] = df[col].replace('unknown', mode_val)\n",
    "\n",
    "# Create a new age group feature\n",
    "bins = [18, 30, 40, 50, 60, 100]\n",
    "labels = ['18-29', '30-39', '40-49', '50-59', '60+']\n",
    "df['age_group'] = pd.cut(df['age'], bins=bins, labels=labels, right=False)\n",
    "\n",
    "# Convert 'y' target variable to binary\n",
    "df['y'] = df['y'].map({'yes': 1, 'no': 0})\n"
   ]
  },
  {
   "cell_type": "markdown",
   "id": "eb5b04a3",
   "metadata": {},
   "source": [
    "# 2. Define Preprocessing Pipelines"
   ]
  },
  {
   "cell_type": "code",
   "execution_count": 7,
   "id": "a64f7487",
   "metadata": {},
   "outputs": [],
   "source": [
    "# Separate features and target\n",
    "X = df.drop('y', axis=1)\n",
    "y = df['y']\n",
    "\n",
    "# Identify numerical and categorical features\n",
    "numerical_features = X.select_dtypes(include=np.number).columns.tolist()\n",
    "categorical_features = X.select_dtypes(include=['object', 'category']).columns.tolist()\n",
    "\n",
    "# Define numerical transformer pipeline\n",
    "numerical_transformer = Pipeline(steps=[\n",
    "    ('imputer', SimpleImputer(strategy='median')),\n",
    "    ('scaler', StandardScaler())\n",
    "])\n",
    "\n",
    "# Define categorical transformer pipeline\n",
    "categorical_transformer = Pipeline(steps=[\n",
    "    ('imputer', SimpleImputer(strategy='most_frequent')),\n",
    "    ('onehot', OneHotEncoder(handle_unknown='ignore'))\n",
    "])\n",
    "\n",
    "# Create the preprocessor with ColumnTransformer\n",
    "preprocessor = ColumnTransformer(\n",
    "    transformers=[\n",
    "        ('num', numerical_transformer, numerical_features),\n",
    "        ('cat', categorical_transformer, categorical_features)\n",
    "    ],\n",
    "    remainder='passthrough'\n",
    ")"
   ]
  },
  {
   "cell_type": "markdown",
   "id": "9697df84",
   "metadata": {},
   "source": [
    "# 3. Split the data and apply preprocessing"
   ]
  },
  {
   "cell_type": "code",
   "execution_count": 8,
   "id": "d5dd8e3f",
   "metadata": {},
   "outputs": [
    {
     "name": "stdout",
     "output_type": "stream",
     "text": [
      "Shape of preprocessed training data: (32950, 64)\n",
      "Shape of preprocessed testing data: (8238, 64)\n"
     ]
    }
   ],
   "source": [
    "X_train, X_test, y_train, y_test = train_test_split(X, y, test_size=0.2, random_state=42, stratify=y)\n",
    "\n",
    "# Apply preprocessing to training and testing data\n",
    "X_train_transformed = preprocessor.fit_transform(X_train)\n",
    "X_test_transformed = preprocessor.transform(X_test)\n",
    "\n",
    "print(\"Shape of preprocessed training data:\", X_train_transformed.shape)\n",
    "print(\"Shape of preprocessed testing data:\", X_test_transformed.shape)"
   ]
  }
 ],
 "metadata": {
  "kernelspec": {
   "display_name": "Python 3",
   "language": "python",
   "name": "python3"
  },
  "language_info": {
   "codemirror_mode": {
    "name": "ipython",
    "version": 3
   },
   "file_extension": ".py",
   "mimetype": "text/x-python",
   "name": "python",
   "nbconvert_exporter": "python",
   "pygments_lexer": "ipython3",
   "version": "3.11.9"
  }
 },
 "nbformat": 4,
 "nbformat_minor": 5
}
