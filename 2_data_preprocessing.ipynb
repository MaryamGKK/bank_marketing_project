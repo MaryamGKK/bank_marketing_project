{
 "cells": [
  {
   "cell_type": "markdown",
   "id": "7fb4fbef",
   "metadata": {},
   "source": [
    "# 2) Data Preprocessing — Robust Pipeline"
   ]
  },
  {
   "cell_type": "markdown",
   "id": "5b51c1c4",
   "metadata": {},
   "source": [
    "\n",
    "We translate raw data into **model-ready features** using a reproducible pipeline. This ensures **consistency** between training and deployment.\n"
   ]
  },
  {
   "cell_type": "code",
   "execution_count": 1,
   "id": "ff0246a6",
   "metadata": {},
   "outputs": [],
   "source": [
    "\n",
    "# Common setup\n",
    "import json, warnings\n",
    "warnings.filterwarnings(\"ignore\")\n",
    "\n",
    "import numpy as np\n",
    "import pandas as pd\n",
    "\n",
    "RANDOM_STATE = 42\n",
    "np.random.seed(RANDOM_STATE)"
   ]
  },
  {
   "cell_type": "code",
   "execution_count": 6,
   "id": "c5c40398",
   "metadata": {},
   "outputs": [
    {
     "name": "stdout",
     "output_type": "stream",
     "text": [
      "Saved preprocessor -> ./models/preprocessor.joblib\n",
      "Saved split indices -> ./outputs/split_indices.json\n",
      "Saved feature metadata -> ./models/feature_meta.json\n",
      "Preprocessing tests passed. Shapes: (32950, 63) (8238, 63)\n"
     ]
    }
   ],
   "source": [
    "\n",
    "import joblib\n",
    "from sklearn.model_selection import train_test_split\n",
    "from sklearn.compose import ColumnTransformer\n",
    "from sklearn.preprocessing import OneHotEncoder, RobustScaler\n",
    "\n",
    "DATA_PATH = \"./data/processed.csv\"\n",
    "PREPROC_PATH = \"./models/preprocessor.joblib\"\n",
    "FEATURE_META_PATH = \"./models/feature_meta.json\"\n",
    "SPLIT_PATH = \"./outputs/split_indices.json\"\n",
    "\n",
    "df = pd.read_csv(DATA_PATH)\n",
    "y = (df[\"y\"].astype(str).str.lower() == \"yes\").astype(int)\n",
    "X = df.drop(columns=[\"y\"])\n",
    "\n",
    "X_train, X_valid, y_train, y_valid = train_test_split(\n",
    "    X, y, test_size=0.2, random_state=RANDOM_STATE, stratify=y\n",
    ")\n",
    "\n",
    "numeric_features = [c for c in X_train.columns if X_train[c].dtype != 'object']\n",
    "categorical_features = [c for c in X_train.columns if X_train[c].dtype == 'object']\n",
    "\n",
    "preprocess = ColumnTransformer(\n",
    "    transformers=[\n",
    "        (\"num\", RobustScaler(with_centering=False), numeric_features),\n",
    "        (\"cat\", OneHotEncoder(handle_unknown=\"ignore\", sparse_output=True), categorical_features),\n",
    "    ]\n",
    ")\n",
    "\n",
    "# Fit on train only\n",
    "preprocess.fit(X_train)\n",
    "\n",
    "# Save preprocessor\n",
    "joblib.dump(preprocess, PREPROC_PATH)\n",
    "\n",
    "# Save split indices & feature metadata\n",
    "with open(SPLIT_PATH, \"w\") as f:\n",
    "    json.dump({\"train_idx\": X_train.index.tolist(), \"valid_idx\": X_valid.index.tolist()}, f)\n",
    "\n",
    "with open(FEATURE_META_PATH, \"w\") as f:\n",
    "    json.dump({\n",
    "        \"numeric_features\": numeric_features,\n",
    "        \"categorical_features\": categorical_features\n",
    "    }, f, indent=2)\n",
    "\n",
    "print(\"Saved preprocessor ->\", PREPROC_PATH)\n",
    "print(\"Saved split indices ->\", SPLIT_PATH)\n",
    "print(\"Saved feature metadata ->\", FEATURE_META_PATH)\n",
    "\n",
    "# Smoke tests\n",
    "Xt = preprocess.transform(X_train)\n",
    "Xv = preprocess.transform(X_valid)\n",
    "assert Xt.shape[1] == Xv.shape[1], \"Train/valid feature dims mismatch.\"\n",
    "assert Xt.shape[0] == len(X_train)\n",
    "assert Xv.shape[0] == len(X_valid)\n",
    "print(\"Preprocessing tests passed. Shapes:\", Xt.shape, Xv.shape)\n"
   ]
  }
 ],
 "metadata": {
  "kernelspec": {
   "display_name": "Python 3",
   "language": "python",
   "name": "python3"
  },
  "language_info": {
   "codemirror_mode": {
    "name": "ipython",
    "version": 3
   },
   "file_extension": ".py",
   "mimetype": "text/x-python",
   "name": "python",
   "nbconvert_exporter": "python",
   "pygments_lexer": "ipython3",
   "version": "3.11.9"
  }
 },
 "nbformat": 4,
 "nbformat_minor": 5
}
