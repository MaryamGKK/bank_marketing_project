{
 "cells": [
  {
   "cell_type": "markdown",
   "id": "51e25ad1",
   "metadata": {},
   "source": [
    "# 3) Model Training & Evaluation"
   ]
  },
  {
   "cell_type": "code",
   "execution_count": null,
   "id": "34d7983d",
   "metadata": {},
   "outputs": [
    {
     "name": "stderr",
     "output_type": "stream",
     "text": [
      "C:\\Users\\pc\\AppData\\Local\\Packages\\PythonSoftwareFoundation.Python.3.11_qbz5n2kfra8p0\\LocalCache\\local-packages\\Python311\\site-packages\\tqdm\\auto.py:21: TqdmWarning: IProgress not found. Please update jupyter and ipywidgets. See https://ipywidgets.readthedocs.io/en/stable/user_install.html\n",
      "  from .autonotebook import tqdm as notebook_tqdm\n"
     ]
    }
   ],
   "source": [
    "import pandas as pd\n",
    "import numpy as np\n",
    "import lightgbm as lgb\n",
    "from sklearn.model_selection import train_test_split, cross_val_score, StratifiedKFold\n",
    "from sklearn.metrics import classification_report, confusion_matrix, roc_curve, roc_auc_score\n",
    "from sklearn.preprocessing import StandardScaler, OneHotEncoder\n",
    "from sklearn.compose import ColumnTransformer\n",
    "from sklearn.pipeline import Pipeline\n",
    "from sklearn.impute import SimpleImputer\n",
    "import plotly.express as px\n",
    "import plotly.graph_objects as go\n",
    "import optuna\n",
    "import joblib \n",
    "import warnings\n",
    "warnings.filterwarnings(\"ignore\")"
   ]
  },
  {
   "cell_type": "code",
   "execution_count": 2,
   "id": "b03cc459",
   "metadata": {},
   "outputs": [
    {
     "data": {
      "text/html": [
       "<div>\n",
       "<style scoped>\n",
       "    .dataframe tbody tr th:only-of-type {\n",
       "        vertical-align: middle;\n",
       "    }\n",
       "\n",
       "    .dataframe tbody tr th {\n",
       "        vertical-align: top;\n",
       "    }\n",
       "\n",
       "    .dataframe thead th {\n",
       "        text-align: right;\n",
       "    }\n",
       "</style>\n",
       "<table border=\"1\" class=\"dataframe\">\n",
       "  <thead>\n",
       "    <tr style=\"text-align: right;\">\n",
       "      <th></th>\n",
       "      <th>age</th>\n",
       "      <th>job</th>\n",
       "      <th>marital</th>\n",
       "      <th>education</th>\n",
       "      <th>default</th>\n",
       "      <th>housing</th>\n",
       "      <th>loan</th>\n",
       "      <th>contact</th>\n",
       "      <th>month</th>\n",
       "      <th>day_of_week</th>\n",
       "      <th>...</th>\n",
       "      <th>pdays</th>\n",
       "      <th>previous</th>\n",
       "      <th>poutcome</th>\n",
       "      <th>emp_var_rate</th>\n",
       "      <th>cons_price_idx</th>\n",
       "      <th>cons_conf_idx</th>\n",
       "      <th>euribor3m</th>\n",
       "      <th>nr_employed</th>\n",
       "      <th>y</th>\n",
       "      <th>age_group</th>\n",
       "    </tr>\n",
       "  </thead>\n",
       "  <tbody>\n",
       "    <tr>\n",
       "      <th>0</th>\n",
       "      <td>56</td>\n",
       "      <td>housemaid</td>\n",
       "      <td>married</td>\n",
       "      <td>basic.4y</td>\n",
       "      <td>no</td>\n",
       "      <td>no</td>\n",
       "      <td>no</td>\n",
       "      <td>telephone</td>\n",
       "      <td>may</td>\n",
       "      <td>mon</td>\n",
       "      <td>...</td>\n",
       "      <td>999</td>\n",
       "      <td>0</td>\n",
       "      <td>nonexistent</td>\n",
       "      <td>1.1</td>\n",
       "      <td>93.994</td>\n",
       "      <td>-36.4</td>\n",
       "      <td>4.857</td>\n",
       "      <td>5191.0</td>\n",
       "      <td>0</td>\n",
       "      <td>50-59</td>\n",
       "    </tr>\n",
       "    <tr>\n",
       "      <th>1</th>\n",
       "      <td>57</td>\n",
       "      <td>services</td>\n",
       "      <td>married</td>\n",
       "      <td>high.school</td>\n",
       "      <td>no</td>\n",
       "      <td>no</td>\n",
       "      <td>no</td>\n",
       "      <td>telephone</td>\n",
       "      <td>may</td>\n",
       "      <td>mon</td>\n",
       "      <td>...</td>\n",
       "      <td>999</td>\n",
       "      <td>0</td>\n",
       "      <td>nonexistent</td>\n",
       "      <td>1.1</td>\n",
       "      <td>93.994</td>\n",
       "      <td>-36.4</td>\n",
       "      <td>4.857</td>\n",
       "      <td>5191.0</td>\n",
       "      <td>0</td>\n",
       "      <td>50-59</td>\n",
       "    </tr>\n",
       "    <tr>\n",
       "      <th>2</th>\n",
       "      <td>37</td>\n",
       "      <td>services</td>\n",
       "      <td>married</td>\n",
       "      <td>high.school</td>\n",
       "      <td>no</td>\n",
       "      <td>yes</td>\n",
       "      <td>no</td>\n",
       "      <td>telephone</td>\n",
       "      <td>may</td>\n",
       "      <td>mon</td>\n",
       "      <td>...</td>\n",
       "      <td>999</td>\n",
       "      <td>0</td>\n",
       "      <td>nonexistent</td>\n",
       "      <td>1.1</td>\n",
       "      <td>93.994</td>\n",
       "      <td>-36.4</td>\n",
       "      <td>4.857</td>\n",
       "      <td>5191.0</td>\n",
       "      <td>0</td>\n",
       "      <td>30-39</td>\n",
       "    </tr>\n",
       "    <tr>\n",
       "      <th>3</th>\n",
       "      <td>40</td>\n",
       "      <td>admin.</td>\n",
       "      <td>married</td>\n",
       "      <td>basic.6y</td>\n",
       "      <td>no</td>\n",
       "      <td>no</td>\n",
       "      <td>no</td>\n",
       "      <td>telephone</td>\n",
       "      <td>may</td>\n",
       "      <td>mon</td>\n",
       "      <td>...</td>\n",
       "      <td>999</td>\n",
       "      <td>0</td>\n",
       "      <td>nonexistent</td>\n",
       "      <td>1.1</td>\n",
       "      <td>93.994</td>\n",
       "      <td>-36.4</td>\n",
       "      <td>4.857</td>\n",
       "      <td>5191.0</td>\n",
       "      <td>0</td>\n",
       "      <td>40-49</td>\n",
       "    </tr>\n",
       "    <tr>\n",
       "      <th>4</th>\n",
       "      <td>56</td>\n",
       "      <td>services</td>\n",
       "      <td>married</td>\n",
       "      <td>high.school</td>\n",
       "      <td>no</td>\n",
       "      <td>no</td>\n",
       "      <td>yes</td>\n",
       "      <td>telephone</td>\n",
       "      <td>may</td>\n",
       "      <td>mon</td>\n",
       "      <td>...</td>\n",
       "      <td>999</td>\n",
       "      <td>0</td>\n",
       "      <td>nonexistent</td>\n",
       "      <td>1.1</td>\n",
       "      <td>93.994</td>\n",
       "      <td>-36.4</td>\n",
       "      <td>4.857</td>\n",
       "      <td>5191.0</td>\n",
       "      <td>0</td>\n",
       "      <td>50-59</td>\n",
       "    </tr>\n",
       "  </tbody>\n",
       "</table>\n",
       "<p>5 rows × 21 columns</p>\n",
       "</div>"
      ],
      "text/plain": [
       "   age        job  marital    education default housing loan    contact month  \\\n",
       "0   56  housemaid  married     basic.4y      no      no   no  telephone   may   \n",
       "1   57   services  married  high.school      no      no   no  telephone   may   \n",
       "2   37   services  married  high.school      no     yes   no  telephone   may   \n",
       "3   40     admin.  married     basic.6y      no      no   no  telephone   may   \n",
       "4   56   services  married  high.school      no      no  yes  telephone   may   \n",
       "\n",
       "  day_of_week  ...  pdays  previous     poutcome emp_var_rate  cons_price_idx  \\\n",
       "0         mon  ...    999         0  nonexistent          1.1          93.994   \n",
       "1         mon  ...    999         0  nonexistent          1.1          93.994   \n",
       "2         mon  ...    999         0  nonexistent          1.1          93.994   \n",
       "3         mon  ...    999         0  nonexistent          1.1          93.994   \n",
       "4         mon  ...    999         0  nonexistent          1.1          93.994   \n",
       "\n",
       "   cons_conf_idx  euribor3m  nr_employed  y  age_group  \n",
       "0          -36.4      4.857       5191.0  0      50-59  \n",
       "1          -36.4      4.857       5191.0  0      50-59  \n",
       "2          -36.4      4.857       5191.0  0      30-39  \n",
       "3          -36.4      4.857       5191.0  0      40-49  \n",
       "4          -36.4      4.857       5191.0  0      50-59  \n",
       "\n",
       "[5 rows x 21 columns]"
      ]
     },
     "execution_count": 2,
     "metadata": {},
     "output_type": "execute_result"
    }
   ],
   "source": [
    "# Load the dataset and perform preprocessing (from notebook 2)\n",
    "df = pd.read_csv('./data/bank_marketing_preprocessed.csv')\n",
    "df.head()"
   ]
  },
  {
   "cell_type": "code",
   "execution_count": 3,
   "id": "3f3675a1",
   "metadata": {},
   "outputs": [
    {
     "name": "stdout",
     "output_type": "stream",
     "text": [
      "Preprocessor pipeline loaded successfully.\n"
     ]
    }
   ],
   "source": [
    "# Separate features and target\n",
    "X = df.drop('y', axis=1)\n",
    "y = df['y']\n",
    "# Load the preprocessor pipeline\n",
    "preprocessor = joblib.load('./models/preprocessor.pkl')\n",
    "print(\"Preprocessor pipeline loaded successfully.\")\n",
    "\n",
    "# Split the raw data for a fair validation split\n",
    "X_train_raw, X_test_raw, y_train, y_test = train_test_split(X, y, test_size=0.2, random_state=42, stratify=y)\n",
    "\n",
    "# Apply the preprocessor pipeline to the split data\n",
    "X_train_transformed = preprocessor.transform(X_train_raw)\n",
    "X_test_transformed = preprocessor.transform(X_test_raw)\n"
   ]
  },
  {
   "cell_type": "markdown",
   "id": "28f2f144",
   "metadata": {},
   "source": [
    "# 1. Hyperparameter Tuning with Optuna"
   ]
  },
  {
   "cell_type": "code",
   "execution_count": 4,
   "id": "ae5ac0de",
   "metadata": {},
   "outputs": [
    {
     "name": "stderr",
     "output_type": "stream",
     "text": [
      "[I 2025-08-14 13:02:24,870] A new study created in memory with name: no-name-5bc2a0f7-ecbf-4757-b64b-e3bf86b4895e\n",
      "Best trial: 0. Best value: 0.75816:   2%|▏         | 1/50 [00:02<02:23,  2.92s/it]"
     ]
    },
    {
     "name": "stdout",
     "output_type": "stream",
     "text": [
      "[I 2025-08-14 13:02:27,792] Trial 0 finished with value: 0.7581598658986768 and parameters: {'n_estimators': 269, 'learning_rate': 0.2560767376596851, 'num_leaves': 79, 'max_depth': 14, 'subsample': 0.6830501029173188, 'colsample_bytree': 0.7792291375098078, 'min_child_samples': 100, 'reg_alpha': 0.8853997738987127, 'reg_lambda': 0.5866419241992956}. Best is trial 0 with value: 0.7581598658986768.\n"
     ]
    },
    {
     "name": "stderr",
     "output_type": "stream",
     "text": [
      "Best trial: 1. Best value: 0.762114:   4%|▍         | 2/50 [00:11<05:06,  6.39s/it]"
     ]
    },
    {
     "name": "stdout",
     "output_type": "stream",
     "text": [
      "[I 2025-08-14 13:02:36,604] Trial 1 finished with value: 0.7621137078740393 and parameters: {'n_estimators': 957, 'learning_rate': 0.10091423601487537, 'num_leaves': 70, 'max_depth': 14, 'subsample': 0.6328498870294438, 'colsample_bytree': 0.6336434185356036, 'min_child_samples': 97, 'reg_alpha': 0.7679747801430942, 'reg_lambda': 0.8424781596000473}. Best is trial 1 with value: 0.7621137078740393.\n"
     ]
    },
    {
     "name": "stderr",
     "output_type": "stream",
     "text": [
      "Best trial: 2. Best value: 0.777341:   6%|▌         | 3/50 [00:14<03:47,  4.84s/it]"
     ]
    },
    {
     "name": "stdout",
     "output_type": "stream",
     "text": [
      "[I 2025-08-14 13:02:39,604] Trial 2 finished with value: 0.7773410573719417 and parameters: {'n_estimators': 645, 'learning_rate': 0.10416170830749841, 'num_leaves': 31, 'max_depth': 14, 'subsample': 0.9396397545285105, 'colsample_bytree': 0.7715497903907783, 'min_child_samples': 21, 'reg_alpha': 0.7933946567741941, 'reg_lambda': 0.4165981977227977}. Best is trial 2 with value: 0.7773410573719417.\n"
     ]
    },
    {
     "name": "stderr",
     "output_type": "stream",
     "text": [
      "Best trial: 3. Best value: 0.78336:   8%|▊         | 4/50 [00:16<02:53,  3.77s/it] "
     ]
    },
    {
     "name": "stdout",
     "output_type": "stream",
     "text": [
      "[I 2025-08-14 13:02:41,732] Trial 3 finished with value: 0.7833597952461597 and parameters: {'n_estimators': 313, 'learning_rate': 0.11014809532262076, 'num_leaves': 46, 'max_depth': 12, 'subsample': 0.7542050263204322, 'colsample_bytree': 0.6627464754069933, 'min_child_samples': 38, 'reg_alpha': 0.8886963879580861, 'reg_lambda': 0.9195668747427601}. Best is trial 3 with value: 0.7833597952461597.\n"
     ]
    },
    {
     "name": "stderr",
     "output_type": "stream",
     "text": [
      "Best trial: 3. Best value: 0.78336:  10%|█         | 5/50 [00:21<03:00,  4.00s/it]"
     ]
    },
    {
     "name": "stdout",
     "output_type": "stream",
     "text": [
      "[I 2025-08-14 13:02:46,147] Trial 4 finished with value: 0.753717513125409 and parameters: {'n_estimators': 401, 'learning_rate': 0.1892972680303908, 'num_leaves': 95, 'max_depth': 14, 'subsample': 0.9984370573178054, 'colsample_bytree': 0.6000217493074156, 'min_child_samples': 71, 'reg_alpha': 0.11083212626531902, 'reg_lambda': 0.24579615917709585}. Best is trial 3 with value: 0.7833597952461597.\n"
     ]
    },
    {
     "name": "stderr",
     "output_type": "stream",
     "text": [
      "Best trial: 3. Best value: 0.78336:  12%|█▏        | 6/50 [00:22<02:11,  3.00s/it]"
     ]
    },
    {
     "name": "stdout",
     "output_type": "stream",
     "text": [
      "[I 2025-08-14 13:02:47,193] Trial 5 finished with value: 0.7761657603483306 and parameters: {'n_estimators': 213, 'learning_rate': 0.2230765622872942, 'num_leaves': 35, 'max_depth': 7, 'subsample': 0.9378644914729241, 'colsample_bytree': 0.7333940296242453, 'min_child_samples': 65, 'reg_alpha': 0.06466903467824181, 'reg_lambda': 0.02336040027616204}. Best is trial 3 with value: 0.7833597952461597.\n"
     ]
    },
    {
     "name": "stderr",
     "output_type": "stream",
     "text": [
      "Best trial: 3. Best value: 0.78336:  14%|█▍        | 7/50 [00:28<02:50,  3.97s/it]"
     ]
    },
    {
     "name": "stdout",
     "output_type": "stream",
     "text": [
      "[I 2025-08-14 13:02:53,169] Trial 6 finished with value: 0.7436658038178556 and parameters: {'n_estimators': 679, 'learning_rate': 0.29553861797913783, 'num_leaves': 75, 'max_depth': 11, 'subsample': 0.8458915205585295, 'colsample_bytree': 0.9039503986511109, 'min_child_samples': 24, 'reg_alpha': 0.4864840593548274, 'reg_lambda': 0.8285485823977157}. Best is trial 3 with value: 0.7833597952461597.\n"
     ]
    },
    {
     "name": "stderr",
     "output_type": "stream",
     "text": [
      "Best trial: 3. Best value: 0.78336:  16%|█▌        | 8/50 [00:33<02:59,  4.28s/it]"
     ]
    },
    {
     "name": "stdout",
     "output_type": "stream",
     "text": [
      "[I 2025-08-14 13:02:58,101] Trial 7 finished with value: 0.7454597236418288 and parameters: {'n_estimators': 531, 'learning_rate': 0.2841901208180613, 'num_leaves': 75, 'max_depth': 11, 'subsample': 0.7299342370302481, 'colsample_bytree': 0.843225159806763, 'min_child_samples': 38, 'reg_alpha': 0.6517091015490347, 'reg_lambda': 0.5455597366637522}. Best is trial 3 with value: 0.7833597952461597.\n"
     ]
    },
    {
     "name": "stderr",
     "output_type": "stream",
     "text": [
      "Best trial: 8. Best value: 0.786274:  18%|█▊        | 9/50 [00:37<02:49,  4.13s/it]"
     ]
    },
    {
     "name": "stdout",
     "output_type": "stream",
     "text": [
      "[I 2025-08-14 13:03:01,897] Trial 8 finished with value: 0.786274278030162 and parameters: {'n_estimators': 732, 'learning_rate': 0.05932420716628583, 'num_leaves': 23, 'max_depth': 12, 'subsample': 0.6915796655848853, 'colsample_bytree': 0.8735896029051258, 'min_child_samples': 91, 'reg_alpha': 0.752351270025614, 'reg_lambda': 0.3554790901784769}. Best is trial 8 with value: 0.786274278030162.\n"
     ]
    },
    {
     "name": "stderr",
     "output_type": "stream",
     "text": [
      "Best trial: 8. Best value: 0.786274:  20%|██        | 10/50 [00:41<02:43,  4.09s/it]"
     ]
    },
    {
     "name": "stdout",
     "output_type": "stream",
     "text": [
      "[I 2025-08-14 13:03:05,897] Trial 9 finished with value: 0.7754540075555344 and parameters: {'n_estimators': 841, 'learning_rate': 0.07986667901011821, 'num_leaves': 37, 'max_depth': 8, 'subsample': 0.6103674458069269, 'colsample_bytree': 0.6586892299465275, 'min_child_samples': 79, 'reg_alpha': 0.4198152260471978, 'reg_lambda': 0.03712823890188699}. Best is trial 8 with value: 0.786274278030162.\n"
     ]
    },
    {
     "name": "stderr",
     "output_type": "stream",
     "text": [
      "Best trial: 10. Best value: 0.794634:  22%|██▏       | 11/50 [00:44<02:26,  3.76s/it]"
     ]
    },
    {
     "name": "stdout",
     "output_type": "stream",
     "text": [
      "[I 2025-08-14 13:03:08,916] Trial 10 finished with value: 0.7946341161241264 and parameters: {'n_estimators': 796, 'learning_rate': 0.031059635899339418, 'num_leaves': 22, 'max_depth': 5, 'subsample': 0.8323136438542311, 'colsample_bytree': 0.9783680445152194, 'min_child_samples': 86, 'reg_alpha': 0.28236091663373997, 'reg_lambda': 0.2962017051780916}. Best is trial 10 with value: 0.7946341161241264.\n"
     ]
    },
    {
     "name": "stderr",
     "output_type": "stream",
     "text": [
      "Best trial: 11. Best value: 0.798377:  24%|██▍       | 12/50 [00:46<02:10,  3.45s/it]"
     ]
    },
    {
     "name": "stdout",
     "output_type": "stream",
     "text": [
      "[I 2025-08-14 13:03:11,645] Trial 11 finished with value: 0.798377362643155 and parameters: {'n_estimators': 799, 'learning_rate': 0.012862344823567465, 'num_leaves': 21, 'max_depth': 5, 'subsample': 0.8269331190657346, 'colsample_bytree': 0.9774226282259786, 'min_child_samples': 84, 'reg_alpha': 0.29466810130422033, 'reg_lambda': 0.29437600945521236}. Best is trial 11 with value: 0.798377362643155.\n"
     ]
    },
    {
     "name": "stderr",
     "output_type": "stream",
     "text": [
      "Best trial: 11. Best value: 0.798377:  26%|██▌       | 13/50 [00:50<02:05,  3.40s/it]"
     ]
    },
    {
     "name": "stdout",
     "output_type": "stream",
     "text": [
      "[I 2025-08-14 13:03:14,943] Trial 12 finished with value: 0.7977399180572518 and parameters: {'n_estimators': 891, 'learning_rate': 0.013457407762564697, 'num_leaves': 48, 'max_depth': 5, 'subsample': 0.8367601818621775, 'colsample_bytree': 0.9930300801820109, 'min_child_samples': 82, 'reg_alpha': 0.30476567878320365, 'reg_lambda': 0.22563398948516242}. Best is trial 11 with value: 0.798377362643155.\n"
     ]
    },
    {
     "name": "stderr",
     "output_type": "stream",
     "text": [
      "Best trial: 11. Best value: 0.798377:  28%|██▊       | 14/50 [00:57<02:50,  4.73s/it]"
     ]
    },
    {
     "name": "stdout",
     "output_type": "stream",
     "text": [
      "[I 2025-08-14 13:03:22,729] Trial 13 finished with value: 0.7939532090343373 and parameters: {'n_estimators': 996, 'learning_rate': 0.025409241351044335, 'num_leaves': 55, 'max_depth': 5, 'subsample': 0.86998612792715, 'colsample_bytree': 0.9887672111134173, 'min_child_samples': 53, 'reg_alpha': 0.2542842453827534, 'reg_lambda': 0.19792848308092012}. Best is trial 11 with value: 0.798377362643155.\n"
     ]
    },
    {
     "name": "stderr",
     "output_type": "stream",
     "text": [
      "Best trial: 11. Best value: 0.798377:  30%|███       | 15/50 [01:02<02:41,  4.62s/it]"
     ]
    },
    {
     "name": "stdout",
     "output_type": "stream",
     "text": [
      "[I 2025-08-14 13:03:27,094] Trial 14 finished with value: 0.79161652260658 and parameters: {'n_estimators': 873, 'learning_rate': 0.022717958812960664, 'num_leaves': 52, 'max_depth': 7, 'subsample': 0.7823369993922727, 'colsample_bytree': 0.9260193522660574, 'min_child_samples': 78, 'reg_alpha': 0.31779117111595584, 'reg_lambda': 0.15496370545708574}. Best is trial 11 with value: 0.798377362643155.\n"
     ]
    },
    {
     "name": "stderr",
     "output_type": "stream",
     "text": [
      "Best trial: 11. Best value: 0.798377:  32%|███▏      | 16/50 [01:08<02:52,  5.08s/it]"
     ]
    },
    {
     "name": "stdout",
     "output_type": "stream",
     "text": [
      "[I 2025-08-14 13:03:33,243] Trial 15 finished with value: 0.7623400160272411 and parameters: {'n_estimators': 557, 'learning_rate': 0.15322101090062584, 'num_leaves': 43, 'max_depth': 8, 'subsample': 0.9073946104781385, 'colsample_bytree': 0.9382832585112102, 'min_child_samples': 57, 'reg_alpha': 0.1759018482209559, 'reg_lambda': 0.658169853473094}. Best is trial 11 with value: 0.798377362643155.\n"
     ]
    },
    {
     "name": "stderr",
     "output_type": "stream",
     "text": [
      "Best trial: 11. Best value: 0.798377:  34%|███▍      | 17/50 [01:15<03:05,  5.62s/it]"
     ]
    },
    {
     "name": "stdout",
     "output_type": "stream",
     "text": [
      "[I 2025-08-14 13:03:40,122] Trial 16 finished with value: 0.7659405041316156 and parameters: {'n_estimators': 886, 'learning_rate': 0.1533752513935231, 'num_leaves': 62, 'max_depth': 6, 'subsample': 0.7995087644252766, 'colsample_bytree': 0.8437439138344287, 'min_child_samples': 83, 'reg_alpha': 0.5775066224961514, 'reg_lambda': 0.4511509723561459}. Best is trial 11 with value: 0.798377362643155.\n"
     ]
    },
    {
     "name": "stderr",
     "output_type": "stream",
     "text": [
      "Best trial: 11. Best value: 0.798377:  36%|███▌      | 18/50 [01:19<02:45,  5.16s/it]"
     ]
    },
    {
     "name": "stdout",
     "output_type": "stream",
     "text": [
      "[I 2025-08-14 13:03:44,213] Trial 17 finished with value: 0.7808581403682038 and parameters: {'n_estimators': 764, 'learning_rate': 0.0580470936311545, 'num_leaves': 29, 'max_depth': 9, 'subsample': 0.8825037065293427, 'colsample_bytree': 0.99096957908219, 'min_child_samples': 71, 'reg_alpha': 0.4255620892946047, 'reg_lambda': 0.1248317945782326}. Best is trial 11 with value: 0.798377362643155.\n"
     ]
    },
    {
     "name": "stderr",
     "output_type": "stream",
     "text": [
      "Best trial: 18. Best value: 0.799056:  38%|███▊      | 19/50 [01:21<02:13,  4.30s/it]"
     ]
    },
    {
     "name": "stdout",
     "output_type": "stream",
     "text": [
      "[I 2025-08-14 13:03:46,518] Trial 18 finished with value: 0.7990562408740696 and parameters: {'n_estimators': 607, 'learning_rate': 0.015625070144960482, 'num_leaves': 92, 'max_depth': 5, 'subsample': 0.8246334895185483, 'colsample_bytree': 0.9485888883919794, 'min_child_samples': 50, 'reg_alpha': 0.35892876782015337, 'reg_lambda': 0.3393262058242598}. Best is trial 18 with value: 0.7990562408740696.\n"
     ]
    },
    {
     "name": "stderr",
     "output_type": "stream",
     "text": [
      "Best trial: 18. Best value: 0.799056:  40%|████      | 20/50 [01:22<01:36,  3.21s/it]"
     ]
    },
    {
     "name": "stdout",
     "output_type": "stream",
     "text": [
      "[I 2025-08-14 13:03:47,187] Trial 19 finished with value: 0.7984772021629889 and parameters: {'n_estimators': 101, 'learning_rate': 0.05687154238304269, 'num_leaves': 99, 'max_depth': 6, 'subsample': 0.7509222217413484, 'colsample_bytree': 0.9389128959676191, 'min_child_samples': 50, 'reg_alpha': 0.014163360362023036, 'reg_lambda': 0.6931423269109389}. Best is trial 18 with value: 0.7990562408740696.\n"
     ]
    },
    {
     "name": "stderr",
     "output_type": "stream",
     "text": [
      "Best trial: 18. Best value: 0.799056:  42%|████▏     | 21/50 [01:24<01:24,  2.91s/it]"
     ]
    },
    {
     "name": "stdout",
     "output_type": "stream",
     "text": [
      "[I 2025-08-14 13:03:49,408] Trial 20 finished with value: 0.788007416458436 and parameters: {'n_estimators': 435, 'learning_rate': 0.05660311379242482, 'num_leaves': 100, 'max_depth': 7, 'subsample': 0.7492166030138517, 'colsample_bytree': 0.8889345369038028, 'min_child_samples': 47, 'reg_alpha': 0.015391004573262184, 'reg_lambda': 0.7034907641558502}. Best is trial 18 with value: 0.7990562408740696.\n"
     ]
    },
    {
     "name": "stderr",
     "output_type": "stream",
     "text": [
      "Best trial: 18. Best value: 0.799056:  44%|████▍     | 22/50 [01:25<01:03,  2.28s/it]"
     ]
    },
    {
     "name": "stdout",
     "output_type": "stream",
     "text": [
      "[I 2025-08-14 13:03:50,206] Trial 21 finished with value: 0.7983824575666257 and parameters: {'n_estimators': 127, 'learning_rate': 0.046575041921884726, 'num_leaves': 88, 'max_depth': 6, 'subsample': 0.7910036724399508, 'colsample_bytree': 0.9392825939875558, 'min_child_samples': 46, 'reg_alpha': 0.1478094105320169, 'reg_lambda': 0.35735456848369174}. Best is trial 18 with value: 0.7990562408740696.\n"
     ]
    },
    {
     "name": "stderr",
     "output_type": "stream",
     "text": [
      "Best trial: 18. Best value: 0.799056:  46%|████▌     | 23/50 [01:26<00:50,  1.87s/it]"
     ]
    },
    {
     "name": "stdout",
     "output_type": "stream",
     "text": [
      "[I 2025-08-14 13:03:51,116] Trial 22 finished with value: 0.7959572489098381 and parameters: {'n_estimators': 142, 'learning_rate': 0.07373785426931025, 'num_leaves': 90, 'max_depth': 6, 'subsample': 0.7062964528112673, 'colsample_bytree': 0.9395370673110518, 'min_child_samples': 43, 'reg_alpha': 0.16604547844504683, 'reg_lambda': 0.49427805285130105}. Best is trial 18 with value: 0.7990562408740696.\n"
     ]
    },
    {
     "name": "stderr",
     "output_type": "stream",
     "text": [
      "Best trial: 18. Best value: 0.799056:  48%|████▊     | 24/50 [01:27<00:40,  1.55s/it]"
     ]
    },
    {
     "name": "stdout",
     "output_type": "stream",
     "text": [
      "[I 2025-08-14 13:03:51,926] Trial 23 finished with value: 0.7919531387146546 and parameters: {'n_estimators': 113, 'learning_rate': 0.13541541616621666, 'num_leaves': 87, 'max_depth': 6, 'subsample': 0.7771472195136403, 'colsample_bytree': 0.9453070490253073, 'min_child_samples': 32, 'reg_alpha': 0.019996150738239588, 'reg_lambda': 0.6719744810326862}. Best is trial 18 with value: 0.7990562408740696.\n"
     ]
    },
    {
     "name": "stderr",
     "output_type": "stream",
     "text": [
      "Best trial: 18. Best value: 0.799056:  50%|█████     | 25/50 [01:28<00:40,  1.60s/it]"
     ]
    },
    {
     "name": "stdout",
     "output_type": "stream",
     "text": [
      "[I 2025-08-14 13:03:53,650] Trial 24 finished with value: 0.7929092378896143 and parameters: {'n_estimators': 174, 'learning_rate': 0.04431380934335676, 'num_leaves': 86, 'max_depth': 9, 'subsample': 0.79796197641776, 'colsample_bytree': 0.8568303792493082, 'min_child_samples': 51, 'reg_alpha': 0.16575194335984061, 'reg_lambda': 0.4145158481188421}. Best is trial 18 with value: 0.7990562408740696.\n"
     ]
    },
    {
     "name": "stderr",
     "output_type": "stream",
     "text": [
      "Best trial: 18. Best value: 0.799056:  52%|█████▏    | 26/50 [01:31<00:45,  1.89s/it]"
     ]
    },
    {
     "name": "stdout",
     "output_type": "stream",
     "text": [
      "[I 2025-08-14 13:03:56,197] Trial 25 finished with value: 0.7819634540993075 and parameters: {'n_estimators': 359, 'learning_rate': 0.08964784710756446, 'num_leaves': 100, 'max_depth': 8, 'subsample': 0.7183534685901338, 'colsample_bytree': 0.8112052810324905, 'min_child_samples': 61, 'reg_alpha': 0.4042787300786001, 'reg_lambda': 0.3523780053936206}. Best is trial 18 with value: 0.7990562408740696.\n"
     ]
    },
    {
     "name": "stderr",
     "output_type": "stream",
     "text": [
      "Best trial: 18. Best value: 0.799056:  54%|█████▍    | 27/50 [01:33<00:44,  1.95s/it]"
     ]
    },
    {
     "name": "stdout",
     "output_type": "stream",
     "text": [
      "[I 2025-08-14 13:03:58,308] Trial 26 finished with value: 0.7767221290986746 and parameters: {'n_estimators': 503, 'learning_rate': 0.11704253383729446, 'num_leaves': 82, 'max_depth': 6, 'subsample': 0.6548178750303487, 'colsample_bytree': 0.9175919870043194, 'min_child_samples': 45, 'reg_alpha': 0.11881608546728822, 'reg_lambda': 0.6027684463359676}. Best is trial 18 with value: 0.7990562408740696.\n"
     ]
    },
    {
     "name": "stderr",
     "output_type": "stream",
     "text": [
      "Best trial: 18. Best value: 0.799056:  56%|█████▌    | 28/50 [01:34<00:39,  1.80s/it]"
     ]
    },
    {
     "name": "stdout",
     "output_type": "stream",
     "text": [
      "[I 2025-08-14 13:03:59,756] Trial 27 finished with value: 0.7951024722069756 and parameters: {'n_estimators': 221, 'learning_rate': 0.0427623117219514, 'num_leaves': 93, 'max_depth': 7, 'subsample': 0.7552234437810326, 'colsample_bytree': 0.9533740424944052, 'min_child_samples': 29, 'reg_alpha': 0.21407942943050023, 'reg_lambda': 0.7720386275133758}. Best is trial 18 with value: 0.7990562408740696.\n"
     ]
    },
    {
     "name": "stderr",
     "output_type": "stream",
     "text": [
      "Best trial: 18. Best value: 0.799056:  58%|█████▊    | 29/50 [01:35<00:30,  1.47s/it]"
     ]
    },
    {
     "name": "stdout",
     "output_type": "stream",
     "text": [
      "[I 2025-08-14 13:04:00,468] Trial 28 finished with value: 0.789904846673409 and parameters: {'n_estimators': 106, 'learning_rate': 0.1844219376220853, 'num_leaves': 66, 'max_depth': 6, 'subsample': 0.8644298712153295, 'colsample_bytree': 0.8957363296486509, 'min_child_samples': 38, 'reg_alpha': 0.09304915225784512, 'reg_lambda': 0.5050191447645311}. Best is trial 18 with value: 0.7990562408740696.\n"
     ]
    },
    {
     "name": "stderr",
     "output_type": "stream",
     "text": [
      "Best trial: 18. Best value: 0.799056:  60%|██████    | 30/50 [01:38<00:35,  1.76s/it]"
     ]
    },
    {
     "name": "stdout",
     "output_type": "stream",
     "text": [
      "[I 2025-08-14 13:04:02,882] Trial 29 finished with value: 0.785966202812904 and parameters: {'n_estimators': 265, 'learning_rate': 0.07876907548035564, 'num_leaves': 82, 'max_depth': 9, 'subsample': 0.671125095550258, 'colsample_bytree': 0.7367800995167463, 'min_child_samples': 55, 'reg_alpha': 0.36776074566893785, 'reg_lambda': 0.5944434060893281}. Best is trial 18 with value: 0.7990562408740696.\n"
     ]
    },
    {
     "name": "stderr",
     "output_type": "stream",
     "text": [
      "Best trial: 18. Best value: 0.799056:  62%|██████▏   | 31/50 [01:40<00:35,  1.88s/it]"
     ]
    },
    {
     "name": "stdout",
     "output_type": "stream",
     "text": [
      "[I 2025-08-14 13:04:05,034] Trial 30 finished with value: 0.7957106569360837 and parameters: {'n_estimators': 610, 'learning_rate': 0.04122262130423873, 'num_leaves': 95, 'max_depth': 5, 'subsample': 0.8154925762775763, 'colsample_bytree': 0.8122552945580436, 'min_child_samples': 63, 'reg_alpha': 0.5182338549373522, 'reg_lambda': 0.39542197871224555}. Best is trial 18 with value: 0.7990562408740696.\n"
     ]
    },
    {
     "name": "stderr",
     "output_type": "stream",
     "text": [
      "Best trial: 18. Best value: 0.799056:  64%|██████▍   | 32/50 [01:42<00:37,  2.06s/it]"
     ]
    },
    {
     "name": "stdout",
     "output_type": "stream",
     "text": [
      "[I 2025-08-14 13:04:07,513] Trial 31 finished with value: 0.7969800208394704 and parameters: {'n_estimators': 709, 'learning_rate': 0.023863007976318906, 'num_leaves': 77, 'max_depth': 5, 'subsample': 0.8189295500027078, 'colsample_bytree': 0.9571844794233147, 'min_child_samples': 48, 'reg_alpha': 0.21784736173571595, 'reg_lambda': 0.27740478739267127}. Best is trial 18 with value: 0.7990562408740696.\n"
     ]
    },
    {
     "name": "stderr",
     "output_type": "stream",
     "text": [
      "Best trial: 18. Best value: 0.799056:  66%|██████▌   | 33/50 [01:45<00:37,  2.23s/it]"
     ]
    },
    {
     "name": "stdout",
     "output_type": "stream",
     "text": [
      "[I 2025-08-14 13:04:10,152] Trial 32 finished with value: 0.7981742791461379 and parameters: {'n_estimators': 596, 'learning_rate': 0.012920288143591148, 'num_leaves': 69, 'max_depth': 6, 'subsample': 0.7743916340656111, 'colsample_bytree': 0.9796804094500303, 'min_child_samples': 71, 'reg_alpha': 0.3338086164173135, 'reg_lambda': 0.3302209262637042}. Best is trial 18 with value: 0.7990562408740696.\n"
     ]
    },
    {
     "name": "stderr",
     "output_type": "stream",
     "text": [
      "Best trial: 18. Best value: 0.799056:  68%|██████▊   | 34/50 [01:46<00:33,  2.07s/it]"
     ]
    },
    {
     "name": "stdout",
     "output_type": "stream",
     "text": [
      "[I 2025-08-14 13:04:11,859] Trial 33 finished with value: 0.7919198996836442 and parameters: {'n_estimators': 492, 'learning_rate': 0.06616910451866323, 'num_leaves': 88, 'max_depth': 5, 'subsample': 0.8519967066373266, 'colsample_bytree': 0.959877932728493, 'min_child_samples': 41, 'reg_alpha': 0.2451131576082029, 'reg_lambda': 0.9919346372255972}. Best is trial 18 with value: 0.7990562408740696.\n"
     ]
    },
    {
     "name": "stderr",
     "output_type": "stream",
     "text": [
      "Best trial: 18. Best value: 0.799056:  70%|███████   | 35/50 [01:50<00:36,  2.46s/it]"
     ]
    },
    {
     "name": "stdout",
     "output_type": "stream",
     "text": [
      "[I 2025-08-14 13:04:15,225] Trial 34 finished with value: 0.78695318832789 and parameters: {'n_estimators': 301, 'learning_rate': 0.04064515610981585, 'num_leaves': 96, 'max_depth': 15, 'subsample': 0.896410382314923, 'colsample_bytree': 0.9169396419368112, 'min_child_samples': 98, 'reg_alpha': 0.051796599872870885, 'reg_lambda': 0.10132075220695808}. Best is trial 18 with value: 0.7990562408740696.\n"
     ]
    },
    {
     "name": "stderr",
     "output_type": "stream",
     "text": [
      "Best trial: 35. Best value: 0.799082:  72%|███████▏  | 36/50 [01:53<00:36,  2.59s/it]"
     ]
    },
    {
     "name": "stdout",
     "output_type": "stream",
     "text": [
      "[I 2025-08-14 13:04:18,115] Trial 35 finished with value: 0.7990818631807087 and parameters: {'n_estimators': 447, 'learning_rate': 0.01093697962475703, 'num_leaves': 82, 'max_depth': 7, 'subsample': 0.8120523878750876, 'colsample_bytree': 0.878047974397901, 'min_child_samples': 58, 'reg_alpha': 0.0007410392379483786, 'reg_lambda': 0.4512054135333452}. Best is trial 35 with value: 0.7990818631807087.\n"
     ]
    },
    {
     "name": "stderr",
     "output_type": "stream",
     "text": [
      "Best trial: 35. Best value: 0.799082:  74%|███████▍  | 37/50 [01:55<00:33,  2.54s/it]"
     ]
    },
    {
     "name": "stdout",
     "output_type": "stream",
     "text": [
      "[I 2025-08-14 13:04:20,543] Trial 36 finished with value: 0.7814594675038401 and parameters: {'n_estimators': 436, 'learning_rate': 0.09581466828486354, 'num_leaves': 81, 'max_depth': 7, 'subsample': 0.7385902343899571, 'colsample_bytree': 0.8632334978054008, 'min_child_samples': 57, 'reg_alpha': 0.981579145984464, 'reg_lambda': 0.4715161518453461}. Best is trial 35 with value: 0.7990818631807087.\n"
     ]
    },
    {
     "name": "stderr",
     "output_type": "stream",
     "text": [
      "Best trial: 35. Best value: 0.799082:  76%|███████▌  | 38/50 [01:57<00:26,  2.20s/it]"
     ]
    },
    {
     "name": "stdout",
     "output_type": "stream",
     "text": [
      "[I 2025-08-14 13:04:21,943] Trial 37 finished with value: 0.7827545228300109 and parameters: {'n_estimators': 210, 'learning_rate': 0.12014744147974189, 'num_leaves': 91, 'max_depth': 8, 'subsample': 0.7591484290284615, 'colsample_bytree': 0.9001679095345287, 'min_child_samples': 50, 'reg_alpha': 0.13541256910631325, 'reg_lambda': 0.5506758114785594}. Best is trial 35 with value: 0.7990818631807087.\n"
     ]
    },
    {
     "name": "stderr",
     "output_type": "stream",
     "text": [
      "Best trial: 35. Best value: 0.799082:  78%|███████▊  | 39/50 [01:58<00:23,  2.12s/it]"
     ]
    },
    {
     "name": "stdout",
     "output_type": "stream",
     "text": [
      "[I 2025-08-14 13:04:23,870] Trial 38 finished with value: 0.7931109171183558 and parameters: {'n_estimators': 363, 'learning_rate': 0.047244893687030776, 'num_leaves': 85, 'max_depth': 7, 'subsample': 0.9346247473128401, 'colsample_bytree': 0.7666991838050932, 'min_child_samples': 68, 'reg_alpha': 0.07155794648051625, 'reg_lambda': 0.7518565607366416}. Best is trial 35 with value: 0.7990818631807087.\n"
     ]
    },
    {
     "name": "stderr",
     "output_type": "stream",
     "text": [
      "Best trial: 35. Best value: 0.799082:  80%|████████  | 40/50 [02:00<00:18,  1.89s/it]"
     ]
    },
    {
     "name": "stdout",
     "output_type": "stream",
     "text": [
      "[I 2025-08-14 13:04:25,227] Trial 39 finished with value: 0.7760596156585395 and parameters: {'n_estimators': 239, 'learning_rate': 0.22398905934228197, 'num_leaves': 71, 'max_depth': 6, 'subsample': 0.8019908975871468, 'colsample_bytree': 0.8791650421975719, 'min_child_samples': 59, 'reg_alpha': 0.007615875949425024, 'reg_lambda': 0.409610772429809}. Best is trial 35 with value: 0.7990818631807087.\n"
     ]
    },
    {
     "name": "stderr",
     "output_type": "stream",
     "text": [
      "Best trial: 35. Best value: 0.799082:  82%|████████▏ | 41/50 [02:02<00:17,  1.98s/it]"
     ]
    },
    {
     "name": "stdout",
     "output_type": "stream",
     "text": [
      "[I 2025-08-14 13:04:27,422] Trial 40 finished with value: 0.794269689606742 and parameters: {'n_estimators': 174, 'learning_rate': 0.03170145343537758, 'num_leaves': 96, 'max_depth': 10, 'subsample': 0.7059286107061697, 'colsample_bytree': 0.9230078860203547, 'min_child_samples': 34, 'reg_alpha': 0.06667914337520488, 'reg_lambda': 0.5325502568296991}. Best is trial 35 with value: 0.7990818631807087.\n"
     ]
    },
    {
     "name": "stderr",
     "output_type": "stream",
     "text": [
      "Best trial: 35. Best value: 0.799082:  84%|████████▍ | 42/50 [02:05<00:17,  2.22s/it]"
     ]
    },
    {
     "name": "stdout",
     "output_type": "stream",
     "text": [
      "[I 2025-08-14 13:04:30,192] Trial 41 finished with value: 0.7984069190404974 and parameters: {'n_estimators': 659, 'learning_rate': 0.010488172643381755, 'num_leaves': 99, 'max_depth': 5, 'subsample': 0.8234599810164661, 'colsample_bytree': 0.9667040492085175, 'min_child_samples': 53, 'reg_alpha': 0.13387699227615965, 'reg_lambda': 0.3013468506017978}. Best is trial 35 with value: 0.7990818631807087.\n"
     ]
    },
    {
     "name": "stderr",
     "output_type": "stream",
     "text": [
      "Best trial: 35. Best value: 0.799082:  86%|████████▌ | 43/50 [02:09<00:18,  2.69s/it]"
     ]
    },
    {
     "name": "stdout",
     "output_type": "stream",
     "text": [
      "[I 2025-08-14 13:04:33,990] Trial 42 finished with value: 0.7976582852576104 and parameters: {'n_estimators': 678, 'learning_rate': 0.01100557742989864, 'num_leaves': 100, 'max_depth': 6, 'subsample': 0.7883569715012102, 'colsample_bytree': 0.961395273975812, 'min_child_samples': 52, 'reg_alpha': 0.11832956370674198, 'reg_lambda': 0.362098154448774}. Best is trial 35 with value: 0.7990818631807087.\n"
     ]
    },
    {
     "name": "stderr",
     "output_type": "stream",
     "text": [
      "Best trial: 35. Best value: 0.799082:  88%|████████▊ | 44/50 [02:11<00:15,  2.59s/it]"
     ]
    },
    {
     "name": "stdout",
     "output_type": "stream",
     "text": [
      "[I 2025-08-14 13:04:36,335] Trial 43 finished with value: 0.7968730041251633 and parameters: {'n_estimators': 601, 'learning_rate': 0.03199803757123981, 'num_leaves': 91, 'max_depth': 5, 'subsample': 0.9884977253148527, 'colsample_bytree': 0.9049435895707386, 'min_child_samples': 66, 'reg_alpha': 0.18005930507191173, 'reg_lambda': 0.24010428943928872}. Best is trial 35 with value: 0.7990818631807087.\n"
     ]
    },
    {
     "name": "stderr",
     "output_type": "stream",
     "text": [
      "Best trial: 35. Best value: 0.799082:  90%|█████████ | 45/50 [02:17<00:18,  3.75s/it]"
     ]
    },
    {
     "name": "stdout",
     "output_type": "stream",
     "text": [
      "[I 2025-08-14 13:04:42,810] Trial 44 finished with value: 0.7671677786807696 and parameters: {'n_estimators': 628, 'learning_rate': 0.05621740262410313, 'num_leaves': 96, 'max_depth': 13, 'subsample': 0.8485100262425053, 'colsample_bytree': 0.9707875693992161, 'min_child_samples': 40, 'reg_alpha': 0.008060582524816314, 'reg_lambda': 0.4511160997169216}. Best is trial 35 with value: 0.7990818631807087.\n"
     ]
    },
    {
     "name": "stderr",
     "output_type": "stream",
     "text": [
      "Best trial: 35. Best value: 0.799082:  92%|█████████▏| 46/50 [02:21<00:14,  3.61s/it]"
     ]
    },
    {
     "name": "stdout",
     "output_type": "stream",
     "text": [
      "[I 2025-08-14 13:04:46,075] Trial 45 finished with value: 0.7812908409705965 and parameters: {'n_estimators': 566, 'learning_rate': 0.06833946216244667, 'num_leaves': 84, 'max_depth': 7, 'subsample': 0.8145948355524719, 'colsample_bytree': 0.9416187236910389, 'min_child_samples': 45, 'reg_alpha': 0.051920287615246946, 'reg_lambda': 0.874845533356629}. Best is trial 35 with value: 0.7990818631807087.\n"
     ]
    },
    {
     "name": "stderr",
     "output_type": "stream",
     "text": [
      "Best trial: 35. Best value: 0.799082:  94%|█████████▍| 47/50 [02:24<00:10,  3.57s/it]"
     ]
    },
    {
     "name": "stdout",
     "output_type": "stream",
     "text": [
      "[I 2025-08-14 13:04:49,573] Trial 46 finished with value: 0.7972754175726681 and parameters: {'n_estimators': 678, 'learning_rate': 0.024262549273810052, 'num_leaves': 79, 'max_depth': 5, 'subsample': 0.7682924891757454, 'colsample_bytree': 0.8294315425823675, 'min_child_samples': 54, 'reg_alpha': 0.7041869927138759, 'reg_lambda': 0.3132555615107846}. Best is trial 35 with value: 0.7990818631807087.\n"
     ]
    },
    {
     "name": "stderr",
     "output_type": "stream",
     "text": [
      "Best trial: 35. Best value: 0.799082:  96%|█████████▌| 48/50 [02:26<00:06,  3.09s/it]"
     ]
    },
    {
     "name": "stdout",
     "output_type": "stream",
     "text": [
      "[I 2025-08-14 13:04:51,529] Trial 47 finished with value: 0.7983995011061319 and parameters: {'n_estimators': 317, 'learning_rate': 0.010170725963453538, 'num_leaves': 93, 'max_depth': 6, 'subsample': 0.8345035624582602, 'colsample_bytree': 0.929425584845916, 'min_child_samples': 61, 'reg_alpha': 0.1290662843949476, 'reg_lambda': 0.20584188876931395}. Best is trial 35 with value: 0.7990818631807087.\n"
     ]
    },
    {
     "name": "stderr",
     "output_type": "stream",
     "text": [
      "Best trial: 35. Best value: 0.799082:  98%|█████████▊| 49/50 [02:30<00:03,  3.26s/it]"
     ]
    },
    {
     "name": "stdout",
     "output_type": "stream",
     "text": [
      "[I 2025-08-14 13:04:55,193] Trial 48 finished with value: 0.7961765898433049 and parameters: {'n_estimators': 448, 'learning_rate': 0.012353819834427373, 'num_leaves': 94, 'max_depth': 8, 'subsample': 0.8367191430943886, 'colsample_bytree': 0.997748439829562, 'min_child_samples': 63, 'reg_alpha': 0.09958619377208774, 'reg_lambda': 0.179041219825358}. Best is trial 35 with value: 0.7990818631807087.\n"
     ]
    },
    {
     "name": "stderr",
     "output_type": "stream",
     "text": [
      "Best trial: 35. Best value: 0.799082: 100%|██████████| 50/50 [02:31<00:00,  3.04s/it]"
     ]
    },
    {
     "name": "stdout",
     "output_type": "stream",
     "text": [
      "[I 2025-08-14 13:04:56,709] Trial 49 finished with value: 0.776540137308745 and parameters: {'n_estimators': 323, 'learning_rate': 0.2605887189041688, 'num_leaves': 74, 'max_depth': 5, 'subsample': 0.8771106620608956, 'colsample_bytree': 0.8829379140925231, 'min_child_samples': 75, 'reg_alpha': 0.4781240035875893, 'reg_lambda': 0.2714909669389315}. Best is trial 35 with value: 0.7990818631807087.\n",
      "\n",
      "Best hyperparameters found by Optuna:\n",
      "{'n_estimators': 447, 'learning_rate': 0.01093697962475703, 'num_leaves': 82, 'max_depth': 7, 'subsample': 0.8120523878750876, 'colsample_bytree': 0.878047974397901, 'min_child_samples': 58, 'reg_alpha': 0.0007410392379483786, 'reg_lambda': 0.4512054135333452}\n"
     ]
    },
    {
     "name": "stderr",
     "output_type": "stream",
     "text": [
      "\n"
     ]
    }
   ],
   "source": [
    "def objective(trial):\n",
    "    params = {\n",
    "        'objective': 'binary',\n",
    "        'metric': 'auc',\n",
    "        'boosting_type': 'gbdt',\n",
    "        'n_estimators': trial.suggest_int('n_estimators', 100, 1000),\n",
    "        'learning_rate': trial.suggest_float('learning_rate', 0.01, 0.3),\n",
    "        'num_leaves': trial.suggest_int('num_leaves', 20, 100),\n",
    "        'max_depth': trial.suggest_int('max_depth', 5, 15),\n",
    "        'subsample': trial.suggest_float('subsample', 0.6, 1.0),\n",
    "        'colsample_bytree': trial.suggest_float('colsample_bytree', 0.6, 1.0),\n",
    "        'min_child_samples': trial.suggest_int('min_child_samples', 20, 100),\n",
    "        'reg_alpha': trial.suggest_float('reg_alpha', 0.0, 1.0),\n",
    "        'reg_lambda': trial.suggest_float('reg_lambda', 0.0, 1.0),\n",
    "        'random_state': 42,\n",
    "        'n_jobs': -1,\n",
    "        'verbose': -1\n",
    "    }\n",
    "    model = lgb.LGBMClassifier(**params)\n",
    "    \n",
    "    cv = StratifiedKFold(n_splits=5, shuffle=True, random_state=42)\n",
    "    scores = cross_val_score(model, X_train_transformed, y_train, cv=cv, scoring='roc_auc')\n",
    "    \n",
    "    return np.mean(scores)\n",
    "\n",
    "study = optuna.create_study(direction='maximize')\n",
    "study.optimize(objective, n_trials=50, show_progress_bar=True)\n",
    "\n",
    "print(\"\\nBest hyperparameters found by Optuna:\")\n",
    "print(study.best_params)"
   ]
  },
  {
   "cell_type": "markdown",
   "id": "2ea5ea7c",
   "metadata": {},
   "source": [
    "# 2. Train and Evaluate the Final Model"
   ]
  },
  {
   "cell_type": "code",
   "execution_count": 12,
   "id": "e1fdc847",
   "metadata": {},
   "outputs": [
    {
     "data": {
      "text/html": [
       "<style>#sk-container-id-2 {\n",
       "  /* Definition of color scheme common for light and dark mode */\n",
       "  --sklearn-color-text: #000;\n",
       "  --sklearn-color-text-muted: #666;\n",
       "  --sklearn-color-line: gray;\n",
       "  /* Definition of color scheme for unfitted estimators */\n",
       "  --sklearn-color-unfitted-level-0: #fff5e6;\n",
       "  --sklearn-color-unfitted-level-1: #f6e4d2;\n",
       "  --sklearn-color-unfitted-level-2: #ffe0b3;\n",
       "  --sklearn-color-unfitted-level-3: chocolate;\n",
       "  /* Definition of color scheme for fitted estimators */\n",
       "  --sklearn-color-fitted-level-0: #f0f8ff;\n",
       "  --sklearn-color-fitted-level-1: #d4ebff;\n",
       "  --sklearn-color-fitted-level-2: #b3dbfd;\n",
       "  --sklearn-color-fitted-level-3: cornflowerblue;\n",
       "\n",
       "  /* Specific color for light theme */\n",
       "  --sklearn-color-text-on-default-background: var(--sg-text-color, var(--theme-code-foreground, var(--jp-content-font-color1, black)));\n",
       "  --sklearn-color-background: var(--sg-background-color, var(--theme-background, var(--jp-layout-color0, white)));\n",
       "  --sklearn-color-border-box: var(--sg-text-color, var(--theme-code-foreground, var(--jp-content-font-color1, black)));\n",
       "  --sklearn-color-icon: #696969;\n",
       "\n",
       "  @media (prefers-color-scheme: dark) {\n",
       "    /* Redefinition of color scheme for dark theme */\n",
       "    --sklearn-color-text-on-default-background: var(--sg-text-color, var(--theme-code-foreground, var(--jp-content-font-color1, white)));\n",
       "    --sklearn-color-background: var(--sg-background-color, var(--theme-background, var(--jp-layout-color0, #111)));\n",
       "    --sklearn-color-border-box: var(--sg-text-color, var(--theme-code-foreground, var(--jp-content-font-color1, white)));\n",
       "    --sklearn-color-icon: #878787;\n",
       "  }\n",
       "}\n",
       "\n",
       "#sk-container-id-2 {\n",
       "  color: var(--sklearn-color-text);\n",
       "}\n",
       "\n",
       "#sk-container-id-2 pre {\n",
       "  padding: 0;\n",
       "}\n",
       "\n",
       "#sk-container-id-2 input.sk-hidden--visually {\n",
       "  border: 0;\n",
       "  clip: rect(1px 1px 1px 1px);\n",
       "  clip: rect(1px, 1px, 1px, 1px);\n",
       "  height: 1px;\n",
       "  margin: -1px;\n",
       "  overflow: hidden;\n",
       "  padding: 0;\n",
       "  position: absolute;\n",
       "  width: 1px;\n",
       "}\n",
       "\n",
       "#sk-container-id-2 div.sk-dashed-wrapped {\n",
       "  border: 1px dashed var(--sklearn-color-line);\n",
       "  margin: 0 0.4em 0.5em 0.4em;\n",
       "  box-sizing: border-box;\n",
       "  padding-bottom: 0.4em;\n",
       "  background-color: var(--sklearn-color-background);\n",
       "}\n",
       "\n",
       "#sk-container-id-2 div.sk-container {\n",
       "  /* jupyter's `normalize.less` sets `[hidden] { display: none; }`\n",
       "     but bootstrap.min.css set `[hidden] { display: none !important; }`\n",
       "     so we also need the `!important` here to be able to override the\n",
       "     default hidden behavior on the sphinx rendered scikit-learn.org.\n",
       "     See: https://github.com/scikit-learn/scikit-learn/issues/21755 */\n",
       "  display: inline-block !important;\n",
       "  position: relative;\n",
       "}\n",
       "\n",
       "#sk-container-id-2 div.sk-text-repr-fallback {\n",
       "  display: none;\n",
       "}\n",
       "\n",
       "div.sk-parallel-item,\n",
       "div.sk-serial,\n",
       "div.sk-item {\n",
       "  /* draw centered vertical line to link estimators */\n",
       "  background-image: linear-gradient(var(--sklearn-color-text-on-default-background), var(--sklearn-color-text-on-default-background));\n",
       "  background-size: 2px 100%;\n",
       "  background-repeat: no-repeat;\n",
       "  background-position: center center;\n",
       "}\n",
       "\n",
       "/* Parallel-specific style estimator block */\n",
       "\n",
       "#sk-container-id-2 div.sk-parallel-item::after {\n",
       "  content: \"\";\n",
       "  width: 100%;\n",
       "  border-bottom: 2px solid var(--sklearn-color-text-on-default-background);\n",
       "  flex-grow: 1;\n",
       "}\n",
       "\n",
       "#sk-container-id-2 div.sk-parallel {\n",
       "  display: flex;\n",
       "  align-items: stretch;\n",
       "  justify-content: center;\n",
       "  background-color: var(--sklearn-color-background);\n",
       "  position: relative;\n",
       "}\n",
       "\n",
       "#sk-container-id-2 div.sk-parallel-item {\n",
       "  display: flex;\n",
       "  flex-direction: column;\n",
       "}\n",
       "\n",
       "#sk-container-id-2 div.sk-parallel-item:first-child::after {\n",
       "  align-self: flex-end;\n",
       "  width: 50%;\n",
       "}\n",
       "\n",
       "#sk-container-id-2 div.sk-parallel-item:last-child::after {\n",
       "  align-self: flex-start;\n",
       "  width: 50%;\n",
       "}\n",
       "\n",
       "#sk-container-id-2 div.sk-parallel-item:only-child::after {\n",
       "  width: 0;\n",
       "}\n",
       "\n",
       "/* Serial-specific style estimator block */\n",
       "\n",
       "#sk-container-id-2 div.sk-serial {\n",
       "  display: flex;\n",
       "  flex-direction: column;\n",
       "  align-items: center;\n",
       "  background-color: var(--sklearn-color-background);\n",
       "  padding-right: 1em;\n",
       "  padding-left: 1em;\n",
       "}\n",
       "\n",
       "\n",
       "/* Toggleable style: style used for estimator/Pipeline/ColumnTransformer box that is\n",
       "clickable and can be expanded/collapsed.\n",
       "- Pipeline and ColumnTransformer use this feature and define the default style\n",
       "- Estimators will overwrite some part of the style using the `sk-estimator` class\n",
       "*/\n",
       "\n",
       "/* Pipeline and ColumnTransformer style (default) */\n",
       "\n",
       "#sk-container-id-2 div.sk-toggleable {\n",
       "  /* Default theme specific background. It is overwritten whether we have a\n",
       "  specific estimator or a Pipeline/ColumnTransformer */\n",
       "  background-color: var(--sklearn-color-background);\n",
       "}\n",
       "\n",
       "/* Toggleable label */\n",
       "#sk-container-id-2 label.sk-toggleable__label {\n",
       "  cursor: pointer;\n",
       "  display: flex;\n",
       "  width: 100%;\n",
       "  margin-bottom: 0;\n",
       "  padding: 0.5em;\n",
       "  box-sizing: border-box;\n",
       "  text-align: center;\n",
       "  align-items: start;\n",
       "  justify-content: space-between;\n",
       "  gap: 0.5em;\n",
       "}\n",
       "\n",
       "#sk-container-id-2 label.sk-toggleable__label .caption {\n",
       "  font-size: 0.6rem;\n",
       "  font-weight: lighter;\n",
       "  color: var(--sklearn-color-text-muted);\n",
       "}\n",
       "\n",
       "#sk-container-id-2 label.sk-toggleable__label-arrow:before {\n",
       "  /* Arrow on the left of the label */\n",
       "  content: \"▸\";\n",
       "  float: left;\n",
       "  margin-right: 0.25em;\n",
       "  color: var(--sklearn-color-icon);\n",
       "}\n",
       "\n",
       "#sk-container-id-2 label.sk-toggleable__label-arrow:hover:before {\n",
       "  color: var(--sklearn-color-text);\n",
       "}\n",
       "\n",
       "/* Toggleable content - dropdown */\n",
       "\n",
       "#sk-container-id-2 div.sk-toggleable__content {\n",
       "  max-height: 0;\n",
       "  max-width: 0;\n",
       "  overflow: hidden;\n",
       "  text-align: left;\n",
       "  /* unfitted */\n",
       "  background-color: var(--sklearn-color-unfitted-level-0);\n",
       "}\n",
       "\n",
       "#sk-container-id-2 div.sk-toggleable__content.fitted {\n",
       "  /* fitted */\n",
       "  background-color: var(--sklearn-color-fitted-level-0);\n",
       "}\n",
       "\n",
       "#sk-container-id-2 div.sk-toggleable__content pre {\n",
       "  margin: 0.2em;\n",
       "  border-radius: 0.25em;\n",
       "  color: var(--sklearn-color-text);\n",
       "  /* unfitted */\n",
       "  background-color: var(--sklearn-color-unfitted-level-0);\n",
       "}\n",
       "\n",
       "#sk-container-id-2 div.sk-toggleable__content.fitted pre {\n",
       "  /* unfitted */\n",
       "  background-color: var(--sklearn-color-fitted-level-0);\n",
       "}\n",
       "\n",
       "#sk-container-id-2 input.sk-toggleable__control:checked~div.sk-toggleable__content {\n",
       "  /* Expand drop-down */\n",
       "  max-height: 200px;\n",
       "  max-width: 100%;\n",
       "  overflow: auto;\n",
       "}\n",
       "\n",
       "#sk-container-id-2 input.sk-toggleable__control:checked~label.sk-toggleable__label-arrow:before {\n",
       "  content: \"▾\";\n",
       "}\n",
       "\n",
       "/* Pipeline/ColumnTransformer-specific style */\n",
       "\n",
       "#sk-container-id-2 div.sk-label input.sk-toggleable__control:checked~label.sk-toggleable__label {\n",
       "  color: var(--sklearn-color-text);\n",
       "  background-color: var(--sklearn-color-unfitted-level-2);\n",
       "}\n",
       "\n",
       "#sk-container-id-2 div.sk-label.fitted input.sk-toggleable__control:checked~label.sk-toggleable__label {\n",
       "  background-color: var(--sklearn-color-fitted-level-2);\n",
       "}\n",
       "\n",
       "/* Estimator-specific style */\n",
       "\n",
       "/* Colorize estimator box */\n",
       "#sk-container-id-2 div.sk-estimator input.sk-toggleable__control:checked~label.sk-toggleable__label {\n",
       "  /* unfitted */\n",
       "  background-color: var(--sklearn-color-unfitted-level-2);\n",
       "}\n",
       "\n",
       "#sk-container-id-2 div.sk-estimator.fitted input.sk-toggleable__control:checked~label.sk-toggleable__label {\n",
       "  /* fitted */\n",
       "  background-color: var(--sklearn-color-fitted-level-2);\n",
       "}\n",
       "\n",
       "#sk-container-id-2 div.sk-label label.sk-toggleable__label,\n",
       "#sk-container-id-2 div.sk-label label {\n",
       "  /* The background is the default theme color */\n",
       "  color: var(--sklearn-color-text-on-default-background);\n",
       "}\n",
       "\n",
       "/* On hover, darken the color of the background */\n",
       "#sk-container-id-2 div.sk-label:hover label.sk-toggleable__label {\n",
       "  color: var(--sklearn-color-text);\n",
       "  background-color: var(--sklearn-color-unfitted-level-2);\n",
       "}\n",
       "\n",
       "/* Label box, darken color on hover, fitted */\n",
       "#sk-container-id-2 div.sk-label.fitted:hover label.sk-toggleable__label.fitted {\n",
       "  color: var(--sklearn-color-text);\n",
       "  background-color: var(--sklearn-color-fitted-level-2);\n",
       "}\n",
       "\n",
       "/* Estimator label */\n",
       "\n",
       "#sk-container-id-2 div.sk-label label {\n",
       "  font-family: monospace;\n",
       "  font-weight: bold;\n",
       "  display: inline-block;\n",
       "  line-height: 1.2em;\n",
       "}\n",
       "\n",
       "#sk-container-id-2 div.sk-label-container {\n",
       "  text-align: center;\n",
       "}\n",
       "\n",
       "/* Estimator-specific */\n",
       "#sk-container-id-2 div.sk-estimator {\n",
       "  font-family: monospace;\n",
       "  border: 1px dotted var(--sklearn-color-border-box);\n",
       "  border-radius: 0.25em;\n",
       "  box-sizing: border-box;\n",
       "  margin-bottom: 0.5em;\n",
       "  /* unfitted */\n",
       "  background-color: var(--sklearn-color-unfitted-level-0);\n",
       "}\n",
       "\n",
       "#sk-container-id-2 div.sk-estimator.fitted {\n",
       "  /* fitted */\n",
       "  background-color: var(--sklearn-color-fitted-level-0);\n",
       "}\n",
       "\n",
       "/* on hover */\n",
       "#sk-container-id-2 div.sk-estimator:hover {\n",
       "  /* unfitted */\n",
       "  background-color: var(--sklearn-color-unfitted-level-2);\n",
       "}\n",
       "\n",
       "#sk-container-id-2 div.sk-estimator.fitted:hover {\n",
       "  /* fitted */\n",
       "  background-color: var(--sklearn-color-fitted-level-2);\n",
       "}\n",
       "\n",
       "/* Specification for estimator info (e.g. \"i\" and \"?\") */\n",
       "\n",
       "/* Common style for \"i\" and \"?\" */\n",
       "\n",
       ".sk-estimator-doc-link,\n",
       "a:link.sk-estimator-doc-link,\n",
       "a:visited.sk-estimator-doc-link {\n",
       "  float: right;\n",
       "  font-size: smaller;\n",
       "  line-height: 1em;\n",
       "  font-family: monospace;\n",
       "  background-color: var(--sklearn-color-background);\n",
       "  border-radius: 1em;\n",
       "  height: 1em;\n",
       "  width: 1em;\n",
       "  text-decoration: none !important;\n",
       "  margin-left: 0.5em;\n",
       "  text-align: center;\n",
       "  /* unfitted */\n",
       "  border: var(--sklearn-color-unfitted-level-1) 1pt solid;\n",
       "  color: var(--sklearn-color-unfitted-level-1);\n",
       "}\n",
       "\n",
       ".sk-estimator-doc-link.fitted,\n",
       "a:link.sk-estimator-doc-link.fitted,\n",
       "a:visited.sk-estimator-doc-link.fitted {\n",
       "  /* fitted */\n",
       "  border: var(--sklearn-color-fitted-level-1) 1pt solid;\n",
       "  color: var(--sklearn-color-fitted-level-1);\n",
       "}\n",
       "\n",
       "/* On hover */\n",
       "div.sk-estimator:hover .sk-estimator-doc-link:hover,\n",
       ".sk-estimator-doc-link:hover,\n",
       "div.sk-label-container:hover .sk-estimator-doc-link:hover,\n",
       ".sk-estimator-doc-link:hover {\n",
       "  /* unfitted */\n",
       "  background-color: var(--sklearn-color-unfitted-level-3);\n",
       "  color: var(--sklearn-color-background);\n",
       "  text-decoration: none;\n",
       "}\n",
       "\n",
       "div.sk-estimator.fitted:hover .sk-estimator-doc-link.fitted:hover,\n",
       ".sk-estimator-doc-link.fitted:hover,\n",
       "div.sk-label-container:hover .sk-estimator-doc-link.fitted:hover,\n",
       ".sk-estimator-doc-link.fitted:hover {\n",
       "  /* fitted */\n",
       "  background-color: var(--sklearn-color-fitted-level-3);\n",
       "  color: var(--sklearn-color-background);\n",
       "  text-decoration: none;\n",
       "}\n",
       "\n",
       "/* Span, style for the box shown on hovering the info icon */\n",
       ".sk-estimator-doc-link span {\n",
       "  display: none;\n",
       "  z-index: 9999;\n",
       "  position: relative;\n",
       "  font-weight: normal;\n",
       "  right: .2ex;\n",
       "  padding: .5ex;\n",
       "  margin: .5ex;\n",
       "  width: min-content;\n",
       "  min-width: 20ex;\n",
       "  max-width: 50ex;\n",
       "  color: var(--sklearn-color-text);\n",
       "  box-shadow: 2pt 2pt 4pt #999;\n",
       "  /* unfitted */\n",
       "  background: var(--sklearn-color-unfitted-level-0);\n",
       "  border: .5pt solid var(--sklearn-color-unfitted-level-3);\n",
       "}\n",
       "\n",
       ".sk-estimator-doc-link.fitted span {\n",
       "  /* fitted */\n",
       "  background: var(--sklearn-color-fitted-level-0);\n",
       "  border: var(--sklearn-color-fitted-level-3);\n",
       "}\n",
       "\n",
       ".sk-estimator-doc-link:hover span {\n",
       "  display: block;\n",
       "}\n",
       "\n",
       "/* \"?\"-specific style due to the `<a>` HTML tag */\n",
       "\n",
       "#sk-container-id-2 a.estimator_doc_link {\n",
       "  float: right;\n",
       "  font-size: 1rem;\n",
       "  line-height: 1em;\n",
       "  font-family: monospace;\n",
       "  background-color: var(--sklearn-color-background);\n",
       "  border-radius: 1rem;\n",
       "  height: 1rem;\n",
       "  width: 1rem;\n",
       "  text-decoration: none;\n",
       "  /* unfitted */\n",
       "  color: var(--sklearn-color-unfitted-level-1);\n",
       "  border: var(--sklearn-color-unfitted-level-1) 1pt solid;\n",
       "}\n",
       "\n",
       "#sk-container-id-2 a.estimator_doc_link.fitted {\n",
       "  /* fitted */\n",
       "  border: var(--sklearn-color-fitted-level-1) 1pt solid;\n",
       "  color: var(--sklearn-color-fitted-level-1);\n",
       "}\n",
       "\n",
       "/* On hover */\n",
       "#sk-container-id-2 a.estimator_doc_link:hover {\n",
       "  /* unfitted */\n",
       "  background-color: var(--sklearn-color-unfitted-level-3);\n",
       "  color: var(--sklearn-color-background);\n",
       "  text-decoration: none;\n",
       "}\n",
       "\n",
       "#sk-container-id-2 a.estimator_doc_link.fitted:hover {\n",
       "  /* fitted */\n",
       "  background-color: var(--sklearn-color-fitted-level-3);\n",
       "}\n",
       "</style><div id=\"sk-container-id-2\" class=\"sk-top-container\"><div class=\"sk-text-repr-fallback\"><pre>LGBMClassifier(colsample_bytree=0.878047974397901,\n",
       "               learning_rate=0.01093697962475703, max_depth=7,\n",
       "               min_child_samples=58, n_estimators=447, n_jobs=-1, num_leaves=82,\n",
       "               objective=&#x27;binary&#x27;, random_state=42,\n",
       "               reg_alpha=0.0007410392379483786, reg_lambda=0.4512054135333452,\n",
       "               subsample=0.8120523878750876, verbose=-1)</pre><b>In a Jupyter environment, please rerun this cell to show the HTML representation or trust the notebook. <br />On GitHub, the HTML representation is unable to render, please try loading this page with nbviewer.org.</b></div><div class=\"sk-container\" hidden><div class=\"sk-item\"><div class=\"sk-estimator fitted sk-toggleable\"><input class=\"sk-toggleable__control sk-hidden--visually\" id=\"sk-estimator-id-2\" type=\"checkbox\" checked><label for=\"sk-estimator-id-2\" class=\"sk-toggleable__label fitted sk-toggleable__label-arrow\"><div><div>LGBMClassifier</div></div><div><span class=\"sk-estimator-doc-link fitted\">i<span>Fitted</span></span></div></label><div class=\"sk-toggleable__content fitted\"><pre>LGBMClassifier(colsample_bytree=0.878047974397901,\n",
       "               learning_rate=0.01093697962475703, max_depth=7,\n",
       "               min_child_samples=58, n_estimators=447, n_jobs=-1, num_leaves=82,\n",
       "               objective=&#x27;binary&#x27;, random_state=42,\n",
       "               reg_alpha=0.0007410392379483786, reg_lambda=0.4512054135333452,\n",
       "               subsample=0.8120523878750876, verbose=-1)</pre></div> </div></div></div></div>"
      ],
      "text/plain": [
       "LGBMClassifier(colsample_bytree=0.878047974397901,\n",
       "               learning_rate=0.01093697962475703, max_depth=7,\n",
       "               min_child_samples=58, n_estimators=447, n_jobs=-1, num_leaves=82,\n",
       "               objective='binary', random_state=42,\n",
       "               reg_alpha=0.0007410392379483786, reg_lambda=0.4512054135333452,\n",
       "               subsample=0.8120523878750876, verbose=-1)"
      ]
     },
     "execution_count": 12,
     "metadata": {},
     "output_type": "execute_result"
    }
   ],
   "source": [
    "best_params = study.best_params\n",
    "best_model = lgb.LGBMClassifier(**best_params, objective='binary', random_state=42, n_jobs=-1, verbose=-1)\n",
    "best_model.fit(X_train_transformed, y_train)"
   ]
  },
  {
   "cell_type": "code",
   "execution_count": 13,
   "id": "dd318e6b",
   "metadata": {},
   "outputs": [],
   "source": [
    "# Make predictions\n",
    "y_pred = best_model.predict(X_test_transformed)\n",
    "y_pred_proba = best_model.predict_proba(X_test_transformed)[:, 1]"
   ]
  },
  {
   "cell_type": "markdown",
   "id": "ce1e537b",
   "metadata": {},
   "source": [
    "# 3. Comprehensive Evaluation"
   ]
  },
  {
   "cell_type": "code",
   "execution_count": 14,
   "id": "526230d2",
   "metadata": {},
   "outputs": [
    {
     "name": "stdout",
     "output_type": "stream",
     "text": [
      "\n",
      "Classification Report:\n",
      "              precision    recall  f1-score   support\n",
      "\n",
      "           0       0.91      0.98      0.95      7310\n",
      "           1       0.68      0.27      0.39       928\n",
      "\n",
      "    accuracy                           0.90      8238\n",
      "   macro avg       0.80      0.63      0.67      8238\n",
      "weighted avg       0.89      0.90      0.88      8238\n",
      "\n"
     ]
    }
   ],
   "source": [
    "print(\"\\nClassification Report:\")\n",
    "print(classification_report(y_test, y_pred))"
   ]
  },
  {
   "cell_type": "code",
   "execution_count": 15,
   "id": "da7bddb2",
   "metadata": {},
   "outputs": [
    {
     "name": "stdout",
     "output_type": "stream",
     "text": [
      "\n",
      "Confusion Matrix:\n"
     ]
    },
    {
     "data": {
      "application/vnd.plotly.v1+json": {
       "config": {
        "plotlyServerURL": "https://plot.ly"
       },
       "data": [
        {
         "coloraxis": "coloraxis",
         "hovertemplate": "Predicted: %{x}<br>Actual: %{y}<br>color: %{z}<extra></extra>",
         "name": "0",
         "texttemplate": "%{z}",
         "type": "heatmap",
         "x": [
          "No",
          "Yes"
         ],
         "xaxis": "x",
         "y": [
          "No",
          "Yes"
         ],
         "yaxis": "y",
         "z": [
          [
           7191,
           119
          ],
          [
           675,
           253
          ]
         ]
        }
       ],
       "layout": {
        "coloraxis": {
         "colorscale": [
          [
           0,
           "rgb(247,251,255)"
          ],
          [
           0.125,
           "rgb(222,235,247)"
          ],
          [
           0.25,
           "rgb(198,219,239)"
          ],
          [
           0.375,
           "rgb(158,202,225)"
          ],
          [
           0.5,
           "rgb(107,174,214)"
          ],
          [
           0.625,
           "rgb(66,146,198)"
          ],
          [
           0.75,
           "rgb(33,113,181)"
          ],
          [
           0.875,
           "rgb(8,81,156)"
          ],
          [
           1,
           "rgb(8,48,107)"
          ]
         ]
        },
        "template": {
         "data": {
          "bar": [
           {
            "error_x": {
             "color": "#2a3f5f"
            },
            "error_y": {
             "color": "#2a3f5f"
            },
            "marker": {
             "line": {
              "color": "#E5ECF6",
              "width": 0.5
             },
             "pattern": {
              "fillmode": "overlay",
              "size": 10,
              "solidity": 0.2
             }
            },
            "type": "bar"
           }
          ],
          "barpolar": [
           {
            "marker": {
             "line": {
              "color": "#E5ECF6",
              "width": 0.5
             },
             "pattern": {
              "fillmode": "overlay",
              "size": 10,
              "solidity": 0.2
             }
            },
            "type": "barpolar"
           }
          ],
          "carpet": [
           {
            "aaxis": {
             "endlinecolor": "#2a3f5f",
             "gridcolor": "white",
             "linecolor": "white",
             "minorgridcolor": "white",
             "startlinecolor": "#2a3f5f"
            },
            "baxis": {
             "endlinecolor": "#2a3f5f",
             "gridcolor": "white",
             "linecolor": "white",
             "minorgridcolor": "white",
             "startlinecolor": "#2a3f5f"
            },
            "type": "carpet"
           }
          ],
          "choropleth": [
           {
            "colorbar": {
             "outlinewidth": 0,
             "ticks": ""
            },
            "type": "choropleth"
           }
          ],
          "contour": [
           {
            "colorbar": {
             "outlinewidth": 0,
             "ticks": ""
            },
            "colorscale": [
             [
              0,
              "#0d0887"
             ],
             [
              0.1111111111111111,
              "#46039f"
             ],
             [
              0.2222222222222222,
              "#7201a8"
             ],
             [
              0.3333333333333333,
              "#9c179e"
             ],
             [
              0.4444444444444444,
              "#bd3786"
             ],
             [
              0.5555555555555556,
              "#d8576b"
             ],
             [
              0.6666666666666666,
              "#ed7953"
             ],
             [
              0.7777777777777778,
              "#fb9f3a"
             ],
             [
              0.8888888888888888,
              "#fdca26"
             ],
             [
              1,
              "#f0f921"
             ]
            ],
            "type": "contour"
           }
          ],
          "contourcarpet": [
           {
            "colorbar": {
             "outlinewidth": 0,
             "ticks": ""
            },
            "type": "contourcarpet"
           }
          ],
          "heatmap": [
           {
            "colorbar": {
             "outlinewidth": 0,
             "ticks": ""
            },
            "colorscale": [
             [
              0,
              "#0d0887"
             ],
             [
              0.1111111111111111,
              "#46039f"
             ],
             [
              0.2222222222222222,
              "#7201a8"
             ],
             [
              0.3333333333333333,
              "#9c179e"
             ],
             [
              0.4444444444444444,
              "#bd3786"
             ],
             [
              0.5555555555555556,
              "#d8576b"
             ],
             [
              0.6666666666666666,
              "#ed7953"
             ],
             [
              0.7777777777777778,
              "#fb9f3a"
             ],
             [
              0.8888888888888888,
              "#fdca26"
             ],
             [
              1,
              "#f0f921"
             ]
            ],
            "type": "heatmap"
           }
          ],
          "heatmapgl": [
           {
            "colorbar": {
             "outlinewidth": 0,
             "ticks": ""
            },
            "colorscale": [
             [
              0,
              "#0d0887"
             ],
             [
              0.1111111111111111,
              "#46039f"
             ],
             [
              0.2222222222222222,
              "#7201a8"
             ],
             [
              0.3333333333333333,
              "#9c179e"
             ],
             [
              0.4444444444444444,
              "#bd3786"
             ],
             [
              0.5555555555555556,
              "#d8576b"
             ],
             [
              0.6666666666666666,
              "#ed7953"
             ],
             [
              0.7777777777777778,
              "#fb9f3a"
             ],
             [
              0.8888888888888888,
              "#fdca26"
             ],
             [
              1,
              "#f0f921"
             ]
            ],
            "type": "heatmapgl"
           }
          ],
          "histogram": [
           {
            "marker": {
             "pattern": {
              "fillmode": "overlay",
              "size": 10,
              "solidity": 0.2
             }
            },
            "type": "histogram"
           }
          ],
          "histogram2d": [
           {
            "colorbar": {
             "outlinewidth": 0,
             "ticks": ""
            },
            "colorscale": [
             [
              0,
              "#0d0887"
             ],
             [
              0.1111111111111111,
              "#46039f"
             ],
             [
              0.2222222222222222,
              "#7201a8"
             ],
             [
              0.3333333333333333,
              "#9c179e"
             ],
             [
              0.4444444444444444,
              "#bd3786"
             ],
             [
              0.5555555555555556,
              "#d8576b"
             ],
             [
              0.6666666666666666,
              "#ed7953"
             ],
             [
              0.7777777777777778,
              "#fb9f3a"
             ],
             [
              0.8888888888888888,
              "#fdca26"
             ],
             [
              1,
              "#f0f921"
             ]
            ],
            "type": "histogram2d"
           }
          ],
          "histogram2dcontour": [
           {
            "colorbar": {
             "outlinewidth": 0,
             "ticks": ""
            },
            "colorscale": [
             [
              0,
              "#0d0887"
             ],
             [
              0.1111111111111111,
              "#46039f"
             ],
             [
              0.2222222222222222,
              "#7201a8"
             ],
             [
              0.3333333333333333,
              "#9c179e"
             ],
             [
              0.4444444444444444,
              "#bd3786"
             ],
             [
              0.5555555555555556,
              "#d8576b"
             ],
             [
              0.6666666666666666,
              "#ed7953"
             ],
             [
              0.7777777777777778,
              "#fb9f3a"
             ],
             [
              0.8888888888888888,
              "#fdca26"
             ],
             [
              1,
              "#f0f921"
             ]
            ],
            "type": "histogram2dcontour"
           }
          ],
          "mesh3d": [
           {
            "colorbar": {
             "outlinewidth": 0,
             "ticks": ""
            },
            "type": "mesh3d"
           }
          ],
          "parcoords": [
           {
            "line": {
             "colorbar": {
              "outlinewidth": 0,
              "ticks": ""
             }
            },
            "type": "parcoords"
           }
          ],
          "pie": [
           {
            "automargin": true,
            "type": "pie"
           }
          ],
          "scatter": [
           {
            "fillpattern": {
             "fillmode": "overlay",
             "size": 10,
             "solidity": 0.2
            },
            "type": "scatter"
           }
          ],
          "scatter3d": [
           {
            "line": {
             "colorbar": {
              "outlinewidth": 0,
              "ticks": ""
             }
            },
            "marker": {
             "colorbar": {
              "outlinewidth": 0,
              "ticks": ""
             }
            },
            "type": "scatter3d"
           }
          ],
          "scattercarpet": [
           {
            "marker": {
             "colorbar": {
              "outlinewidth": 0,
              "ticks": ""
             }
            },
            "type": "scattercarpet"
           }
          ],
          "scattergeo": [
           {
            "marker": {
             "colorbar": {
              "outlinewidth": 0,
              "ticks": ""
             }
            },
            "type": "scattergeo"
           }
          ],
          "scattergl": [
           {
            "marker": {
             "colorbar": {
              "outlinewidth": 0,
              "ticks": ""
             }
            },
            "type": "scattergl"
           }
          ],
          "scattermapbox": [
           {
            "marker": {
             "colorbar": {
              "outlinewidth": 0,
              "ticks": ""
             }
            },
            "type": "scattermapbox"
           }
          ],
          "scatterpolar": [
           {
            "marker": {
             "colorbar": {
              "outlinewidth": 0,
              "ticks": ""
             }
            },
            "type": "scatterpolar"
           }
          ],
          "scatterpolargl": [
           {
            "marker": {
             "colorbar": {
              "outlinewidth": 0,
              "ticks": ""
             }
            },
            "type": "scatterpolargl"
           }
          ],
          "scatterternary": [
           {
            "marker": {
             "colorbar": {
              "outlinewidth": 0,
              "ticks": ""
             }
            },
            "type": "scatterternary"
           }
          ],
          "surface": [
           {
            "colorbar": {
             "outlinewidth": 0,
             "ticks": ""
            },
            "colorscale": [
             [
              0,
              "#0d0887"
             ],
             [
              0.1111111111111111,
              "#46039f"
             ],
             [
              0.2222222222222222,
              "#7201a8"
             ],
             [
              0.3333333333333333,
              "#9c179e"
             ],
             [
              0.4444444444444444,
              "#bd3786"
             ],
             [
              0.5555555555555556,
              "#d8576b"
             ],
             [
              0.6666666666666666,
              "#ed7953"
             ],
             [
              0.7777777777777778,
              "#fb9f3a"
             ],
             [
              0.8888888888888888,
              "#fdca26"
             ],
             [
              1,
              "#f0f921"
             ]
            ],
            "type": "surface"
           }
          ],
          "table": [
           {
            "cells": {
             "fill": {
              "color": "#EBF0F8"
             },
             "line": {
              "color": "white"
             }
            },
            "header": {
             "fill": {
              "color": "#C8D4E3"
             },
             "line": {
              "color": "white"
             }
            },
            "type": "table"
           }
          ]
         },
         "layout": {
          "annotationdefaults": {
           "arrowcolor": "#2a3f5f",
           "arrowhead": 0,
           "arrowwidth": 1
          },
          "autotypenumbers": "strict",
          "coloraxis": {
           "colorbar": {
            "outlinewidth": 0,
            "ticks": ""
           }
          },
          "colorscale": {
           "diverging": [
            [
             0,
             "#8e0152"
            ],
            [
             0.1,
             "#c51b7d"
            ],
            [
             0.2,
             "#de77ae"
            ],
            [
             0.3,
             "#f1b6da"
            ],
            [
             0.4,
             "#fde0ef"
            ],
            [
             0.5,
             "#f7f7f7"
            ],
            [
             0.6,
             "#e6f5d0"
            ],
            [
             0.7,
             "#b8e186"
            ],
            [
             0.8,
             "#7fbc41"
            ],
            [
             0.9,
             "#4d9221"
            ],
            [
             1,
             "#276419"
            ]
           ],
           "sequential": [
            [
             0,
             "#0d0887"
            ],
            [
             0.1111111111111111,
             "#46039f"
            ],
            [
             0.2222222222222222,
             "#7201a8"
            ],
            [
             0.3333333333333333,
             "#9c179e"
            ],
            [
             0.4444444444444444,
             "#bd3786"
            ],
            [
             0.5555555555555556,
             "#d8576b"
            ],
            [
             0.6666666666666666,
             "#ed7953"
            ],
            [
             0.7777777777777778,
             "#fb9f3a"
            ],
            [
             0.8888888888888888,
             "#fdca26"
            ],
            [
             1,
             "#f0f921"
            ]
           ],
           "sequentialminus": [
            [
             0,
             "#0d0887"
            ],
            [
             0.1111111111111111,
             "#46039f"
            ],
            [
             0.2222222222222222,
             "#7201a8"
            ],
            [
             0.3333333333333333,
             "#9c179e"
            ],
            [
             0.4444444444444444,
             "#bd3786"
            ],
            [
             0.5555555555555556,
             "#d8576b"
            ],
            [
             0.6666666666666666,
             "#ed7953"
            ],
            [
             0.7777777777777778,
             "#fb9f3a"
            ],
            [
             0.8888888888888888,
             "#fdca26"
            ],
            [
             1,
             "#f0f921"
            ]
           ]
          },
          "colorway": [
           "#636efa",
           "#EF553B",
           "#00cc96",
           "#ab63fa",
           "#FFA15A",
           "#19d3f3",
           "#FF6692",
           "#B6E880",
           "#FF97FF",
           "#FECB52"
          ],
          "font": {
           "color": "#2a3f5f"
          },
          "geo": {
           "bgcolor": "white",
           "lakecolor": "white",
           "landcolor": "#E5ECF6",
           "showlakes": true,
           "showland": true,
           "subunitcolor": "white"
          },
          "hoverlabel": {
           "align": "left"
          },
          "hovermode": "closest",
          "mapbox": {
           "style": "light"
          },
          "paper_bgcolor": "white",
          "plot_bgcolor": "#E5ECF6",
          "polar": {
           "angularaxis": {
            "gridcolor": "white",
            "linecolor": "white",
            "ticks": ""
           },
           "bgcolor": "#E5ECF6",
           "radialaxis": {
            "gridcolor": "white",
            "linecolor": "white",
            "ticks": ""
           }
          },
          "scene": {
           "xaxis": {
            "backgroundcolor": "#E5ECF6",
            "gridcolor": "white",
            "gridwidth": 2,
            "linecolor": "white",
            "showbackground": true,
            "ticks": "",
            "zerolinecolor": "white"
           },
           "yaxis": {
            "backgroundcolor": "#E5ECF6",
            "gridcolor": "white",
            "gridwidth": 2,
            "linecolor": "white",
            "showbackground": true,
            "ticks": "",
            "zerolinecolor": "white"
           },
           "zaxis": {
            "backgroundcolor": "#E5ECF6",
            "gridcolor": "white",
            "gridwidth": 2,
            "linecolor": "white",
            "showbackground": true,
            "ticks": "",
            "zerolinecolor": "white"
           }
          },
          "shapedefaults": {
           "line": {
            "color": "#2a3f5f"
           }
          },
          "ternary": {
           "aaxis": {
            "gridcolor": "white",
            "linecolor": "white",
            "ticks": ""
           },
           "baxis": {
            "gridcolor": "white",
            "linecolor": "white",
            "ticks": ""
           },
           "bgcolor": "#E5ECF6",
           "caxis": {
            "gridcolor": "white",
            "linecolor": "white",
            "ticks": ""
           }
          },
          "title": {
           "x": 0.05
          },
          "xaxis": {
           "automargin": true,
           "gridcolor": "white",
           "linecolor": "white",
           "ticks": "",
           "title": {
            "standoff": 15
           },
           "zerolinecolor": "white",
           "zerolinewidth": 2
          },
          "yaxis": {
           "automargin": true,
           "gridcolor": "white",
           "linecolor": "white",
           "ticks": "",
           "title": {
            "standoff": 15
           },
           "zerolinecolor": "white",
           "zerolinewidth": 2
          }
         }
        },
        "title": {
         "text": "Confusion Matrix"
        },
        "xaxis": {
         "anchor": "y",
         "constrain": "domain",
         "domain": [
          0,
          1
         ],
         "scaleanchor": "y",
         "title": {
          "text": "Predicted"
         }
        },
        "yaxis": {
         "anchor": "x",
         "autorange": "reversed",
         "constrain": "domain",
         "domain": [
          0,
          1
         ],
         "title": {
          "text": "Actual"
         }
        }
       }
      }
     },
     "metadata": {},
     "output_type": "display_data"
    }
   ],
   "source": [
    "print(\"\\nConfusion Matrix:\")\n",
    "cm = confusion_matrix(y_test, y_pred)\n",
    "fig = px.imshow(cm, text_auto=True, color_continuous_scale='Blues',\n",
    "                labels={'x':'Predicted', 'y':'Actual'},\n",
    "                x=['No', 'Yes'], y=['No', 'Yes'],\n",
    "                title='Confusion Matrix')\n",
    "fig.show()"
   ]
  },
  {
   "cell_type": "code",
   "execution_count": 16,
   "id": "076281fd",
   "metadata": {},
   "outputs": [
    {
     "data": {
      "application/vnd.plotly.v1+json": {
       "config": {
        "plotlyServerURL": "https://plot.ly"
       },
       "data": [
        {
         "mode": "lines",
         "name": "ROC curve (area = 0.81)",
         "type": "scatter",
         "x": [
          0,
          0,
          0,
          0.00013679890560875513,
          0.00013679890560875513,
          0.00027359781121751026,
          0.00027359781121751026,
          0.0004103967168262654,
          0.0004103967168262654,
          0.0005471956224350205,
          0.0005471956224350205,
          0.0006839945280437756,
          0.0006839945280437756,
          0.0008207934336525308,
          0.0008207934336525308,
          0.0009575923392612859,
          0.0009575923392612859,
          0.001094391244870041,
          0.001094391244870041,
          0.0012311901504787962,
          0.0012311901504787962,
          0.0013679890560875513,
          0.0013679890560875513,
          0.0016415868673050615,
          0.0016415868673050615,
          0.0019151846785225718,
          0.0019151846785225718,
          0.002051983584131327,
          0.002051983584131327,
          0.0024623803009575923,
          0.0024623803009575923,
          0.0025991792065663474,
          0.0025991792065663474,
          0.0027359781121751026,
          0.0027359781121751026,
          0.0028727770177838577,
          0.0028727770177838577,
          0.003146374829001368,
          0.003146374829001368,
          0.003283173734610123,
          0.003283173734610123,
          0.003419972640218878,
          0.003419972640218878,
          0.0036935704514363885,
          0.0036935704514363885,
          0.003967168262653899,
          0.003967168262653899,
          0.004103967168262654,
          0.004103967168262654,
          0.004240766073871409,
          0.004240766073871409,
          0.004514363885088919,
          0.004514363885088919,
          0.004651162790697674,
          0.004651162790697674,
          0.00533515731874145,
          0.00533515731874145,
          0.005471956224350205,
          0.005471956224350205,
          0.00560875512995896,
          0.00560875512995896,
          0.005745554035567715,
          0.005745554035567715,
          0.006019151846785226,
          0.006019151846785226,
          0.006155950752393981,
          0.006155950752393981,
          0.006292749658002736,
          0.006292749658002736,
          0.006429548563611491,
          0.006429548563611491,
          0.006839945280437756,
          0.006839945280437756,
          0.007387140902872777,
          0.007387140902872777,
          0.007523939808481532,
          0.007523939808481532,
          0.007660738714090287,
          0.007660738714090287,
          0.007797537619699042,
          0.007797537619699042,
          0.007934336525307797,
          0.007934336525307797,
          0.008071135430916553,
          0.008071135430916553,
          0.008207934336525308,
          0.008207934336525308,
          0.008344733242134063,
          0.008344733242134063,
          0.008481532147742818,
          0.008481532147742818,
          0.008618331053351573,
          0.008618331053351573,
          0.008755129958960328,
          0.008755129958960328,
          0.008891928864569083,
          0.008891928864569083,
          0.009028727770177838,
          0.009028727770177838,
          0.009165526675786594,
          0.009165526675786594,
          0.00984952120383037,
          0.00984952120383037,
          0.009986320109439124,
          0.009986320109439124,
          0.01012311901504788,
          0.01012311901504788,
          0.010259917920656635,
          0.010259917920656635,
          0.01039671682626539,
          0.01039671682626539,
          0.0106703146374829,
          0.0106703146374829,
          0.010807113543091655,
          0.010807113543091655,
          0.011354309165526676,
          0.011354309165526676,
          0.011627906976744186,
          0.011627906976744186,
          0.012038303693570451,
          0.012038303693570451,
          0.012175102599179206,
          0.012175102599179206,
          0.012311901504787962,
          0.012311901504787962,
          0.012448700410396717,
          0.012448700410396717,
          0.012585499316005472,
          0.012585499316005472,
          0.012859097127222982,
          0.012859097127222982,
          0.013132694938440492,
          0.013132694938440492,
          0.013269493844049247,
          0.013269493844049247,
          0.013406292749658003,
          0.013406292749658003,
          0.013543091655266758,
          0.013543091655266758,
          0.013679890560875513,
          0.013679890560875513,
          0.013816689466484268,
          0.013816689466484268,
          0.013953488372093023,
          0.013953488372093023,
          0.014090287277701778,
          0.014090287277701778,
          0.014774281805745554,
          0.014774281805745554,
          0.015321477428180574,
          0.015321477428180574,
          0.01545827633378933,
          0.01545827633378933,
          0.01573187414500684,
          0.01573187414500684,
          0.015868673050615595,
          0.015868673050615595,
          0.01600547195622435,
          0.01600547195622435,
          0.016142270861833105,
          0.016142270861833105,
          0.01627906976744186,
          0.01627906976744186,
          0.016415868673050615,
          0.016415868673050615,
          0.01655266757865937,
          0.01655266757865937,
          0.01709986320109439,
          0.01709986320109439,
          0.0173734610123119,
          0.0173734610123119,
          0.017510259917920656,
          0.017510259917920656,
          0.017920656634746922,
          0.017920656634746922,
          0.018467852257181942,
          0.018467852257181942,
          0.018604651162790697,
          0.018604651162790697,
          0.018741450068399453,
          0.018741450068399453,
          0.018878248974008208,
          0.018878248974008208,
          0.019015047879616963,
          0.019015047879616963,
          0.019151846785225718,
          0.019151846785225718,
          0.019288645690834473,
          0.019288645690834473,
          0.019425444596443228,
          0.019425444596443228,
          0.019835841313269494,
          0.019835841313269494,
          0.02024623803009576,
          0.02024623803009576,
          0.020656634746922024,
          0.020656634746922024,
          0.020930232558139535,
          0.020930232558139535,
          0.0213406292749658,
          0.0213406292749658,
          0.02161422708618331,
          0.02161422708618331,
          0.022298221614227086,
          0.022298221614227086,
          0.02243502051983584,
          0.02243502051983584,
          0.022571819425444596,
          0.02270861833105335,
          0.02270861833105335,
          0.023392612859097127,
          0.023392612859097127,
          0.023529411764705882,
          0.023529411764705882,
          0.023803009575923392,
          0.023803009575923392,
          0.024076607387140903,
          0.024076607387140903,
          0.024213406292749658,
          0.024213406292749658,
          0.024623803009575923,
          0.024623803009575923,
          0.024760601915184678,
          0.024760601915184678,
          0.024897400820793433,
          0.024897400820793433,
          0.025170998632010944,
          0.025991792065663474,
          0.025991792065663474,
          0.026538987688098495,
          0.026538987688098495,
          0.02694938440492476,
          0.02694938440492476,
          0.02722298221614227,
          0.02722298221614227,
          0.027906976744186046,
          0.027906976744186046,
          0.0280437756497948,
          0.0280437756497948,
          0.028180574555403556,
          0.028180574555403556,
          0.028454172366621067,
          0.028454172366621067,
          0.028864569083447332,
          0.028864569083447332,
          0.029958960328317373,
          0.029958960328317373,
          0.030095759233926128,
          0.030095759233926128,
          0.03036935704514364,
          0.03036935704514364,
          0.030506155950752394,
          0.030506155950752394,
          0.03064295485636115,
          0.03091655266757866,
          0.03091655266757866,
          0.031326949384404924,
          0.031326949384404924,
          0.031600547195622435,
          0.031600547195622435,
          0.03173734610123119,
          0.03173734610123119,
          0.031874145006839945,
          0.031874145006839945,
          0.0320109439124487,
          0.032147742818057455,
          0.032968536251709986,
          0.032968536251709986,
          0.033242134062927496,
          0.033242134062927496,
          0.033515731874145006,
          0.033515731874145006,
          0.03392612859097127,
          0.03392612859097127,
          0.03433652530779754,
          0.03433652530779754,
          0.0347469220246238,
          0.0347469220246238,
          0.03488372093023256,
          0.03488372093023256,
          0.03529411764705882,
          0.03529411764705882,
          0.03570451436388509,
          0.03570451436388509,
          0.036114911080711354,
          0.036114911080711354,
          0.036388508891928864,
          0.036388508891928864,
          0.03679890560875513,
          0.03679890560875513,
          0.036935704514363885,
          0.036935704514363885,
          0.03761969904240766,
          0.03761969904240766,
          0.03789329685362517,
          0.03789329685362517,
          0.038030095759233926,
          0.038030095759233926,
          0.03844049247606019,
          0.03844049247606019,
          0.038577291381668946,
          0.038577291381668946,
          0.0387140902872777,
          0.0387140902872777,
          0.03898768809849521,
          0.03898768809849521,
          0.03953488372093023,
          0.03953488372093023,
          0.0399452804377565,
          0.0399452804377565,
          0.04008207934336525,
          0.04008207934336525,
          0.04158686730506156,
          0.04158686730506156,
          0.041723666210670314,
          0.041723666210670314,
          0.04186046511627907,
          0.041997264021887824,
          0.041997264021887824,
          0.04240766073871409,
          0.04240766073871409,
          0.042544459644322845,
          0.042544459644322845,
          0.0426812585499316,
          0.0426812585499316,
          0.04295485636114911,
          0.04295485636114911,
          0.043091655266757865,
          0.043091655266757865,
          0.04322845417236662,
          0.04322845417236662,
          0.04377564979480164,
          0.04377564979480164,
          0.044186046511627906,
          0.04445964432284542,
          0.04473324213406293,
          0.04473324213406293,
          0.0454172366621067,
          0.0454172366621067,
          0.04610123119015048,
          0.04610123119015048,
          0.04623803009575923,
          0.04623803009575923,
          0.0466484268125855,
          0.0466484268125855,
          0.047058823529411764,
          0.047058823529411764,
          0.04746922024623803,
          0.04746922024623803,
          0.04774281805745554,
          0.04774281805745554,
          0.048153214774281805,
          0.048153214774281805,
          0.048426812585499315,
          0.048426812585499315,
          0.04883720930232558,
          0.04883720930232558,
          0.049247606019151846,
          0.049247606019151846,
          0.0493844049247606,
          0.0493844049247606,
          0.049521203830369356,
          0.049521203830369356,
          0.04979480164158687,
          0.04979480164158687,
          0.05020519835841313,
          0.05034199726402189,
          0.05047879616963064,
          0.05047879616963064,
          0.0506155950752394,
          0.0506155950752394,
          0.05075239398084815,
          0.05075239398084815,
          0.05102599179206566,
          0.05102599179206566,
          0.05143638850889193,
          0.05143638850889193,
          0.05157318741450068,
          0.05157318741450068,
          0.05198358413132695,
          0.05198358413132695,
          0.052941176470588235,
          0.052941176470588235,
          0.05307797537619699,
          0.05307797537619699,
          0.053761969904240765,
          0.053761969904240765,
          0.054582763337893296,
          0.054582763337893296,
          0.05499316005471956,
          0.05499316005471956,
          0.05526675786593707,
          0.05526675786593707,
          0.05567715458276334,
          0.05567715458276334,
          0.0560875512995896,
          0.0560875512995896,
          0.05622435020519836,
          0.05622435020519836,
          0.05636114911080711,
          0.05636114911080711,
          0.05649794801641587,
          0.05649794801641587,
          0.05704514363885089,
          0.05704514363885089,
          0.057181942544459644,
          0.057181942544459644,
          0.05786593707250342,
          0.05786593707250342,
          0.058823529411764705,
          0.058823529411764705,
          0.05950752393980848,
          0.05950752393980848,
          0.05978112175102599,
          0.05978112175102599,
          0.059917920656634746,
          0.059917920656634746,
          0.06032831737346101,
          0.06032831737346101,
          0.06060191518467852,
          0.06060191518467852,
          0.06183310533515732,
          0.06183310533515732,
          0.06320109439124487,
          0.06320109439124487,
          0.06361149110807114,
          0.06361149110807114,
          0.0640218878248974,
          0.0640218878248974,
          0.06415868673050616,
          0.06415868673050616,
          0.06511627906976744,
          0.06511627906976744,
          0.06538987688098495,
          0.06538987688098495,
          0.06580027359781122,
          0.06580027359781122,
          0.06621067031463748,
          0.06621067031463748,
          0.06634746922024624,
          0.06662106703146375,
          0.06662106703146375,
          0.06716826265389877,
          0.06716826265389877,
          0.06744186046511629,
          0.06744186046511629,
          0.06785225718194254,
          0.06785225718194254,
          0.06839945280437756,
          0.06839945280437756,
          0.06880984952120384,
          0.06880984952120384,
          0.06894664842681258,
          0.06894664842681258,
          0.06963064295485637,
          0.06963064295485637,
          0.07072503419972641,
          0.07072503419972641,
          0.07113543091655267,
          0.07113543091655267,
          0.07140902872777018,
          0.07140902872777018,
          0.07181942544459645,
          0.07181942544459645,
          0.07209302325581396,
          0.07209302325581396,
          0.07222982216142271,
          0.07250341997264022,
          0.07264021887824898,
          0.07264021887824898,
          0.07277701778385773,
          0.07332421340629275,
          0.07332421340629275,
          0.07428180574555404,
          0.07428180574555404,
          0.07441860465116279,
          0.07441860465116279,
          0.0746922024623803,
          0.0746922024623803,
          0.07496580027359781,
          0.07496580027359781,
          0.07523939808481532,
          0.07523939808481532,
          0.07537619699042408,
          0.07537619699042408,
          0.07633378932968536,
          0.07633378932968536,
          0.07674418604651163,
          0.07674418604651163,
          0.07756497948016416,
          0.07756497948016416,
          0.07811217510259919,
          0.07811217510259919,
          0.07852257181942544,
          0.07852257181942544,
          0.07893296853625172,
          0.07893296853625172,
          0.07934336525307797,
          0.07934336525307797,
          0.07948016415868674,
          0.07948016415868674,
          0.079890560875513,
          0.079890560875513,
          0.0801641586867305,
          0.0801641586867305,
          0.08043775649794802,
          0.08043775649794802,
          0.0811217510259918,
          0.0811217510259918,
          0.08125854993160055,
          0.08125854993160055,
          0.08166894664842682,
          0.08166894664842682,
          0.08207934336525308,
          0.08207934336525308,
          0.08221614227086184,
          0.08221614227086184,
          0.0826265389876881,
          0.0826265389876881,
          0.08290013679890561,
          0.08290013679890561,
          0.08303693570451437,
          0.08303693570451437,
          0.0838577291381669,
          0.0838577291381669,
          0.08440492476060192,
          0.08440492476060192,
          0.08454172366621067,
          0.08454172366621067,
          0.08467852257181943,
          0.08495212038303694,
          0.08495212038303694,
          0.0853625170998632,
          0.0853625170998632,
          0.08632010943912449,
          0.08632010943912449,
          0.08645690834473324,
          0.08645690834473324,
          0.08673050615595075,
          0.08673050615595075,
          0.08700410396716826,
          0.08700410396716826,
          0.08782489740082079,
          0.08782489740082079,
          0.08891928864569083,
          0.08891928864569083,
          0.09042407660738715,
          0.09042407660738715,
          0.0905608755129959,
          0.0905608755129959,
          0.09138166894664843,
          0.09138166894664843,
          0.09165526675786594,
          0.09165526675786594,
          0.09220246238030096,
          0.09247606019151847,
          0.09480164158686731,
          0.09480164158686731,
          0.09493844049247606,
          0.09493844049247606,
          0.09589603283173735,
          0.09589603283173735,
          0.09630642954856361,
          0.09630642954856361,
          0.09658002735978112,
          0.09658002735978112,
          0.09685362517099863,
          0.09685362517099863,
          0.0972640218878249,
          0.0972640218878249,
          0.09890560875512996,
          0.09917920656634747,
          0.1,
          0.1,
          0.10027359781121752,
          0.10041039671682626,
          0.10095759233926128,
          0.10095759233926128,
          0.10355677154582764,
          0.10355677154582764,
          0.10369357045143639,
          0.10369357045143639,
          0.10465116279069768,
          0.10478796169630643,
          0.10478796169630643,
          0.10642954856361149,
          0.10642954856361149,
          0.106703146374829,
          0.106703146374829,
          0.10711354309165527,
          0.10711354309165527,
          0.10738714090287278,
          0.10738714090287278,
          0.10902872777017784,
          0.10902872777017784,
          0.10998632010943912,
          0.10998632010943912,
          0.11053351573187414,
          0.11053351573187414,
          0.11080711354309165,
          0.11080711354309165,
          0.11149110807113544,
          0.11176470588235295,
          0.11258549931600548,
          0.11258549931600548,
          0.11545827633378933,
          0.11559507523939809,
          0.11641586867305062,
          0.11641586867305062,
          0.11709986320109439,
          0.11709986320109439,
          0.11942544459644323,
          0.11942544459644323,
          0.11969904240766074,
          0.11997264021887825,
          0.12038303693570451,
          0.12065663474692202,
          0.1228454172366621,
          0.1228454172366621,
          0.12311901504787962,
          0.12311901504787962,
          0.12476060191518468,
          0.12476060191518468,
          0.12585499316005472,
          0.12585499316005472,
          0.12599179206566347,
          0.12599179206566347,
          0.1280437756497948,
          0.1280437756497948,
          0.12818057455540355,
          0.12818057455540355,
          0.13337893296853626,
          0.13337893296853626,
          0.13693570451436388,
          0.13693570451436388,
          0.13707250341997265,
          0.13707250341997265,
          0.1399452804377565,
          0.1399452804377565,
          0.14103967168262654,
          0.14103967168262654,
          0.14281805745554035,
          0.14281805745554035,
          0.14322845417236663,
          0.14350205198358412,
          0.1436388508891929,
          0.1436388508891929,
          0.14459644322845416,
          0.1448700410396717,
          0.146374829001368,
          0.1466484268125855,
          0.14692202462380302,
          0.14692202462380302,
          0.14829001367989056,
          0.14829001367989056,
          0.14883720930232558,
          0.14883720930232558,
          0.1538987688098495,
          0.1538987688098495,
          0.15718194254445964,
          0.15718194254445964,
          0.15745554035567716,
          0.15745554035567716,
          0.15786593707250343,
          0.15786593707250343,
          0.1612859097127223,
          0.16183310533515732,
          0.1640218878248974,
          0.1640218878248974,
          0.16552667578659372,
          0.16552667578659372,
          0.16839945280437757,
          0.16839945280437757,
          0.17113543091655267,
          0.17113543091655267,
          0.17154582763337894,
          0.17154582763337894,
          0.1722298221614227,
          0.1725034199726402,
          0.173187414500684,
          0.173187414500684,
          0.17332421340629275,
          0.17359781121751025,
          0.17387140902872777,
          0.17387140902872777,
          0.17729138166894665,
          0.17729138166894665,
          0.1789329685362517,
          0.1789329685362517,
          0.18030095759233927,
          0.18030095759233927,
          0.1808481532147743,
          0.1808481532147743,
          0.18276333789329685,
          0.18276333789329685,
          0.18303693570451438,
          0.18303693570451438,
          0.18344733242134062,
          0.18344733242134062,
          0.18508891928864568,
          0.1853625170998632,
          0.18590971272229823,
          0.18590971272229823,
          0.18618331053351572,
          0.18686730506155952,
          0.18686730506155952,
          0.18823529411764706,
          0.18823529411764706,
          0.18919288645690835,
          0.18919288645690835,
          0.1930232558139535,
          0.1930232558139535,
          0.1945280437756498,
          0.1945280437756498,
          0.19644322845417236,
          0.19644322845417236,
          0.1987688098495212,
          0.1987688098495212,
          0.19986320109439124,
          0.19986320109439124,
          0.2039671682626539,
          0.2039671682626539,
          0.2049247606019152,
          0.2049247606019152,
          0.20533515731874144,
          0.20533515731874144,
          0.20601915184678524,
          0.20629274965800273,
          0.2069767441860465,
          0.20725034199726403,
          0.20848153214774282,
          0.20848153214774282,
          0.20902872777017784,
          0.20930232558139536,
          0.21504787961696306,
          0.21504787961696306,
          0.21655266757865937,
          0.21655266757865937,
          0.2173734610123119,
          0.2173734610123119,
          0.21942544459644323,
          0.21942544459644323,
          0.21997264021887825,
          0.22024623803009577,
          0.22065663474692201,
          0.22065663474692201,
          0.22175102599179206,
          0.22175102599179206,
          0.22216142270861833,
          0.22216142270861833,
          0.2228454172366621,
          0.2228454172366621,
          0.22544459644322845,
          0.22544459644322845,
          0.22968536251709987,
          0.22968536251709987,
          0.23064295485636116,
          0.23064295485636116,
          0.23132694938440493,
          0.23132694938440493,
          0.23310533515731874,
          0.23337893296853626,
          0.23419972640218878,
          0.23419972640218878,
          0.23461012311901505,
          0.23461012311901505,
          0.23488372093023255,
          0.23529411764705882,
          0.23638850889192886,
          0.23638850889192886,
          0.2387140902872777,
          0.23885088919288647,
          0.23898768809849522,
          0.23898768809849522,
          0.23912448700410396,
          0.23912448700410396,
          0.24049247606019153,
          0.24049247606019153,
          0.24856361149110806,
          0.24856361149110806,
          0.25075239398084814,
          0.25102599179206564,
          0.25239398084815323,
          0.25266757865937073,
          0.2529411764705882,
          0.253077975376197,
          0.25430916552667576,
          0.25430916552667576,
          0.2554035567715458,
          0.2554035567715458,
          0.2558139534883721,
          0.2558139534883721,
          0.25663474692202465,
          0.25663474692202465,
          0.2589603283173735,
          0.259233926128591,
          0.25950752393980847,
          0.25950752393980847,
          0.26019151846785227,
          0.26046511627906976,
          0.26142270861833106,
          0.26142270861833106,
          0.2618331053351573,
          0.2618331053351573,
          0.26196990424076605,
          0.26196990424076605,
          0.26292749658002734,
          0.2632010943912449,
          0.2634746922024624,
          0.2634746922024624,
          0.26415868673050613,
          0.26415868673050613,
          0.2652530779753762,
          0.2655266757865937,
          0.2658002735978112,
          0.2658002735978112,
          0.26662106703146377,
          0.2667578659370725,
          0.26703146374829,
          0.26703146374829,
          0.2711354309165527,
          0.2711354309165527,
          0.27305061559507526,
          0.27305061559507526,
          0.273187414500684,
          0.273187414500684,
          0.2746922024623803,
          0.2746922024623803,
          0.27606019151846783,
          0.2763337893296854,
          0.2796169630642955,
          0.2796169630642955,
          0.2811217510259918,
          0.2811217510259918,
          0.2856361149110807,
          0.2859097127222982,
          0.2897400820793434,
          0.2897400820793434,
          0.2901504787961696,
          0.2904240766073871,
          0.29151846785225716,
          0.29151846785225716,
          0.292749658002736,
          0.292749658002736,
          0.2945280437756498,
          0.2945280437756498,
          0.30013679890560874,
          0.30013679890560874,
          0.30054719562243504,
          0.30054719562243504,
          0.3016415868673051,
          0.3019151846785226,
          0.30533515731874145,
          0.30560875512995894,
          0.3058823529411765,
          0.3058823529411765,
          0.306155950752394,
          0.3064295485636115,
          0.30656634746922024,
          0.30656634746922024,
          0.30697674418604654,
          0.30697674418604654,
          0.3076607387140903,
          0.3076607387140903,
          0.3090287277701778,
          0.3090287277701778,
          0.30984952120383036,
          0.30984952120383036,
          0.31012311901504785,
          0.3103967168262654,
          0.3109439124487004,
          0.3109439124487004,
          0.3154582763337893,
          0.31573187414500686,
          0.31655266757865935,
          0.3168262653898769,
          0.3173734610123119,
          0.3173734610123119,
          0.3176470588235294,
          0.3176470588235294,
          0.32147742818057456,
          0.32175102599179206,
          0.32325581395348835,
          0.32325581395348835,
          0.32489740082079344,
          0.32489740082079344,
          0.32585499316005473,
          0.3261285909712722,
          0.3261285909712722,
          0.3276333789329685,
          0.3276333789329685,
          0.3299589603283174,
          0.3299589603283174,
          0.33365253077975376,
          0.33365253077975376,
          0.3354309165526676,
          0.33556771545827635,
          0.33638850889192884,
          0.33638850889192884,
          0.3369357045143639,
          0.3372093023255814,
          0.3384404924760602,
          0.3384404924760602,
          0.3387140902872777,
          0.3387140902872777,
          0.34062927496580025,
          0.34062927496580025,
          0.34350205198358413,
          0.34350205198358413,
          0.3444596443228454,
          0.3444596443228454,
          0.34487004103967167,
          0.34487004103967167,
          0.3471956224350205,
          0.3471956224350205,
          0.34965800273597814,
          0.34965800273597814,
          0.3500683994528044,
          0.3500683994528044,
          0.35376196990424075,
          0.35376196990424075,
          0.3543091655266758,
          0.3545827633378933,
          0.35540355677154584,
          0.35540355677154584,
          0.3564979480164159,
          0.3567715458276334,
          0.35868673050615596,
          0.35868673050615596,
          0.36415868673050616,
          0.36415868673050616,
          0.36634746922024625,
          0.36662106703146374,
          0.36662106703146374,
          0.36703146374829,
          0.36703146374829,
          0.36922024623803007,
          0.3694938440492476,
          0.3722298221614227,
          0.3722298221614227,
          0.37428180574555403,
          0.37428180574555403,
          0.3757865937072503,
          0.37606019151846787,
          0.3767441860465116,
          0.37701778385772916,
          0.37729138166894666,
          0.37729138166894666,
          0.3796169630642955,
          0.3796169630642955,
          0.38002735978112173,
          0.38002735978112173,
          0.3803009575923393,
          0.38372093023255816,
          0.38372093023255816,
          0.3856361149110807,
          0.3856361149110807,
          0.38823529411764707,
          0.38823529411764707,
          0.38850889192886456,
          0.38850889192886456,
          0.38878248974008206,
          0.38878248974008206,
          0.39097127222982214,
          0.3912448700410397,
          0.3953488372093023,
          0.39562243502051986,
          0.3965800273597811,
          0.3965800273597811,
          0.4017783857729138,
          0.4017783857729138,
          0.40683994528043776,
          0.40711354309165526,
          0.4114911080711354,
          0.4114911080711354,
          0.41422708618331056,
          0.41450068399452805,
          0.4146374829001368,
          0.4146374829001368,
          0.4151846785225718,
          0.41545827633378934,
          0.4165526675786594,
          0.4165526675786594,
          0.4186046511627907,
          0.4188782489740082,
          0.41928864569083446,
          0.41928864569083446,
          0.4220246238030096,
          0.4220246238030096,
          0.4229822161422709,
          0.4229822161422709,
          0.4236662106703146,
          0.4239398084815321,
          0.4284541723666211,
          0.4287277701778386,
          0.42886456908344733,
          0.42886456908344733,
          0.43187414500683996,
          0.43214774281805746,
          0.43283173734610125,
          0.43283173734610125,
          0.43310533515731875,
          0.4341997264021888,
          0.4341997264021888,
          0.4365253077975376,
          0.4365253077975376,
          0.4367989056087551,
          0.4370725034199726,
          0.43789329685362516,
          0.43816689466484265,
          0.4399452804377565,
          0.4399452804377565,
          0.4419972640218878,
          0.4419972640218878,
          0.44240766073871407,
          0.44240766073871407,
          0.4426812585499316,
          0.4432284541723666,
          0.4432284541723666,
          0.44596443228454175,
          0.44623803009575924,
          0.4466484268125855,
          0.4466484268125855,
          0.448016415868673,
          0.448016415868673,
          0.4481532147742818,
          0.4484268125854993,
          0.44883720930232557,
          0.44883720930232557,
          0.44979480164158686,
          0.45006839945280436,
          0.4544459644322845,
          0.4544459644322845,
          0.45458276333789327,
          0.45458276333789327,
          0.4585499316005472,
          0.4585499316005472,
          0.4618331053351573,
          0.4621067031463748,
          0.46456908344733244,
          0.46484268125854994,
          0.4666210670314637,
          0.4668946648426813,
          0.46771545827633376,
          0.46771545827633376,
          0.4679890560875513,
          0.4679890560875513,
          0.4682626538987688,
          0.4682626538987688,
          0.4720930232558139,
          0.4723666210670315,
          0.47291381668946647,
          0.47291381668946647,
          0.4730506155950752,
          0.4730506155950752,
          0.47359781121751027,
          0.47359781121751027,
          0.47414500683994526,
          0.4744186046511628,
          0.47797537619699043,
          0.4782489740082079,
          0.4790697674418605,
          0.4790697674418605,
          0.4797537619699042,
          0.48002735978112177,
          0.4811217510259918,
          0.4811217510259918,
          0.4846785225718194,
          0.4849521203830369,
          0.48919288645690834,
          0.48946648426812583,
          0.49015047879616963,
          0.49015047879616963,
          0.49247606019151846,
          0.49274965800273596,
          0.4930232558139535,
          0.4930232558139535,
          0.493296853625171,
          0.493296853625171,
          0.49370725034199725,
          0.49398084815321475,
          0.49658002735978113,
          0.49658002735978113,
          0.4968536251709986,
          0.4968536251709986,
          0.4980848153214774,
          0.4983584131326949,
          0.5017783857729138,
          0.5020519835841313,
          0.5023255813953489,
          0.5023255813953489,
          0.5035567715458277,
          0.5035567715458277,
          0.5038303693570452,
          0.5038303693570452,
          0.5060191518467853,
          0.5060191518467853,
          0.5079343365253078,
          0.5082079343365253,
          0.5084815321477428,
          0.5086183310533515,
          0.5094391244870041,
          0.5097127222982216,
          0.5110807113543092,
          0.5110807113543092,
          0.512859097127223,
          0.512859097127223,
          0.5158686730506156,
          0.5158686730506156,
          0.5170998632010944,
          0.5170998632010944,
          0.5198358413132695,
          0.5198358413132695,
          0.5231190150478796,
          0.5231190150478796,
          0.5248974008207934,
          0.525170998632011,
          0.525718194254446,
          0.525718194254446,
          0.5277701778385773,
          0.5280437756497948,
          0.5305061559507523,
          0.53077975376197,
          0.5320109439124487,
          0.5320109439124487,
          0.5343365253077975,
          0.534610123119015,
          0.5366621067031464,
          0.5369357045143639,
          0.5374829001367989,
          0.5377564979480164,
          0.538577291381669,
          0.538577291381669,
          0.5406292749658003,
          0.5406292749658003,
          0.5429548563611492,
          0.5429548563611492,
          0.5445964432284541,
          0.5445964432284541,
          0.5491108071135431,
          0.5491108071135431,
          0.5504787961696307,
          0.5507523939808482,
          0.551436388508892,
          0.551436388508892,
          0.5549931600547195,
          0.555266757865937,
          0.5569083447332421,
          0.5571819425444596,
          0.5611491108071135,
          0.5612859097127223,
          0.5641586867305062,
          0.5641586867305062,
          0.5660738714090288,
          0.5660738714090288,
          0.5671682626538987,
          0.5673050615595076,
          0.5688098495212038,
          0.5688098495212038,
          0.5690834473324213,
          0.5697674418604651,
          0.5700410396716826,
          0.5751025991792066,
          0.5751025991792066,
          0.5778385772913817,
          0.5778385772913817,
          0.5800273597811217,
          0.5800273597811217,
          0.5849521203830369,
          0.5849521203830369,
          0.5859097127222982,
          0.5859097127222982,
          0.5937072503419972,
          0.5939808481532147,
          0.5995896032831738,
          0.5998632010943913,
          0.6013679890560876,
          0.6016415868673051,
          0.6043775649794801,
          0.6046511627906976,
          0.6102599179206566,
          0.6102599179206566,
          0.612859097127223,
          0.612859097127223,
          0.615595075239398,
          0.6157318741450069,
          0.6161422708618332,
          0.6164158686730506,
          0.6181942544459644,
          0.6181942544459644,
          0.6184678522571819,
          0.6187414500683994,
          0.6191518467852257,
          0.6191518467852257,
          0.6205198358413133,
          0.6205198358413133,
          0.6232558139534884,
          0.6235294117647059,
          0.6283173734610124,
          0.6283173734610124,
          0.6344733242134063,
          0.6344733242134063,
          0.6347469220246238,
          0.6350205198358413,
          0.6355677154582763,
          0.6355677154582763,
          0.6369357045143639,
          0.6369357045143639,
          0.6445964432284542,
          0.6448700410396717,
          0.6461012311901505,
          0.646374829001368,
          0.6506155950752394,
          0.6506155950752394,
          0.6508891928864569,
          0.6511627906976745,
          0.6618331053351573,
          0.6618331053351573,
          0.6655266757865937,
          0.6655266757865937,
          0.6686730506155951,
          0.6689466484268126,
          0.6696306429548564,
          0.6696306429548564,
          0.6700410396716826,
          0.6700410396716826,
          0.6708618331053352,
          0.6711354309165527,
          0.6712722298221614,
          0.6712722298221614,
          0.6763337893296854,
          0.6763337893296854,
          0.677701778385773,
          0.677701778385773,
          0.6833105335157319,
          0.6833105335157319,
          0.685499316005472,
          0.685499316005472,
          0.6857729138166895,
          0.6857729138166895,
          0.6859097127222982,
          0.6859097127222982,
          0.6870041039671683,
          0.6870041039671683,
          0.6874145006839946,
          0.6876880984952121,
          0.6893296853625172,
          0.6893296853625172,
          0.6905608755129959,
          0.6906976744186046,
          0.6913816689466484,
          0.6913816689466484,
          0.693296853625171,
          0.6937072503419973,
          0.6963064295485636,
          0.6963064295485636,
          0.7025991792065663,
          0.7025991792065663,
          0.7032831737346101,
          0.7035567715458276,
          0.7042407660738714,
          0.7043775649794801,
          0.7101231190150479,
          0.7101231190150479,
          0.7102599179206567,
          0.7102599179206567,
          0.7138166894664842,
          0.7138166894664842,
          0.7181942544459644,
          0.7181942544459644,
          0.7214774281805746,
          0.7214774281805746,
          0.7281805745554035,
          0.7281805745554035,
          0.7337893296853625,
          0.7337893296853625,
          0.7436388508891929,
          0.7436388508891929,
          0.7455540355677155,
          0.7455540355677155,
          0.7485636114911081,
          0.7488372093023256,
          0.7499316005471957,
          0.7499316005471957,
          0.7532147742818057,
          0.7532147742818057,
          0.7544459644322845,
          0.7544459644322845,
          0.754719562243502,
          0.754719562243502,
          0.7556771545827633,
          0.7556771545827633,
          0.7611491108071136,
          0.7611491108071136,
          0.7627906976744186,
          0.7627906976744186,
          0.7640218878248974,
          0.7640218878248974,
          0.7722298221614227,
          0.7722298221614227,
          0.7771545827633379,
          0.7771545827633379,
          0.7785225718194254,
          0.7787961696306429,
          0.7807113543091655,
          0.7807113543091655,
          0.7956224350205199,
          0.7956224350205199,
          0.8004103967168262,
          0.8004103967168262,
          0.811217510259918,
          0.8114911080711354,
          0.8202462380300958,
          0.8202462380300958,
          0.8203830369357045,
          0.8203830369357045,
          0.8225718194254446,
          0.8225718194254446,
          0.8235294117647058,
          0.8235294117647058,
          0.83296853625171,
          0.83296853625171,
          0.8361149110807113,
          0.8361149110807113,
          0.8363885088919288,
          0.8363885088919288,
          0.8384404924760602,
          0.8387140902872777,
          0.8445964432284542,
          0.8445964432284542,
          0.8467852257181943,
          0.8467852257181943,
          0.8478796169630642,
          0.8478796169630642,
          0.8488372093023255,
          0.8491108071135431,
          0.8495212038303693,
          0.8495212038303693,
          0.8504787961696306,
          0.8504787961696306,
          0.8514363885088919,
          0.8514363885088919,
          0.8528043775649795,
          0.8528043775649795,
          0.8549931600547196,
          0.8549931600547196,
          0.8564979480164159,
          0.8564979480164159,
          0.8607387140902872,
          0.8607387140902872,
          0.8792065663474692,
          0.8792065663474692,
          0.8957592339261286,
          0.896032831737346,
          0.8961696306429549,
          0.8964432284541723,
          0.9016415868673051,
          0.9016415868673051,
          0.9034199726402189,
          0.9036935704514364,
          0.9045143638850889,
          0.9045143638850889,
          0.9095759233926128,
          0.9095759233926128,
          0.9099863201094391,
          0.9099863201094391,
          0.9117647058823529,
          0.9120383036935704,
          0.9140902872777018,
          0.9140902872777018,
          0.9143638850889193,
          0.9146374829001368,
          0.9147742818057456,
          0.9147742818057456,
          0.9150478796169631,
          0.9150478796169631,
          0.9181942544459645,
          0.9181942544459645,
          0.9191518467852258,
          0.9191518467852258,
          0.9229822161422708,
          0.9229822161422708,
          0.927359781121751,
          0.927359781121751,
          0.9326949384404924,
          0.9326949384404924,
          0.9367989056087551,
          0.9367989056087551,
          0.9370725034199726,
          0.9387140902872777,
          0.9387140902872777,
          0.9404924760601915,
          0.9404924760601915,
          0.945280437756498,
          0.9455540355677154,
          0.9489740082079343,
          0.9489740082079343,
          0.9508891928864569,
          0.9508891928864569,
          0.9518467852257182,
          0.9518467852257182,
          0.9577291381668946,
          0.9580027359781121,
          0.9582763337893296,
          0.9582763337893296,
          0.9708618331053351,
          0.9711354309165526,
          0.9714090287277701,
          0.9716826265389877,
          0.9723666210670314,
          0.9723666210670314,
          0.9725034199726402,
          0.9725034199726402,
          0.9741450068399453,
          0.9741450068399453,
          0.9753761969904241,
          0.9756497948016416,
          0.978796169630643,
          0.9790697674418605,
          0.982079343365253,
          0.982079343365253,
          0.9834473324213406,
          0.9834473324213406,
          0.9894664842681259,
          0.9894664842681259,
          0.9909712722298222,
          0.9909712722298222,
          0.9956224350205198,
          0.9956224350205198,
          1
         ],
         "y": [
          0,
          0.0010775862068965517,
          0.0021551724137931034,
          0.0021551724137931034,
          0.005387931034482759,
          0.005387931034482759,
          0.015086206896551725,
          0.015086206896551725,
          0.03017241379310345,
          0.03017241379310345,
          0.0334051724137931,
          0.0334051724137931,
          0.03556034482758621,
          0.03556034482758621,
          0.04741379310344827,
          0.04741379310344827,
          0.04956896551724138,
          0.04956896551724138,
          0.05603448275862069,
          0.05603448275862069,
          0.059267241379310345,
          0.059267241379310345,
          0.06573275862068965,
          0.06573275862068965,
          0.06896551724137931,
          0.06896551724137931,
          0.07327586206896551,
          0.07327586206896551,
          0.07435344827586207,
          0.07435344827586207,
          0.07974137931034483,
          0.07974137931034483,
          0.08081896551724138,
          0.08081896551724138,
          0.08189655172413793,
          0.08189655172413793,
          0.08297413793103449,
          0.08297413793103449,
          0.08405172413793104,
          0.08405172413793104,
          0.08728448275862069,
          0.08728448275862069,
          0.08836206896551724,
          0.08836206896551724,
          0.09590517241379311,
          0.09590517241379311,
          0.0980603448275862,
          0.0980603448275862,
          0.10775862068965517,
          0.10775862068965517,
          0.10883620689655173,
          0.10883620689655173,
          0.11099137931034483,
          0.11099137931034483,
          0.11422413793103449,
          0.11422413793103449,
          0.11637931034482758,
          0.11637931034482758,
          0.12176724137931035,
          0.12176724137931035,
          0.13469827586206898,
          0.13469827586206898,
          0.13577586206896552,
          0.13577586206896552,
          0.13900862068965517,
          0.13900862068965517,
          0.1400862068965517,
          0.1400862068965517,
          0.14655172413793102,
          0.14655172413793102,
          0.15301724137931033,
          0.15301724137931033,
          0.15517241379310345,
          0.15517241379310345,
          0.15732758620689655,
          0.15732758620689655,
          0.1584051724137931,
          0.1584051724137931,
          0.16056034482758622,
          0.16056034482758622,
          0.16918103448275862,
          0.16918103448275862,
          0.17025862068965517,
          0.17025862068965517,
          0.1724137931034483,
          0.1724137931034483,
          0.17456896551724138,
          0.17456896551724138,
          0.17564655172413793,
          0.17564655172413793,
          0.17995689655172414,
          0.17995689655172414,
          0.18211206896551724,
          0.18211206896551724,
          0.19288793103448276,
          0.19288793103448276,
          0.1939655172413793,
          0.1939655172413793,
          0.19504310344827586,
          0.19504310344827586,
          0.1961206896551724,
          0.1961206896551724,
          0.19827586206896552,
          0.19827586206896552,
          0.20474137931034483,
          0.20474137931034483,
          0.20581896551724138,
          0.20581896551724138,
          0.20689655172413793,
          0.20689655172413793,
          0.20905172413793102,
          0.20905172413793102,
          0.2101293103448276,
          0.2101293103448276,
          0.2122844827586207,
          0.2122844827586207,
          0.21443965517241378,
          0.21443965517241378,
          0.21551724137931033,
          0.21551724137931033,
          0.2165948275862069,
          0.2165948275862069,
          0.21767241379310345,
          0.21767241379310345,
          0.21875,
          0.21875,
          0.2252155172413793,
          0.2252155172413793,
          0.2273706896551724,
          0.2273706896551724,
          0.22952586206896552,
          0.22952586206896552,
          0.23168103448275862,
          0.23168103448275862,
          0.23275862068965517,
          0.23275862068965517,
          0.23706896551724138,
          0.23706896551724138,
          0.23814655172413793,
          0.23814655172413793,
          0.24245689655172414,
          0.24245689655172414,
          0.2478448275862069,
          0.2478448275862069,
          0.24892241379310345,
          0.24892241379310345,
          0.25646551724137934,
          0.25646551724137934,
          0.25754310344827586,
          0.25754310344827586,
          0.25862068965517243,
          0.25862068965517243,
          0.26185344827586204,
          0.26185344827586204,
          0.2683189655172414,
          0.2683189655172414,
          0.2704741379310345,
          0.2704741379310345,
          0.27155172413793105,
          0.27155172413793105,
          0.27262931034482757,
          0.27262931034482757,
          0.27478448275862066,
          0.27478448275862066,
          0.2769396551724138,
          0.2769396551724138,
          0.2801724137931034,
          0.2801724137931034,
          0.2823275862068966,
          0.2823275862068966,
          0.2834051724137931,
          0.2834051724137931,
          0.28448275862068967,
          0.28448275862068967,
          0.2855603448275862,
          0.2855603448275862,
          0.28663793103448276,
          0.28663793103448276,
          0.28771551724137934,
          0.28771551724137934,
          0.28987068965517243,
          0.28987068965517243,
          0.29094827586206895,
          0.29094827586206895,
          0.29310344827586204,
          0.29310344827586204,
          0.2941810344827586,
          0.2952586206896552,
          0.2963362068965517,
          0.2963362068965517,
          0.2974137931034483,
          0.2974137931034483,
          0.2984913793103448,
          0.2984913793103448,
          0.2995689655172414,
          0.2995689655172414,
          0.30064655172413796,
          0.30064655172413796,
          0.30495689655172414,
          0.30495689655172414,
          0.30603448275862066,
          0.30603448275862066,
          0.30711206896551724,
          0.30711206896551724,
          0.3146551724137931,
          0.3146551724137931,
          0.31573275862068967,
          0.31573275862068967,
          0.3168103448275862,
          0.32435344827586204,
          0.32435344827586204,
          0.3254310344827586,
          0.3265086206896552,
          0.3275862068965517,
          0.3275862068965517,
          0.3308189655172414,
          0.3308189655172414,
          0.33189655172413796,
          0.33189655172413796,
          0.3329741379310345,
          0.3329741379310345,
          0.33405172413793105,
          0.33405172413793105,
          0.33512931034482757,
          0.33512931034482757,
          0.33836206896551724,
          0.33836206896551724,
          0.33836206896551724,
          0.3394396551724138,
          0.3394396551724138,
          0.34051724137931033,
          0.34051724137931033,
          0.3426724137931034,
          0.3426724137931034,
          0.3448275862068966,
          0.3448275862068966,
          0.34698275862068967,
          0.34698275862068967,
          0.34913793103448276,
          0.34913793103448276,
          0.35021551724137934,
          0.35021551724137934,
          0.35129310344827586,
          0.35129310344827586,
          0.35237068965517243,
          0.35237068965517243,
          0.35344827586206895,
          0.35344827586206895,
          0.3545258620689655,
          0.3545258620689655,
          0.3577586206896552,
          0.3577586206896552,
          0.3620689655172414,
          0.3620689655172414,
          0.3620689655172414,
          0.36530172413793105,
          0.36530172413793105,
          0.36637931034482757,
          0.36637931034482757,
          0.36961206896551724,
          0.36961206896551724,
          0.37176724137931033,
          0.37176724137931033,
          0.3728448275862069,
          0.3728448275862069,
          0.3739224137931034,
          0.3739224137931034,
          0.375,
          0.375,
          0.3793103448275862,
          0.3793103448275862,
          0.38038793103448276,
          0.38038793103448276,
          0.38469827586206895,
          0.38469827586206895,
          0.38685344827586204,
          0.38685344827586204,
          0.3879310344827586,
          0.3879310344827586,
          0.3911637931034483,
          0.3911637931034483,
          0.3922413793103448,
          0.3922413793103448,
          0.3933189655172414,
          0.3933189655172414,
          0.3954741379310345,
          0.3954741379310345,
          0.39655172413793105,
          0.39655172413793105,
          0.40086206896551724,
          0.40086206896551724,
          0.4019396551724138,
          0.4019396551724138,
          0.40301724137931033,
          0.40301724137931033,
          0.4051724137931034,
          0.4051724137931034,
          0.4073275862068966,
          0.4073275862068966,
          0.4084051724137931,
          0.4084051724137931,
          0.40948275862068967,
          0.40948275862068967,
          0.41271551724137934,
          0.41271551724137934,
          0.41379310344827586,
          0.41379310344827586,
          0.41487068965517243,
          0.41487068965517243,
          0.41594827586206895,
          0.41594827586206895,
          0.41810344827586204,
          0.41810344827586204,
          0.4191810344827586,
          0.4202586206896552,
          0.4224137931034483,
          0.4234913793103448,
          0.4234913793103448,
          0.4245689655172414,
          0.4245689655172414,
          0.42564655172413796,
          0.42564655172413796,
          0.4267241379310345,
          0.4267241379310345,
          0.42887931034482757,
          0.42887931034482757,
          0.4364224137931034,
          0.4364224137931034,
          0.44073275862068967,
          0.44073275862068967,
          0.4418103448275862,
          0.4418103448275862,
          0.44288793103448276,
          0.44288793103448276,
          0.44288793103448276,
          0.44288793103448276,
          0.44396551724137934,
          0.44396551724137934,
          0.44504310344827586,
          0.44504310344827586,
          0.44612068965517243,
          0.44612068965517243,
          0.44719827586206895,
          0.44719827586206895,
          0.4482758620689655,
          0.4482758620689655,
          0.4515086206896552,
          0.4515086206896552,
          0.4536637931034483,
          0.4536637931034483,
          0.4547413793103448,
          0.4547413793103448,
          0.45905172413793105,
          0.45905172413793105,
          0.46012931034482757,
          0.46012931034482757,
          0.46120689655172414,
          0.46120689655172414,
          0.46228448275862066,
          0.46228448275862066,
          0.46336206896551724,
          0.4644396551724138,
          0.4676724137931034,
          0.4676724137931034,
          0.4709051724137931,
          0.4709051724137931,
          0.47198275862068967,
          0.47198275862068967,
          0.47413793103448276,
          0.47413793103448276,
          0.47521551724137934,
          0.47521551724137934,
          0.47629310344827586,
          0.47629310344827586,
          0.4795258620689655,
          0.4795258620689655,
          0.48060344827586204,
          0.48060344827586204,
          0.4816810344827586,
          0.4816810344827586,
          0.4849137931034483,
          0.4849137931034483,
          0.4859913793103448,
          0.4859913793103448,
          0.48814655172413796,
          0.48814655172413796,
          0.49030172413793105,
          0.49030172413793105,
          0.49137931034482757,
          0.49137931034482757,
          0.49353448275862066,
          0.49353448275862066,
          0.4956896551724138,
          0.4956896551724138,
          0.4978448275862069,
          0.4978448275862069,
          0.5010775862068966,
          0.5010775862068966,
          0.5021551724137931,
          0.5021551724137931,
          0.5032327586206896,
          0.5032327586206896,
          0.5043103448275862,
          0.5043103448275862,
          0.5053879310344828,
          0.5053879310344828,
          0.5064655172413793,
          0.5064655172413793,
          0.5086206896551724,
          0.5086206896551724,
          0.5107758620689655,
          0.5107758620689655,
          0.5129310344827587,
          0.5129310344827587,
          0.5140086206896551,
          0.5140086206896551,
          0.5150862068965517,
          0.5150862068965517,
          0.5183189655172413,
          0.5183189655172413,
          0.521551724137931,
          0.521551724137931,
          0.5226293103448276,
          0.5226293103448276,
          0.5237068965517241,
          0.5237068965517241,
          0.5247844827586207,
          0.5247844827586207,
          0.5258620689655172,
          0.5258620689655172,
          0.5280172413793104,
          0.5280172413793104,
          0.5290948275862069,
          0.5290948275862069,
          0.5301724137931034,
          0.5301724137931034,
          0.5323275862068966,
          0.5323275862068966,
          0.5344827586206896,
          0.5355603448275862,
          0.5355603448275862,
          0.5366379310344828,
          0.5366379310344828,
          0.5387931034482759,
          0.5387931034482759,
          0.5398706896551724,
          0.5398706896551724,
          0.540948275862069,
          0.540948275862069,
          0.5431034482758621,
          0.5431034482758621,
          0.5452586206896551,
          0.5452586206896551,
          0.5463362068965517,
          0.5463362068965517,
          0.5506465517241379,
          0.5506465517241379,
          0.5517241379310345,
          0.5517241379310345,
          0.552801724137931,
          0.552801724137931,
          0.5538793103448276,
          0.5538793103448276,
          0.5549568965517241,
          0.5549568965517241,
          0.5560344827586207,
          0.5560344827586207,
          0.5560344827586207,
          0.5560344827586207,
          0.5571120689655172,
          0.5581896551724138,
          0.5581896551724138,
          0.5592672413793104,
          0.5592672413793104,
          0.5603448275862069,
          0.5603448275862069,
          0.5625,
          0.5625,
          0.5635775862068966,
          0.5635775862068966,
          0.5678879310344828,
          0.5678879310344828,
          0.5689655172413793,
          0.5689655172413793,
          0.5700431034482759,
          0.5700431034482759,
          0.5711206896551724,
          0.5711206896551724,
          0.572198275862069,
          0.572198275862069,
          0.5754310344827587,
          0.5754310344827587,
          0.5765086206896551,
          0.5765086206896551,
          0.5775862068965517,
          0.5775862068965517,
          0.5786637931034483,
          0.5786637931034483,
          0.5797413793103449,
          0.5797413793103449,
          0.5829741379310345,
          0.5829741379310345,
          0.5851293103448276,
          0.5851293103448276,
          0.5862068965517241,
          0.5862068965517241,
          0.5872844827586207,
          0.5872844827586207,
          0.5883620689655172,
          0.5883620689655172,
          0.5894396551724138,
          0.5894396551724138,
          0.5905172413793104,
          0.5905172413793104,
          0.5915948275862069,
          0.5915948275862069,
          0.5926724137931034,
          0.5926724137931034,
          0.59375,
          0.59375,
          0.5948275862068966,
          0.5948275862068966,
          0.5959051724137931,
          0.5959051724137931,
          0.5969827586206896,
          0.5969827586206896,
          0.5991379310344828,
          0.5991379310344828,
          0.603448275862069,
          0.6045258620689655,
          0.6045258620689655,
          0.6056034482758621,
          0.6056034482758621,
          0.6066810344827587,
          0.6066810344827587,
          0.6077586206896551,
          0.6077586206896551,
          0.6088362068965517,
          0.6088362068965517,
          0.6099137931034483,
          0.6099137931034483,
          0.6109913793103449,
          0.6109913793103449,
          0.6131465517241379,
          0.6131465517241379,
          0.615301724137931,
          0.615301724137931,
          0.6163793103448276,
          0.6163793103448276,
          0.6174568965517241,
          0.6174568965517241,
          0.6185344827586207,
          0.6185344827586207,
          0.6196120689655172,
          0.6196120689655172,
          0.6196120689655172,
          0.6196120689655172,
          0.6217672413793104,
          0.6217672413793104,
          0.6228448275862069,
          0.6228448275862069,
          0.6239224137931034,
          0.6239224137931034,
          0.625,
          0.625,
          0.6260775862068966,
          0.6260775862068966,
          0.6293103448275862,
          0.6293103448275862,
          0.6314655172413793,
          0.6314655172413793,
          0.6314655172413793,
          0.6314655172413793,
          0.6325431034482759,
          0.6325431034482759,
          0.6336206896551724,
          0.6336206896551724,
          0.634698275862069,
          0.634698275862069,
          0.6357758620689655,
          0.6357758620689655,
          0.6368534482758621,
          0.6368534482758621,
          0.6379310344827587,
          0.6390086206896551,
          0.6390086206896551,
          0.6400862068965517,
          0.6400862068965517,
          0.6411637931034483,
          0.6411637931034483,
          0.6433189655172413,
          0.6433189655172413,
          0.6443965517241379,
          0.6443965517241379,
          0.646551724137931,
          0.646551724137931,
          0.6476293103448276,
          0.6476293103448276,
          0.6487068965517241,
          0.6487068965517241,
          0.6497844827586207,
          0.6497844827586207,
          0.6497844827586207,
          0.6497844827586207,
          0.6508620689655172,
          0.6508620689655172,
          0.6519396551724138,
          0.6519396551724138,
          0.6530172413793104,
          0.6530172413793104,
          0.6540948275862069,
          0.6540948275862069,
          0.6551724137931034,
          0.6551724137931034,
          0.6551724137931034,
          0.6551724137931034,
          0.6551724137931034,
          0.6551724137931034,
          0.65625,
          0.65625,
          0.6573275862068966,
          0.6573275862068966,
          0.6584051724137931,
          0.6584051724137931,
          0.6594827586206896,
          0.6594827586206896,
          0.6616379310344828,
          0.6616379310344828,
          0.6637931034482759,
          0.6637931034482759,
          0.6648706896551724,
          0.6648706896551724,
          0.665948275862069,
          0.665948275862069,
          0.6670258620689655,
          0.6670258620689655,
          0.6681034482758621,
          0.6681034482758621,
          0.6691810344827587,
          0.6691810344827587,
          0.6702586206896551,
          0.6702586206896551,
          0.6713362068965517,
          0.6713362068965517,
          0.6713362068965517,
          0.6713362068965517,
          0.6724137931034483,
          0.6724137931034483,
          0.6724137931034483,
          0.6724137931034483,
          0.6724137931034483,
          0.6724137931034483,
          0.6734913793103449,
          0.6734913793103449,
          0.6745689655172413,
          0.6745689655172413,
          0.6756465517241379,
          0.6756465517241379,
          0.6767241379310345,
          0.6767241379310345,
          0.677801724137931,
          0.677801724137931,
          0.6788793103448276,
          0.6788793103448276,
          0.6821120689655172,
          0.6821120689655172,
          0.6821120689655172,
          0.6821120689655172,
          0.6831896551724138,
          0.6831896551724138,
          0.6842672413793104,
          0.6842672413793104,
          0.6853448275862069,
          0.6853448275862069,
          0.6864224137931034,
          0.6864224137931034,
          0.6875,
          0.6875,
          0.6875,
          0.6875,
          0.6885775862068966,
          0.6885775862068966,
          0.6885775862068966,
          0.6885775862068966,
          0.6907327586206896,
          0.6907327586206896,
          0.6918103448275862,
          0.6918103448275862,
          0.6939655172413793,
          0.6939655172413793,
          0.6961206896551724,
          0.6961206896551724,
          0.6982758620689655,
          0.6982758620689655,
          0.6993534482758621,
          0.6993534482758621,
          0.7004310344827587,
          0.7004310344827587,
          0.7015086206896551,
          0.7015086206896551,
          0.7015086206896551,
          0.7015086206896551,
          0.7025862068965517,
          0.7025862068965517,
          0.7025862068965517,
          0.7036637931034483,
          0.7036637931034483,
          0.7047413793103449,
          0.7047413793103449,
          0.7058189655172413,
          0.7058189655172413,
          0.7068965517241379,
          0.7068965517241379,
          0.7079741379310345,
          0.7079741379310345,
          0.709051724137931,
          0.709051724137931,
          0.7101293103448276,
          0.7101293103448276,
          0.7112068965517241,
          0.7112068965517241,
          0.7122844827586207,
          0.7122844827586207,
          0.7133620689655172,
          0.7133620689655172,
          0.7144396551724138,
          0.7144396551724138,
          0.7144396551724138,
          0.7144396551724138,
          0.7144396551724138,
          0.7144396551724138,
          0.7155172413793104,
          0.7155172413793104,
          0.7155172413793104,
          0.7155172413793104,
          0.7165948275862069,
          0.7165948275862069,
          0.7176724137931034,
          0.7176724137931034,
          0.71875,
          0.71875,
          0.7198275862068966,
          0.7198275862068966,
          0.7198275862068966,
          0.7198275862068966,
          0.7209051724137931,
          0.7209051724137931,
          0.7219827586206896,
          0.7219827586206896,
          0.7230603448275862,
          0.7230603448275862,
          0.7241379310344828,
          0.7241379310344828,
          0.7252155172413793,
          0.7252155172413793,
          0.7262931034482759,
          0.7262931034482759,
          0.7273706896551724,
          0.7273706896551724,
          0.728448275862069,
          0.728448275862069,
          0.728448275862069,
          0.728448275862069,
          0.7295258620689655,
          0.7295258620689655,
          0.7316810344827587,
          0.7316810344827587,
          0.7316810344827587,
          0.7316810344827587,
          0.7327586206896551,
          0.7327586206896551,
          0.7338362068965517,
          0.7338362068965517,
          0.7349137931034483,
          0.7349137931034483,
          0.7359913793103449,
          0.7359913793103449,
          0.7370689655172413,
          0.7370689655172413,
          0.7392241379310345,
          0.7392241379310345,
          0.7392241379310345,
          0.7392241379310345,
          0.7392241379310345,
          0.7392241379310345,
          0.740301724137931,
          0.740301724137931,
          0.7413793103448276,
          0.7413793103448276,
          0.7424568965517241,
          0.7424568965517241,
          0.7435344827586207,
          0.7435344827586207,
          0.7446120689655172,
          0.7446120689655172,
          0.7446120689655172,
          0.7446120689655172,
          0.7456896551724138,
          0.7456896551724138,
          0.7456896551724138,
          0.7456896551724138,
          0.7467672413793104,
          0.7467672413793104,
          0.7478448275862069,
          0.7478448275862069,
          0.7489224137931034,
          0.7489224137931034,
          0.7489224137931034,
          0.7489224137931034,
          0.75,
          0.75,
          0.7510775862068966,
          0.7510775862068966,
          0.7510775862068966,
          0.7510775862068966,
          0.7521551724137931,
          0.7521551724137931,
          0.7532327586206896,
          0.7532327586206896,
          0.7543103448275862,
          0.7543103448275862,
          0.7553879310344828,
          0.7553879310344828,
          0.7564655172413793,
          0.7564655172413793,
          0.7586206896551724,
          0.7586206896551724,
          0.759698275862069,
          0.759698275862069,
          0.759698275862069,
          0.759698275862069,
          0.7607758620689655,
          0.7607758620689655,
          0.7618534482758621,
          0.7618534482758621,
          0.7618534482758621,
          0.7618534482758621,
          0.7629310344827587,
          0.7629310344827587,
          0.7629310344827587,
          0.7629310344827587,
          0.7640086206896551,
          0.7640086206896551,
          0.7650862068965517,
          0.7650862068965517,
          0.7661637931034483,
          0.7661637931034483,
          0.7672413793103449,
          0.7672413793103449,
          0.7683189655172413,
          0.7683189655172413,
          0.7683189655172413,
          0.7683189655172413,
          0.7683189655172413,
          0.7683189655172413,
          0.7693965517241379,
          0.7693965517241379,
          0.7693965517241379,
          0.7693965517241379,
          0.7704741379310345,
          0.7704741379310345,
          0.771551724137931,
          0.771551724137931,
          0.7726293103448276,
          0.7726293103448276,
          0.7737068965517241,
          0.7737068965517241,
          0.7747844827586207,
          0.7747844827586207,
          0.7747844827586207,
          0.7747844827586207,
          0.7758620689655172,
          0.7758620689655172,
          0.7758620689655172,
          0.7758620689655172,
          0.7758620689655172,
          0.7758620689655172,
          0.7769396551724138,
          0.7769396551724138,
          0.7780172413793104,
          0.7780172413793104,
          0.7780172413793104,
          0.7780172413793104,
          0.7790948275862069,
          0.7790948275862069,
          0.7801724137931034,
          0.7801724137931034,
          0.7801724137931034,
          0.78125,
          0.78125,
          0.7823275862068966,
          0.7823275862068966,
          0.7834051724137931,
          0.7834051724137931,
          0.7844827586206896,
          0.7844827586206896,
          0.7855603448275862,
          0.7855603448275862,
          0.7866379310344828,
          0.7866379310344828,
          0.7866379310344828,
          0.7866379310344828,
          0.7877155172413793,
          0.7877155172413793,
          0.7887931034482759,
          0.7887931034482759,
          0.7898706896551724,
          0.7898706896551724,
          0.790948275862069,
          0.790948275862069,
          0.7920258620689655,
          0.7920258620689655,
          0.7931034482758621,
          0.7931034482758621,
          0.7941810344827587,
          0.7941810344827587,
          0.7952586206896551,
          0.7952586206896551,
          0.7963362068965517,
          0.7963362068965517,
          0.7974137931034483,
          0.7974137931034483,
          0.7974137931034483,
          0.7974137931034483,
          0.7984913793103449,
          0.7984913793103449,
          0.7984913793103449,
          0.7984913793103449,
          0.7995689655172413,
          0.7995689655172413,
          0.8006465517241379,
          0.8006465517241379,
          0.8006465517241379,
          0.8017241379310345,
          0.8017241379310345,
          0.802801724137931,
          0.802801724137931,
          0.802801724137931,
          0.802801724137931,
          0.8038793103448276,
          0.8038793103448276,
          0.8049568965517241,
          0.8049568965517241,
          0.8049568965517241,
          0.8049568965517241,
          0.8049568965517241,
          0.8049568965517241,
          0.8060344827586207,
          0.8060344827586207,
          0.8071120689655172,
          0.8071120689655172,
          0.8081896551724138,
          0.8081896551724138,
          0.8081896551724138,
          0.8092672413793104,
          0.8092672413793104,
          0.8114224137931034,
          0.8114224137931034,
          0.8125,
          0.8125,
          0.8135775862068966,
          0.8135775862068966,
          0.8146551724137931,
          0.8146551724137931,
          0.8146551724137931,
          0.8146551724137931,
          0.8146551724137931,
          0.8146551724137931,
          0.8157327586206896,
          0.8157327586206896,
          0.8168103448275862,
          0.8168103448275862,
          0.8168103448275862,
          0.8168103448275862,
          0.8178879310344828,
          0.8178879310344828,
          0.8178879310344828,
          0.8178879310344828,
          0.8189655172413793,
          0.8189655172413793,
          0.8189655172413793,
          0.8189655172413793,
          0.8200431034482759,
          0.8200431034482759,
          0.8200431034482759,
          0.8200431034482759,
          0.822198275862069,
          0.822198275862069,
          0.8232758620689655,
          0.8232758620689655,
          0.8243534482758621,
          0.8243534482758621,
          0.8243534482758621,
          0.8243534482758621,
          0.8243534482758621,
          0.8243534482758621,
          0.8254310344827587,
          0.8254310344827587,
          0.8254310344827587,
          0.8254310344827587,
          0.8265086206896551,
          0.8265086206896551,
          0.8265086206896551,
          0.8286637931034483,
          0.8286637931034483,
          0.8297413793103449,
          0.8297413793103449,
          0.8297413793103449,
          0.8297413793103449,
          0.8297413793103449,
          0.8297413793103449,
          0.8318965517241379,
          0.8318965517241379,
          0.8329741379310345,
          0.8329741379310345,
          0.834051724137931,
          0.834051724137931,
          0.834051724137931,
          0.8351293103448276,
          0.8351293103448276,
          0.8351293103448276,
          0.8351293103448276,
          0.8362068965517241,
          0.8362068965517241,
          0.8372844827586207,
          0.8372844827586207,
          0.8372844827586207,
          0.8372844827586207,
          0.8383620689655172,
          0.8383620689655172,
          0.8383620689655172,
          0.8383620689655172,
          0.8394396551724138,
          0.8394396551724138,
          0.8405172413793104,
          0.8405172413793104,
          0.8426724137931034,
          0.8426724137931034,
          0.8426724137931034,
          0.8426724137931034,
          0.8426724137931034,
          0.8426724137931034,
          0.8426724137931034,
          0.8426724137931034,
          0.84375,
          0.84375,
          0.8459051724137931,
          0.8459051724137931,
          0.8469827586206896,
          0.8469827586206896,
          0.8469827586206896,
          0.8469827586206896,
          0.8480603448275862,
          0.8480603448275862,
          0.8491379310344828,
          0.8491379310344828,
          0.8502155172413793,
          0.8502155172413793,
          0.8502155172413793,
          0.8502155172413793,
          0.8502155172413793,
          0.8502155172413793,
          0.8512931034482759,
          0.8512931034482759,
          0.8512931034482759,
          0.8512931034482759,
          0.8523706896551724,
          0.8523706896551724,
          0.8523706896551724,
          0.8523706896551724,
          0.8523706896551724,
          0.8523706896551724,
          0.853448275862069,
          0.853448275862069,
          0.853448275862069,
          0.853448275862069,
          0.8545258620689655,
          0.8545258620689655,
          0.8556034482758621,
          0.8556034482758621,
          0.8556034482758621,
          0.8556034482758621,
          0.8566810344827587,
          0.8566810344827587,
          0.8577586206896551,
          0.8577586206896551,
          0.8577586206896551,
          0.8577586206896551,
          0.8577586206896551,
          0.8577586206896551,
          0.8588362068965517,
          0.8588362068965517,
          0.8599137931034483,
          0.8599137931034483,
          0.8609913793103449,
          0.8609913793103449,
          0.8620689655172413,
          0.8620689655172413,
          0.8620689655172413,
          0.8620689655172413,
          0.8631465517241379,
          0.8631465517241379,
          0.8631465517241379,
          0.8631465517241379,
          0.8642241379310345,
          0.8642241379310345,
          0.865301724137931,
          0.865301724137931,
          0.8663793103448276,
          0.8663793103448276,
          0.8674568965517241,
          0.8674568965517241,
          0.8685344827586207,
          0.8685344827586207,
          0.8696120689655172,
          0.8696120689655172,
          0.8696120689655172,
          0.8696120689655172,
          0.8706896551724138,
          0.8706896551724138,
          0.8706896551724138,
          0.8706896551724138,
          0.8706896551724138,
          0.8706896551724138,
          0.8717672413793104,
          0.8717672413793104,
          0.8717672413793104,
          0.8717672413793104,
          0.8717672413793104,
          0.8717672413793104,
          0.8717672413793104,
          0.8717672413793104,
          0.8728448275862069,
          0.8728448275862069,
          0.8739224137931034,
          0.8739224137931034,
          0.875,
          0.875,
          0.8760775862068966,
          0.8760775862068966,
          0.8771551724137931,
          0.8771551724137931,
          0.8771551724137931,
          0.8771551724137931,
          0.8782327586206896,
          0.8782327586206896,
          0.8782327586206896,
          0.8782327586206896,
          0.8782327586206896,
          0.8782327586206896,
          0.8793103448275862,
          0.8793103448275862,
          0.8803879310344828,
          0.8803879310344828,
          0.8814655172413793,
          0.8814655172413793,
          0.8825431034482759,
          0.8825431034482759,
          0.8836206896551724,
          0.8836206896551724,
          0.8836206896551724,
          0.8836206896551724,
          0.8836206896551724,
          0.884698275862069,
          0.884698275862069,
          0.8857758620689655,
          0.8857758620689655,
          0.8868534482758621,
          0.8868534482758621,
          0.8879310344827587,
          0.8879310344827587,
          0.8890086206896551,
          0.8890086206896551,
          0.8890086206896551,
          0.8890086206896551,
          0.8890086206896551,
          0.8890086206896551,
          0.8890086206896551,
          0.8890086206896551,
          0.8890086206896551,
          0.8890086206896551,
          0.8911637931034483,
          0.8911637931034483,
          0.8922413793103449,
          0.8922413793103449,
          0.8933189655172413,
          0.8933189655172413,
          0.8933189655172413,
          0.8933189655172413,
          0.8943965517241379,
          0.8943965517241379,
          0.8943965517241379,
          0.8943965517241379,
          0.8954741379310345,
          0.8954741379310345,
          0.896551724137931,
          0.896551724137931,
          0.896551724137931,
          0.896551724137931,
          0.8976293103448276,
          0.8976293103448276,
          0.8987068965517241,
          0.8987068965517241,
          0.8987068965517241,
          0.8987068965517241,
          0.8997844827586207,
          0.8997844827586207,
          0.9008620689655172,
          0.9008620689655172,
          0.9008620689655172,
          0.9008620689655172,
          0.9008620689655172,
          0.9008620689655172,
          0.9019396551724138,
          0.9019396551724138,
          0.9019396551724138,
          0.9019396551724138,
          0.9030172413793104,
          0.9030172413793104,
          0.9040948275862069,
          0.9040948275862069,
          0.9040948275862069,
          0.9040948275862069,
          0.90625,
          0.90625,
          0.9073275862068966,
          0.9073275862068966,
          0.9073275862068966,
          0.9073275862068966,
          0.9084051724137931,
          0.9084051724137931,
          0.9094827586206896,
          0.9094827586206896,
          0.9105603448275862,
          0.9105603448275862,
          0.9116379310344828,
          0.9116379310344828,
          0.9127155172413793,
          0.9127155172413793,
          0.9137931034482759,
          0.9137931034482759,
          0.9148706896551724,
          0.9148706896551724,
          0.915948275862069,
          0.915948275862069,
          0.915948275862069,
          0.915948275862069,
          0.9181034482758621,
          0.9181034482758621,
          0.9191810344827587,
          0.9191810344827587,
          0.9202586206896551,
          0.9202586206896551,
          0.9202586206896551,
          0.9202586206896551,
          0.9213362068965517,
          0.9213362068965517,
          0.9234913793103449,
          0.9234913793103449,
          0.9234913793103449,
          0.9234913793103449,
          0.9245689655172413,
          0.9245689655172413,
          0.9256465517241379,
          0.9256465517241379,
          0.9267241379310345,
          0.9267241379310345,
          0.927801724137931,
          0.927801724137931,
          0.9288793103448276,
          0.9288793103448276,
          0.9299568965517241,
          0.9299568965517241,
          0.9310344827586207,
          0.9310344827586207,
          0.9321120689655172,
          0.9321120689655172,
          0.9331896551724138,
          0.9331896551724138,
          0.9342672413793104,
          0.9342672413793104,
          0.9342672413793104,
          0.9342672413793104,
          0.9353448275862069,
          0.9353448275862069,
          0.9364224137931034,
          0.9364224137931034,
          0.9375,
          0.9375,
          0.9385775862068966,
          0.9385775862068966,
          0.9396551724137931,
          0.9396551724137931,
          0.9407327586206896,
          0.9407327586206896,
          0.9418103448275862,
          0.9418103448275862,
          0.9428879310344828,
          0.9428879310344828,
          0.9439655172413793,
          0.9439655172413793,
          0.9461206896551724,
          0.9461206896551724,
          0.9461206896551724,
          0.9461206896551724,
          0.947198275862069,
          0.947198275862069,
          0.9482758620689655,
          0.9482758620689655,
          0.9493534482758621,
          0.9493534482758621,
          0.9493534482758621,
          0.9493534482758621,
          0.9504310344827587,
          0.9504310344827587,
          0.9515086206896551,
          0.9515086206896551,
          0.9525862068965517,
          0.9525862068965517,
          0.9536637931034483,
          0.9536637931034483,
          0.9547413793103449,
          0.9547413793103449,
          0.9558189655172413,
          0.9558189655172413,
          0.9568965517241379,
          0.9568965517241379,
          0.9568965517241379,
          0.9568965517241379,
          0.9579741379310345,
          0.9579741379310345,
          0.959051724137931,
          0.959051724137931,
          0.9601293103448276,
          0.9601293103448276,
          0.9601293103448276,
          0.9601293103448276,
          0.9612068965517241,
          0.9612068965517241,
          0.9622844827586207,
          0.9622844827586207,
          0.9633620689655172,
          0.9633620689655172,
          0.9644396551724138,
          0.9644396551724138,
          0.9655172413793104,
          0.9655172413793104,
          0.9665948275862069,
          0.9665948275862069,
          0.9676724137931034,
          0.9676724137931034,
          0.96875,
          0.96875,
          0.96875,
          0.96875,
          0.96875,
          0.96875,
          0.9709051724137931,
          0.9709051724137931,
          0.9709051724137931,
          0.9709051724137931,
          0.9719827586206896,
          0.9719827586206896,
          0.9741379310344828,
          0.9741379310344828,
          0.9752155172413793,
          0.9752155172413793,
          0.9752155172413793,
          0.9752155172413793,
          0.9762931034482759,
          0.9762931034482759,
          0.9762931034482759,
          0.9762931034482759,
          0.9773706896551724,
          0.9773706896551724,
          0.978448275862069,
          0.978448275862069,
          0.9795258620689655,
          0.9795258620689655,
          0.9806034482758621,
          0.9806034482758621,
          0.9816810344827587,
          0.9816810344827587,
          0.9827586206896551,
          0.9827586206896551,
          0.9838362068965517,
          0.9838362068965517,
          0.9849137931034483,
          0.9849137931034483,
          0.9849137931034483,
          0.9859913793103449,
          0.9859913793103449,
          0.9870689655172413,
          0.9870689655172413,
          0.9870689655172413,
          0.9870689655172413,
          0.9881465517241379,
          0.9881465517241379,
          0.9892241379310345,
          0.9892241379310345,
          0.990301724137931,
          0.990301724137931,
          0.990301724137931,
          0.990301724137931,
          0.9913793103448276,
          0.9913793103448276,
          0.9913793103448276,
          0.9913793103448276,
          0.9913793103448276,
          0.9913793103448276,
          0.9924568965517241,
          0.9924568965517241,
          0.9935344827586207,
          0.9935344827586207,
          0.9946120689655172,
          0.9946120689655172,
          0.9946120689655172,
          0.9946120689655172,
          0.9946120689655172,
          0.9946120689655172,
          0.9956896551724138,
          0.9956896551724138,
          0.9967672413793104,
          0.9967672413793104,
          0.9978448275862069,
          0.9978448275862069,
          0.9989224137931034,
          0.9989224137931034,
          1,
          1
         ]
        },
        {
         "line": {
          "dash": "dash"
         },
         "mode": "lines",
         "name": "Random Classifier",
         "type": "scatter",
         "x": [
          0,
          1
         ],
         "y": [
          0,
          1
         ]
        }
       ],
       "layout": {
        "template": {
         "data": {
          "bar": [
           {
            "error_x": {
             "color": "#2a3f5f"
            },
            "error_y": {
             "color": "#2a3f5f"
            },
            "marker": {
             "line": {
              "color": "#E5ECF6",
              "width": 0.5
             },
             "pattern": {
              "fillmode": "overlay",
              "size": 10,
              "solidity": 0.2
             }
            },
            "type": "bar"
           }
          ],
          "barpolar": [
           {
            "marker": {
             "line": {
              "color": "#E5ECF6",
              "width": 0.5
             },
             "pattern": {
              "fillmode": "overlay",
              "size": 10,
              "solidity": 0.2
             }
            },
            "type": "barpolar"
           }
          ],
          "carpet": [
           {
            "aaxis": {
             "endlinecolor": "#2a3f5f",
             "gridcolor": "white",
             "linecolor": "white",
             "minorgridcolor": "white",
             "startlinecolor": "#2a3f5f"
            },
            "baxis": {
             "endlinecolor": "#2a3f5f",
             "gridcolor": "white",
             "linecolor": "white",
             "minorgridcolor": "white",
             "startlinecolor": "#2a3f5f"
            },
            "type": "carpet"
           }
          ],
          "choropleth": [
           {
            "colorbar": {
             "outlinewidth": 0,
             "ticks": ""
            },
            "type": "choropleth"
           }
          ],
          "contour": [
           {
            "colorbar": {
             "outlinewidth": 0,
             "ticks": ""
            },
            "colorscale": [
             [
              0,
              "#0d0887"
             ],
             [
              0.1111111111111111,
              "#46039f"
             ],
             [
              0.2222222222222222,
              "#7201a8"
             ],
             [
              0.3333333333333333,
              "#9c179e"
             ],
             [
              0.4444444444444444,
              "#bd3786"
             ],
             [
              0.5555555555555556,
              "#d8576b"
             ],
             [
              0.6666666666666666,
              "#ed7953"
             ],
             [
              0.7777777777777778,
              "#fb9f3a"
             ],
             [
              0.8888888888888888,
              "#fdca26"
             ],
             [
              1,
              "#f0f921"
             ]
            ],
            "type": "contour"
           }
          ],
          "contourcarpet": [
           {
            "colorbar": {
             "outlinewidth": 0,
             "ticks": ""
            },
            "type": "contourcarpet"
           }
          ],
          "heatmap": [
           {
            "colorbar": {
             "outlinewidth": 0,
             "ticks": ""
            },
            "colorscale": [
             [
              0,
              "#0d0887"
             ],
             [
              0.1111111111111111,
              "#46039f"
             ],
             [
              0.2222222222222222,
              "#7201a8"
             ],
             [
              0.3333333333333333,
              "#9c179e"
             ],
             [
              0.4444444444444444,
              "#bd3786"
             ],
             [
              0.5555555555555556,
              "#d8576b"
             ],
             [
              0.6666666666666666,
              "#ed7953"
             ],
             [
              0.7777777777777778,
              "#fb9f3a"
             ],
             [
              0.8888888888888888,
              "#fdca26"
             ],
             [
              1,
              "#f0f921"
             ]
            ],
            "type": "heatmap"
           }
          ],
          "heatmapgl": [
           {
            "colorbar": {
             "outlinewidth": 0,
             "ticks": ""
            },
            "colorscale": [
             [
              0,
              "#0d0887"
             ],
             [
              0.1111111111111111,
              "#46039f"
             ],
             [
              0.2222222222222222,
              "#7201a8"
             ],
             [
              0.3333333333333333,
              "#9c179e"
             ],
             [
              0.4444444444444444,
              "#bd3786"
             ],
             [
              0.5555555555555556,
              "#d8576b"
             ],
             [
              0.6666666666666666,
              "#ed7953"
             ],
             [
              0.7777777777777778,
              "#fb9f3a"
             ],
             [
              0.8888888888888888,
              "#fdca26"
             ],
             [
              1,
              "#f0f921"
             ]
            ],
            "type": "heatmapgl"
           }
          ],
          "histogram": [
           {
            "marker": {
             "pattern": {
              "fillmode": "overlay",
              "size": 10,
              "solidity": 0.2
             }
            },
            "type": "histogram"
           }
          ],
          "histogram2d": [
           {
            "colorbar": {
             "outlinewidth": 0,
             "ticks": ""
            },
            "colorscale": [
             [
              0,
              "#0d0887"
             ],
             [
              0.1111111111111111,
              "#46039f"
             ],
             [
              0.2222222222222222,
              "#7201a8"
             ],
             [
              0.3333333333333333,
              "#9c179e"
             ],
             [
              0.4444444444444444,
              "#bd3786"
             ],
             [
              0.5555555555555556,
              "#d8576b"
             ],
             [
              0.6666666666666666,
              "#ed7953"
             ],
             [
              0.7777777777777778,
              "#fb9f3a"
             ],
             [
              0.8888888888888888,
              "#fdca26"
             ],
             [
              1,
              "#f0f921"
             ]
            ],
            "type": "histogram2d"
           }
          ],
          "histogram2dcontour": [
           {
            "colorbar": {
             "outlinewidth": 0,
             "ticks": ""
            },
            "colorscale": [
             [
              0,
              "#0d0887"
             ],
             [
              0.1111111111111111,
              "#46039f"
             ],
             [
              0.2222222222222222,
              "#7201a8"
             ],
             [
              0.3333333333333333,
              "#9c179e"
             ],
             [
              0.4444444444444444,
              "#bd3786"
             ],
             [
              0.5555555555555556,
              "#d8576b"
             ],
             [
              0.6666666666666666,
              "#ed7953"
             ],
             [
              0.7777777777777778,
              "#fb9f3a"
             ],
             [
              0.8888888888888888,
              "#fdca26"
             ],
             [
              1,
              "#f0f921"
             ]
            ],
            "type": "histogram2dcontour"
           }
          ],
          "mesh3d": [
           {
            "colorbar": {
             "outlinewidth": 0,
             "ticks": ""
            },
            "type": "mesh3d"
           }
          ],
          "parcoords": [
           {
            "line": {
             "colorbar": {
              "outlinewidth": 0,
              "ticks": ""
             }
            },
            "type": "parcoords"
           }
          ],
          "pie": [
           {
            "automargin": true,
            "type": "pie"
           }
          ],
          "scatter": [
           {
            "fillpattern": {
             "fillmode": "overlay",
             "size": 10,
             "solidity": 0.2
            },
            "type": "scatter"
           }
          ],
          "scatter3d": [
           {
            "line": {
             "colorbar": {
              "outlinewidth": 0,
              "ticks": ""
             }
            },
            "marker": {
             "colorbar": {
              "outlinewidth": 0,
              "ticks": ""
             }
            },
            "type": "scatter3d"
           }
          ],
          "scattercarpet": [
           {
            "marker": {
             "colorbar": {
              "outlinewidth": 0,
              "ticks": ""
             }
            },
            "type": "scattercarpet"
           }
          ],
          "scattergeo": [
           {
            "marker": {
             "colorbar": {
              "outlinewidth": 0,
              "ticks": ""
             }
            },
            "type": "scattergeo"
           }
          ],
          "scattergl": [
           {
            "marker": {
             "colorbar": {
              "outlinewidth": 0,
              "ticks": ""
             }
            },
            "type": "scattergl"
           }
          ],
          "scattermapbox": [
           {
            "marker": {
             "colorbar": {
              "outlinewidth": 0,
              "ticks": ""
             }
            },
            "type": "scattermapbox"
           }
          ],
          "scatterpolar": [
           {
            "marker": {
             "colorbar": {
              "outlinewidth": 0,
              "ticks": ""
             }
            },
            "type": "scatterpolar"
           }
          ],
          "scatterpolargl": [
           {
            "marker": {
             "colorbar": {
              "outlinewidth": 0,
              "ticks": ""
             }
            },
            "type": "scatterpolargl"
           }
          ],
          "scatterternary": [
           {
            "marker": {
             "colorbar": {
              "outlinewidth": 0,
              "ticks": ""
             }
            },
            "type": "scatterternary"
           }
          ],
          "surface": [
           {
            "colorbar": {
             "outlinewidth": 0,
             "ticks": ""
            },
            "colorscale": [
             [
              0,
              "#0d0887"
             ],
             [
              0.1111111111111111,
              "#46039f"
             ],
             [
              0.2222222222222222,
              "#7201a8"
             ],
             [
              0.3333333333333333,
              "#9c179e"
             ],
             [
              0.4444444444444444,
              "#bd3786"
             ],
             [
              0.5555555555555556,
              "#d8576b"
             ],
             [
              0.6666666666666666,
              "#ed7953"
             ],
             [
              0.7777777777777778,
              "#fb9f3a"
             ],
             [
              0.8888888888888888,
              "#fdca26"
             ],
             [
              1,
              "#f0f921"
             ]
            ],
            "type": "surface"
           }
          ],
          "table": [
           {
            "cells": {
             "fill": {
              "color": "#EBF0F8"
             },
             "line": {
              "color": "white"
             }
            },
            "header": {
             "fill": {
              "color": "#C8D4E3"
             },
             "line": {
              "color": "white"
             }
            },
            "type": "table"
           }
          ]
         },
         "layout": {
          "annotationdefaults": {
           "arrowcolor": "#2a3f5f",
           "arrowhead": 0,
           "arrowwidth": 1
          },
          "autotypenumbers": "strict",
          "coloraxis": {
           "colorbar": {
            "outlinewidth": 0,
            "ticks": ""
           }
          },
          "colorscale": {
           "diverging": [
            [
             0,
             "#8e0152"
            ],
            [
             0.1,
             "#c51b7d"
            ],
            [
             0.2,
             "#de77ae"
            ],
            [
             0.3,
             "#f1b6da"
            ],
            [
             0.4,
             "#fde0ef"
            ],
            [
             0.5,
             "#f7f7f7"
            ],
            [
             0.6,
             "#e6f5d0"
            ],
            [
             0.7,
             "#b8e186"
            ],
            [
             0.8,
             "#7fbc41"
            ],
            [
             0.9,
             "#4d9221"
            ],
            [
             1,
             "#276419"
            ]
           ],
           "sequential": [
            [
             0,
             "#0d0887"
            ],
            [
             0.1111111111111111,
             "#46039f"
            ],
            [
             0.2222222222222222,
             "#7201a8"
            ],
            [
             0.3333333333333333,
             "#9c179e"
            ],
            [
             0.4444444444444444,
             "#bd3786"
            ],
            [
             0.5555555555555556,
             "#d8576b"
            ],
            [
             0.6666666666666666,
             "#ed7953"
            ],
            [
             0.7777777777777778,
             "#fb9f3a"
            ],
            [
             0.8888888888888888,
             "#fdca26"
            ],
            [
             1,
             "#f0f921"
            ]
           ],
           "sequentialminus": [
            [
             0,
             "#0d0887"
            ],
            [
             0.1111111111111111,
             "#46039f"
            ],
            [
             0.2222222222222222,
             "#7201a8"
            ],
            [
             0.3333333333333333,
             "#9c179e"
            ],
            [
             0.4444444444444444,
             "#bd3786"
            ],
            [
             0.5555555555555556,
             "#d8576b"
            ],
            [
             0.6666666666666666,
             "#ed7953"
            ],
            [
             0.7777777777777778,
             "#fb9f3a"
            ],
            [
             0.8888888888888888,
             "#fdca26"
            ],
            [
             1,
             "#f0f921"
            ]
           ]
          },
          "colorway": [
           "#636efa",
           "#EF553B",
           "#00cc96",
           "#ab63fa",
           "#FFA15A",
           "#19d3f3",
           "#FF6692",
           "#B6E880",
           "#FF97FF",
           "#FECB52"
          ],
          "font": {
           "color": "#2a3f5f"
          },
          "geo": {
           "bgcolor": "white",
           "lakecolor": "white",
           "landcolor": "#E5ECF6",
           "showlakes": true,
           "showland": true,
           "subunitcolor": "white"
          },
          "hoverlabel": {
           "align": "left"
          },
          "hovermode": "closest",
          "mapbox": {
           "style": "light"
          },
          "paper_bgcolor": "white",
          "plot_bgcolor": "#E5ECF6",
          "polar": {
           "angularaxis": {
            "gridcolor": "white",
            "linecolor": "white",
            "ticks": ""
           },
           "bgcolor": "#E5ECF6",
           "radialaxis": {
            "gridcolor": "white",
            "linecolor": "white",
            "ticks": ""
           }
          },
          "scene": {
           "xaxis": {
            "backgroundcolor": "#E5ECF6",
            "gridcolor": "white",
            "gridwidth": 2,
            "linecolor": "white",
            "showbackground": true,
            "ticks": "",
            "zerolinecolor": "white"
           },
           "yaxis": {
            "backgroundcolor": "#E5ECF6",
            "gridcolor": "white",
            "gridwidth": 2,
            "linecolor": "white",
            "showbackground": true,
            "ticks": "",
            "zerolinecolor": "white"
           },
           "zaxis": {
            "backgroundcolor": "#E5ECF6",
            "gridcolor": "white",
            "gridwidth": 2,
            "linecolor": "white",
            "showbackground": true,
            "ticks": "",
            "zerolinecolor": "white"
           }
          },
          "shapedefaults": {
           "line": {
            "color": "#2a3f5f"
           }
          },
          "ternary": {
           "aaxis": {
            "gridcolor": "white",
            "linecolor": "white",
            "ticks": ""
           },
           "baxis": {
            "gridcolor": "white",
            "linecolor": "white",
            "ticks": ""
           },
           "bgcolor": "#E5ECF6",
           "caxis": {
            "gridcolor": "white",
            "linecolor": "white",
            "ticks": ""
           }
          },
          "title": {
           "x": 0.05
          },
          "xaxis": {
           "automargin": true,
           "gridcolor": "white",
           "linecolor": "white",
           "ticks": "",
           "title": {
            "standoff": 15
           },
           "zerolinecolor": "white",
           "zerolinewidth": 2
          },
          "yaxis": {
           "automargin": true,
           "gridcolor": "white",
           "linecolor": "white",
           "ticks": "",
           "title": {
            "standoff": 15
           },
           "zerolinecolor": "white",
           "zerolinewidth": 2
          }
         }
        },
        "title": {
         "text": "Receiver Operating Characteristic (ROC) Curve"
        },
        "xaxis": {
         "range": [
          0,
          1
         ],
         "title": {
          "text": "False Positive Rate"
         }
        },
        "yaxis": {
         "range": [
          0,
          1
         ],
         "title": {
          "text": "True Positive Rate"
         }
        }
       }
      }
     },
     "metadata": {},
     "output_type": "display_data"
    },
    {
     "name": "stdout",
     "output_type": "stream",
     "text": [
      "\n",
      "ROC AUC Score: 0.8142\n"
     ]
    }
   ],
   "source": [
    "# ROC Curve and AUC Score\n",
    "fpr, tpr, thresholds = roc_curve(y_test, y_pred_proba)\n",
    "roc_auc = roc_auc_score(y_test, y_pred_proba)\n",
    "fig = go.Figure()\n",
    "fig.add_trace(go.Scatter(x=fpr, y=tpr, mode='lines', name=f'ROC curve (area = {roc_auc:.2f})'))\n",
    "fig.add_trace(go.Scatter(x=[0, 1], y=[0, 1], mode='lines', name='Random Classifier', line=dict(dash='dash')))\n",
    "fig.update_layout(title='Receiver Operating Characteristic (ROC) Curve',\n",
    "                  xaxis_title='False Positive Rate', yaxis_title='True Positive Rate',\n",
    "                  xaxis_range=[0, 1], yaxis_range=[0, 1])\n",
    "fig.show()\n",
    "\n",
    "print(f\"\\nROC AUC Score: {roc_auc:.4f}\")"
   ]
  },
  {
   "cell_type": "code",
   "execution_count": 17,
   "id": "f6d8a773",
   "metadata": {},
   "outputs": [
    {
     "name": "stdout",
     "output_type": "stream",
     "text": [
      "\n",
      "Trained model saved as 'best_model.pkl'\n"
     ]
    }
   ],
   "source": [
    "# Save the trained model\n",
    "joblib.dump(best_model, './models/best_model.pkl')\n",
    "print(\"\\nTrained model saved as 'best_model.pkl'\")"
   ]
  },
  {
   "cell_type": "markdown",
   "id": "a281c87c",
   "metadata": {},
   "source": [
    "# 4. Feature Importance Analysis"
   ]
  },
  {
   "cell_type": "code",
   "execution_count": 19,
   "id": "30a937c8",
   "metadata": {},
   "outputs": [
    {
     "name": "stdout",
     "output_type": "stream",
     "text": [
      "\n",
      "Feature Importance Analysis:\n"
     ]
    },
    {
     "data": {
      "application/vnd.plotly.v1+json": {
       "config": {
        "plotlyServerURL": "https://plot.ly"
       },
       "data": [
        {
         "alignmentgroup": "True",
         "hovertemplate": "Importance=%{x}<br>Feature Name=%{y}<extra></extra>",
         "legendgroup": "",
         "marker": {
          "color": "#636efa",
          "pattern": {
           "shape": ""
          }
         },
         "name": "",
         "offsetgroup": "",
         "orientation": "h",
         "showlegend": false,
         "textposition": "auto",
         "type": "bar",
         "x": [
          4245,
          4071,
          2371,
          1081,
          1044,
          618,
          576,
          565,
          549,
          546,
          541,
          421,
          399,
          362,
          304,
          287,
          286,
          268,
          247,
          247
         ],
         "xaxis": "x",
         "y": [
          "num__age",
          "num__euribor3m",
          "num__campaign",
          "num__cons_price_idx",
          "num__cons_conf_idx",
          "num__previous",
          "cat__day_of_week_mon",
          "num__pdays",
          "cat__education_university.degree",
          "cat__housing_no",
          "cat__contact_cellular",
          "num__nr_employed",
          "cat__marital_single",
          "num__emp_var_rate",
          "cat__day_of_week_wed",
          "cat__loan_no",
          "cat__age_group_40-49",
          "cat__day_of_week_thu",
          "cat__job_blue-collar",
          "cat__job_admin."
         ],
         "yaxis": "y"
        }
       ],
       "layout": {
        "barmode": "relative",
        "legend": {
         "tracegroupgap": 0
        },
        "template": {
         "data": {
          "bar": [
           {
            "error_x": {
             "color": "#2a3f5f"
            },
            "error_y": {
             "color": "#2a3f5f"
            },
            "marker": {
             "line": {
              "color": "#E5ECF6",
              "width": 0.5
             },
             "pattern": {
              "fillmode": "overlay",
              "size": 10,
              "solidity": 0.2
             }
            },
            "type": "bar"
           }
          ],
          "barpolar": [
           {
            "marker": {
             "line": {
              "color": "#E5ECF6",
              "width": 0.5
             },
             "pattern": {
              "fillmode": "overlay",
              "size": 10,
              "solidity": 0.2
             }
            },
            "type": "barpolar"
           }
          ],
          "carpet": [
           {
            "aaxis": {
             "endlinecolor": "#2a3f5f",
             "gridcolor": "white",
             "linecolor": "white",
             "minorgridcolor": "white",
             "startlinecolor": "#2a3f5f"
            },
            "baxis": {
             "endlinecolor": "#2a3f5f",
             "gridcolor": "white",
             "linecolor": "white",
             "minorgridcolor": "white",
             "startlinecolor": "#2a3f5f"
            },
            "type": "carpet"
           }
          ],
          "choropleth": [
           {
            "colorbar": {
             "outlinewidth": 0,
             "ticks": ""
            },
            "type": "choropleth"
           }
          ],
          "contour": [
           {
            "colorbar": {
             "outlinewidth": 0,
             "ticks": ""
            },
            "colorscale": [
             [
              0,
              "#0d0887"
             ],
             [
              0.1111111111111111,
              "#46039f"
             ],
             [
              0.2222222222222222,
              "#7201a8"
             ],
             [
              0.3333333333333333,
              "#9c179e"
             ],
             [
              0.4444444444444444,
              "#bd3786"
             ],
             [
              0.5555555555555556,
              "#d8576b"
             ],
             [
              0.6666666666666666,
              "#ed7953"
             ],
             [
              0.7777777777777778,
              "#fb9f3a"
             ],
             [
              0.8888888888888888,
              "#fdca26"
             ],
             [
              1,
              "#f0f921"
             ]
            ],
            "type": "contour"
           }
          ],
          "contourcarpet": [
           {
            "colorbar": {
             "outlinewidth": 0,
             "ticks": ""
            },
            "type": "contourcarpet"
           }
          ],
          "heatmap": [
           {
            "colorbar": {
             "outlinewidth": 0,
             "ticks": ""
            },
            "colorscale": [
             [
              0,
              "#0d0887"
             ],
             [
              0.1111111111111111,
              "#46039f"
             ],
             [
              0.2222222222222222,
              "#7201a8"
             ],
             [
              0.3333333333333333,
              "#9c179e"
             ],
             [
              0.4444444444444444,
              "#bd3786"
             ],
             [
              0.5555555555555556,
              "#d8576b"
             ],
             [
              0.6666666666666666,
              "#ed7953"
             ],
             [
              0.7777777777777778,
              "#fb9f3a"
             ],
             [
              0.8888888888888888,
              "#fdca26"
             ],
             [
              1,
              "#f0f921"
             ]
            ],
            "type": "heatmap"
           }
          ],
          "heatmapgl": [
           {
            "colorbar": {
             "outlinewidth": 0,
             "ticks": ""
            },
            "colorscale": [
             [
              0,
              "#0d0887"
             ],
             [
              0.1111111111111111,
              "#46039f"
             ],
             [
              0.2222222222222222,
              "#7201a8"
             ],
             [
              0.3333333333333333,
              "#9c179e"
             ],
             [
              0.4444444444444444,
              "#bd3786"
             ],
             [
              0.5555555555555556,
              "#d8576b"
             ],
             [
              0.6666666666666666,
              "#ed7953"
             ],
             [
              0.7777777777777778,
              "#fb9f3a"
             ],
             [
              0.8888888888888888,
              "#fdca26"
             ],
             [
              1,
              "#f0f921"
             ]
            ],
            "type": "heatmapgl"
           }
          ],
          "histogram": [
           {
            "marker": {
             "pattern": {
              "fillmode": "overlay",
              "size": 10,
              "solidity": 0.2
             }
            },
            "type": "histogram"
           }
          ],
          "histogram2d": [
           {
            "colorbar": {
             "outlinewidth": 0,
             "ticks": ""
            },
            "colorscale": [
             [
              0,
              "#0d0887"
             ],
             [
              0.1111111111111111,
              "#46039f"
             ],
             [
              0.2222222222222222,
              "#7201a8"
             ],
             [
              0.3333333333333333,
              "#9c179e"
             ],
             [
              0.4444444444444444,
              "#bd3786"
             ],
             [
              0.5555555555555556,
              "#d8576b"
             ],
             [
              0.6666666666666666,
              "#ed7953"
             ],
             [
              0.7777777777777778,
              "#fb9f3a"
             ],
             [
              0.8888888888888888,
              "#fdca26"
             ],
             [
              1,
              "#f0f921"
             ]
            ],
            "type": "histogram2d"
           }
          ],
          "histogram2dcontour": [
           {
            "colorbar": {
             "outlinewidth": 0,
             "ticks": ""
            },
            "colorscale": [
             [
              0,
              "#0d0887"
             ],
             [
              0.1111111111111111,
              "#46039f"
             ],
             [
              0.2222222222222222,
              "#7201a8"
             ],
             [
              0.3333333333333333,
              "#9c179e"
             ],
             [
              0.4444444444444444,
              "#bd3786"
             ],
             [
              0.5555555555555556,
              "#d8576b"
             ],
             [
              0.6666666666666666,
              "#ed7953"
             ],
             [
              0.7777777777777778,
              "#fb9f3a"
             ],
             [
              0.8888888888888888,
              "#fdca26"
             ],
             [
              1,
              "#f0f921"
             ]
            ],
            "type": "histogram2dcontour"
           }
          ],
          "mesh3d": [
           {
            "colorbar": {
             "outlinewidth": 0,
             "ticks": ""
            },
            "type": "mesh3d"
           }
          ],
          "parcoords": [
           {
            "line": {
             "colorbar": {
              "outlinewidth": 0,
              "ticks": ""
             }
            },
            "type": "parcoords"
           }
          ],
          "pie": [
           {
            "automargin": true,
            "type": "pie"
           }
          ],
          "scatter": [
           {
            "fillpattern": {
             "fillmode": "overlay",
             "size": 10,
             "solidity": 0.2
            },
            "type": "scatter"
           }
          ],
          "scatter3d": [
           {
            "line": {
             "colorbar": {
              "outlinewidth": 0,
              "ticks": ""
             }
            },
            "marker": {
             "colorbar": {
              "outlinewidth": 0,
              "ticks": ""
             }
            },
            "type": "scatter3d"
           }
          ],
          "scattercarpet": [
           {
            "marker": {
             "colorbar": {
              "outlinewidth": 0,
              "ticks": ""
             }
            },
            "type": "scattercarpet"
           }
          ],
          "scattergeo": [
           {
            "marker": {
             "colorbar": {
              "outlinewidth": 0,
              "ticks": ""
             }
            },
            "type": "scattergeo"
           }
          ],
          "scattergl": [
           {
            "marker": {
             "colorbar": {
              "outlinewidth": 0,
              "ticks": ""
             }
            },
            "type": "scattergl"
           }
          ],
          "scattermapbox": [
           {
            "marker": {
             "colorbar": {
              "outlinewidth": 0,
              "ticks": ""
             }
            },
            "type": "scattermapbox"
           }
          ],
          "scatterpolar": [
           {
            "marker": {
             "colorbar": {
              "outlinewidth": 0,
              "ticks": ""
             }
            },
            "type": "scatterpolar"
           }
          ],
          "scatterpolargl": [
           {
            "marker": {
             "colorbar": {
              "outlinewidth": 0,
              "ticks": ""
             }
            },
            "type": "scatterpolargl"
           }
          ],
          "scatterternary": [
           {
            "marker": {
             "colorbar": {
              "outlinewidth": 0,
              "ticks": ""
             }
            },
            "type": "scatterternary"
           }
          ],
          "surface": [
           {
            "colorbar": {
             "outlinewidth": 0,
             "ticks": ""
            },
            "colorscale": [
             [
              0,
              "#0d0887"
             ],
             [
              0.1111111111111111,
              "#46039f"
             ],
             [
              0.2222222222222222,
              "#7201a8"
             ],
             [
              0.3333333333333333,
              "#9c179e"
             ],
             [
              0.4444444444444444,
              "#bd3786"
             ],
             [
              0.5555555555555556,
              "#d8576b"
             ],
             [
              0.6666666666666666,
              "#ed7953"
             ],
             [
              0.7777777777777778,
              "#fb9f3a"
             ],
             [
              0.8888888888888888,
              "#fdca26"
             ],
             [
              1,
              "#f0f921"
             ]
            ],
            "type": "surface"
           }
          ],
          "table": [
           {
            "cells": {
             "fill": {
              "color": "#EBF0F8"
             },
             "line": {
              "color": "white"
             }
            },
            "header": {
             "fill": {
              "color": "#C8D4E3"
             },
             "line": {
              "color": "white"
             }
            },
            "type": "table"
           }
          ]
         },
         "layout": {
          "annotationdefaults": {
           "arrowcolor": "#2a3f5f",
           "arrowhead": 0,
           "arrowwidth": 1
          },
          "autotypenumbers": "strict",
          "coloraxis": {
           "colorbar": {
            "outlinewidth": 0,
            "ticks": ""
           }
          },
          "colorscale": {
           "diverging": [
            [
             0,
             "#8e0152"
            ],
            [
             0.1,
             "#c51b7d"
            ],
            [
             0.2,
             "#de77ae"
            ],
            [
             0.3,
             "#f1b6da"
            ],
            [
             0.4,
             "#fde0ef"
            ],
            [
             0.5,
             "#f7f7f7"
            ],
            [
             0.6,
             "#e6f5d0"
            ],
            [
             0.7,
             "#b8e186"
            ],
            [
             0.8,
             "#7fbc41"
            ],
            [
             0.9,
             "#4d9221"
            ],
            [
             1,
             "#276419"
            ]
           ],
           "sequential": [
            [
             0,
             "#0d0887"
            ],
            [
             0.1111111111111111,
             "#46039f"
            ],
            [
             0.2222222222222222,
             "#7201a8"
            ],
            [
             0.3333333333333333,
             "#9c179e"
            ],
            [
             0.4444444444444444,
             "#bd3786"
            ],
            [
             0.5555555555555556,
             "#d8576b"
            ],
            [
             0.6666666666666666,
             "#ed7953"
            ],
            [
             0.7777777777777778,
             "#fb9f3a"
            ],
            [
             0.8888888888888888,
             "#fdca26"
            ],
            [
             1,
             "#f0f921"
            ]
           ],
           "sequentialminus": [
            [
             0,
             "#0d0887"
            ],
            [
             0.1111111111111111,
             "#46039f"
            ],
            [
             0.2222222222222222,
             "#7201a8"
            ],
            [
             0.3333333333333333,
             "#9c179e"
            ],
            [
             0.4444444444444444,
             "#bd3786"
            ],
            [
             0.5555555555555556,
             "#d8576b"
            ],
            [
             0.6666666666666666,
             "#ed7953"
            ],
            [
             0.7777777777777778,
             "#fb9f3a"
            ],
            [
             0.8888888888888888,
             "#fdca26"
            ],
            [
             1,
             "#f0f921"
            ]
           ]
          },
          "colorway": [
           "#636efa",
           "#EF553B",
           "#00cc96",
           "#ab63fa",
           "#FFA15A",
           "#19d3f3",
           "#FF6692",
           "#B6E880",
           "#FF97FF",
           "#FECB52"
          ],
          "font": {
           "color": "#2a3f5f"
          },
          "geo": {
           "bgcolor": "white",
           "lakecolor": "white",
           "landcolor": "#E5ECF6",
           "showlakes": true,
           "showland": true,
           "subunitcolor": "white"
          },
          "hoverlabel": {
           "align": "left"
          },
          "hovermode": "closest",
          "mapbox": {
           "style": "light"
          },
          "paper_bgcolor": "white",
          "plot_bgcolor": "#E5ECF6",
          "polar": {
           "angularaxis": {
            "gridcolor": "white",
            "linecolor": "white",
            "ticks": ""
           },
           "bgcolor": "#E5ECF6",
           "radialaxis": {
            "gridcolor": "white",
            "linecolor": "white",
            "ticks": ""
           }
          },
          "scene": {
           "xaxis": {
            "backgroundcolor": "#E5ECF6",
            "gridcolor": "white",
            "gridwidth": 2,
            "linecolor": "white",
            "showbackground": true,
            "ticks": "",
            "zerolinecolor": "white"
           },
           "yaxis": {
            "backgroundcolor": "#E5ECF6",
            "gridcolor": "white",
            "gridwidth": 2,
            "linecolor": "white",
            "showbackground": true,
            "ticks": "",
            "zerolinecolor": "white"
           },
           "zaxis": {
            "backgroundcolor": "#E5ECF6",
            "gridcolor": "white",
            "gridwidth": 2,
            "linecolor": "white",
            "showbackground": true,
            "ticks": "",
            "zerolinecolor": "white"
           }
          },
          "shapedefaults": {
           "line": {
            "color": "#2a3f5f"
           }
          },
          "ternary": {
           "aaxis": {
            "gridcolor": "white",
            "linecolor": "white",
            "ticks": ""
           },
           "baxis": {
            "gridcolor": "white",
            "linecolor": "white",
            "ticks": ""
           },
           "bgcolor": "#E5ECF6",
           "caxis": {
            "gridcolor": "white",
            "linecolor": "white",
            "ticks": ""
           }
          },
          "title": {
           "x": 0.05
          },
          "xaxis": {
           "automargin": true,
           "gridcolor": "white",
           "linecolor": "white",
           "ticks": "",
           "title": {
            "standoff": 15
           },
           "zerolinecolor": "white",
           "zerolinewidth": 2
          },
          "yaxis": {
           "automargin": true,
           "gridcolor": "white",
           "linecolor": "white",
           "ticks": "",
           "title": {
            "standoff": 15
           },
           "zerolinecolor": "white",
           "zerolinewidth": 2
          }
         }
        },
        "title": {
         "text": "Top 20 Feature Importances"
        },
        "xaxis": {
         "anchor": "y",
         "domain": [
          0,
          1
         ],
         "title": {
          "text": "Importance"
         }
        },
        "yaxis": {
         "anchor": "x",
         "categoryorder": "total ascending",
         "domain": [
          0,
          1
         ],
         "title": {
          "text": "Feature Name"
         }
        }
       }
      }
     },
     "metadata": {},
     "output_type": "display_data"
    }
   ],
   "source": [
    "print(\"\\nFeature Importance Analysis:\")\n",
    "feature_importances = best_model.feature_importances_\n",
    "\n",
    "# Get the feature names from the preprocessor\n",
    "feature_names = preprocessor.get_feature_names_out()\n",
    "importance_df = pd.DataFrame({'feature': feature_names, 'importance': feature_importances})\n",
    "importance_df = importance_df.sort_values('importance', ascending=False).reset_index(drop=True)\n",
    "\n",
    "fig_feat_imp = px.bar(importance_df.head(20), x='importance', y='feature',\n",
    "                       orientation='h',\n",
    "                       title='Top 20 Feature Importances',\n",
    "                       labels={'importance': 'Importance', 'feature': 'Feature Name'})\n",
    "fig_feat_imp.update_layout(yaxis={'categoryorder':'total ascending'})\n",
    "fig_feat_imp.show()"
   ]
  }
 ],
 "metadata": {
  "kernelspec": {
   "display_name": "Python 3",
   "language": "python",
   "name": "python3"
  },
  "language_info": {
   "codemirror_mode": {
    "name": "ipython",
    "version": 3
   },
   "file_extension": ".py",
   "mimetype": "text/x-python",
   "name": "python",
   "nbconvert_exporter": "python",
   "pygments_lexer": "ipython3",
   "version": "3.11.9"
  }
 },
 "nbformat": 4,
 "nbformat_minor": 5
}
